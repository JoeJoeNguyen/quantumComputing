{
 "cells": [
  {
   "cell_type": "code",
   "execution_count": 4,
   "id": "6a806d80",
   "metadata": {},
   "outputs": [],
   "source": [
    "from scipy.optimize import fsolve\n",
    "import numpy as np"
   ]
  },
  {
   "cell_type": "code",
   "execution_count": 5,
   "id": "e2e8c6d6",
   "metadata": {},
   "outputs": [
    {
     "data": {
      "text/plain": [
       "'def equations(vars):\\n    x,y,a,b,k,z = vars\\n\\n    eq1 = x**2 + y**2 - 1\\n\\n    eq2 = k**2 +z**2 - 1\\n\\n    eq3 = ( (1 - j)*k*z * ((-1+j)*b*x*y + a(y**2 + j*x**2)) + (z**2 - j*k**2) * ((1-j)*a*x*y + b*(y**2 + j*x**2)) ) + j \\n\\n    eq4 = (1 - j)*k*z * ((1-j)*a*x*y + b(y**2 + j*x**2)) + (k**2 + j*z**2) * ((-1+j)*b*x*y + a*(y**2 + j*x**2)) \\n\\n    eq5 = (1 - j)*k*z * ((1-j)*a*x*y - b(x**2 + j*y**2)) + (z**2 - j*k**2) * ((1-j)*b*x*y + a*(x**2 + j*y**2))\\n\\n    eq6 = ( (1 - j)*k*z * ((1-j)*b*x*y + a(x**2 + j*y**2)) + (k**2 + j*z**2) * ((1-j)*a*x*y - b*(x**2 + j*y**2)) ) -j\\n    return [eq1, eq2, eq3, eq4, eq5, eq6]\\n\\nx, y, a, b, k, z = fsolve(equations, (1, 0, 1, 0, 1, 0))'"
      ]
     },
     "execution_count": 5,
     "metadata": {},
     "output_type": "execute_result"
    }
   ],
   "source": [
    "'''def equations(vars):\n",
    "    x,y,a,b,k,z = vars\n",
    "\n",
    "    eq1 = x**2 + y**2 - 1\n",
    "\n",
    "    eq2 = k**2 +z**2 - 1\n",
    "\n",
    "    eq3 = ( (1 - j)*k*z * ((-1+j)*b*x*y + a(y**2 + j*x**2)) + (z**2 - j*k**2) * ((1-j)*a*x*y + b*(y**2 + j*x**2)) ) + j \n",
    "\n",
    "    eq4 = (1 - j)*k*z * ((1-j)*a*x*y + b(y**2 + j*x**2)) + (k**2 + j*z**2) * ((-1+j)*b*x*y + a*(y**2 + j*x**2)) \n",
    "\n",
    "    eq5 = (1 - j)*k*z * ((1-j)*a*x*y - b(x**2 + j*y**2)) + (z**2 - j*k**2) * ((1-j)*b*x*y + a*(x**2 + j*y**2))\n",
    "\n",
    "    eq6 = ( (1 - j)*k*z * ((1-j)*b*x*y + a(x**2 + j*y**2)) + (k**2 + j*z**2) * ((1-j)*a*x*y - b*(x**2 + j*y**2)) ) -j\n",
    "    return [eq1, eq2, eq3, eq4, eq5, eq6]\n",
    "\n",
    "x, y, a, b, k, z = fsolve(equations, (1, 0, 1, 0, 1, 0))'''"
   ]
  },
  {
   "cell_type": "code",
   "execution_count": 6,
   "id": "762afac6",
   "metadata": {},
   "outputs": [
    {
     "name": "stdout",
     "output_type": "stream",
     "text": [
      "{a: 0, b: -1, k: 0, x: -1, y: 0, z: -1}\n",
      "{a: 0, b: -1, k: 0, x: -1, y: 0, z: 1}\n",
      "{a: 0, b: -1, k: 0, x: 1, y: 0, z: -1}\n",
      "{a: 0, b: -1, k: 0, x: 1, y: 0, z: 1}\n",
      "{a: 0, b: -I, k: -1, x: -1, y: 0, z: 0}\n",
      "{a: 0, b: -I, k: -1, x: 1, y: 0, z: 0}\n",
      "{a: 0, b: -I, k: 1, x: -1, y: 0, z: 0}\n",
      "{a: 0, b: -I, k: 1, x: 1, y: 0, z: 0}\n"
     ]
    }
   ],
   "source": [
    "from sympy import symbols, Eq, I, solve, simplify\n",
    "import math\n",
    "# Define symbols (real/complex allowed in SymPy)\n",
    "x, y, a, b, k, z = symbols('x y a b k z')\n",
    "j = I  # imaginary unit\n",
    "upper_left = -j\n",
    "lower_right = j\n",
    "# Define equations symbolically\n",
    "eq1 = Eq(x**2 + y**2 - 1, 0)\n",
    "eq2 = Eq(k**2 + z**2 - 1, 0)\n",
    "\n",
    "eq3 = Eq(\n",
    "    ( (1 - j)*k*z * ((-1 + j)*b*x*y + a*(y**2 + j*x**2)) +\n",
    "      (z**2 - j*k**2) * ((1 - j)*a*x*y + b*(y**2 + j*x**2)) ) - upper_left, 0)\n",
    "\n",
    "eq4 = Eq(\n",
    "    (1 - j)*k*z * ((1 - j)*a*x*y + b*(y**2 + j*x**2)) +\n",
    "    (k**2 + j*z**2) * ((-1 + j)*b*x*y + a*(y**2 + j*x**2)), 0)\n",
    "\n",
    "eq5 = Eq(\n",
    "    (1 - j)*k*z * ((1 - j)*a*x*y - b*(x**2 + j*y**2)) +\n",
    "    (z**2 - j*k**2) * ((1 - j)*b*x*y + a*(x**2 + j*y**2)), 0)\n",
    "\n",
    "eq6 = Eq(\n",
    "    ( (1 - j)*k*z * ((1 - j)*b*x*y + a*(x**2 + j*y**2)) +\n",
    "      (k**2 + j*z**2) * ((1 - j)*a*x*y - b*(x**2 + j*y**2)) ) - lower_right, 0)\n",
    "\n",
    "# Solve symbolically (may take a long time)\n",
    "solutions = solve([eq1, eq2, eq3, eq4, eq5, eq6], (x, y, a, b, k, z), dict=True)\n",
    "\n",
    "# View simplified solutions\n",
    "for sol in solutions:\n",
    "    print({k: simplify(v) for k, v in sol.items()})\n"
   ]
  }
 ],
 "metadata": {
  "kernelspec": {
   "display_name": "new_qiskit_env",
   "language": "python",
   "name": "python3"
  },
  "language_info": {
   "codemirror_mode": {
    "name": "ipython",
    "version": 3
   },
   "file_extension": ".py",
   "mimetype": "text/x-python",
   "name": "python",
   "nbconvert_exporter": "python",
   "pygments_lexer": "ipython3",
   "version": "3.12.4"
  }
 },
 "nbformat": 4,
 "nbformat_minor": 5
}
