{
 "cells": [
  {
   "cell_type": "code",
   "execution_count": 103,
   "id": "36e5714c",
   "metadata": {},
   "outputs": [
    {
     "name": "stdout",
     "output_type": "stream",
     "text": [
      "⎡1  0⎤\n",
      "⎢    ⎥\n",
      "⎣0  ⅈ⎦\n",
      "\n",
      "⎡      2         2                           ⎤\n",
      "⎢ ⅈ⋅sin (θ) + cos (θ)   (1 - ⅈ)⋅sin(θ)⋅cos(θ)⎥\n",
      "⎢                                            ⎥\n",
      "⎢                           2           2    ⎥\n",
      "⎣(1 - ⅈ)⋅sin(θ)⋅cos(θ)   sin (θ) + ⅈ⋅cos (θ) ⎦\n",
      "\n",
      "⎡    -ⅈ⋅α          ⎤\n",
      "⎢    ─────         ⎥\n",
      "⎢      2           ⎥\n",
      "⎢-ⅈ⋅ℯ          0   ⎥\n",
      "⎢                  ⎥\n",
      "⎢               ⅈ⋅α⎥\n",
      "⎢               ───⎥\n",
      "⎢                2 ⎥\n",
      "⎣    0      -ⅈ⋅ℯ   ⎦\n",
      "\n",
      "⎡ 1   ⅈ     1   ⅈ⎤\n",
      "⎢ ─ + ─   - ─ + ─⎥\n",
      "⎢ 2   2     2   2⎥\n",
      "⎢                ⎥\n",
      "⎢  1   ⅈ   1   ⅈ ⎥\n",
      "⎢- ─ + ─   ─ + ─ ⎥\n",
      "⎣  2   2   2   2 ⎦\n",
      "\n",
      "⎡   2⎛φ⎞      2⎛φ⎞         ⎛φ⎞    ⎛φ⎞  ⎤\n",
      "⎢sin ⎜─⎟ - cos ⎜─⎟    2⋅sin⎜─⎟⋅cos⎜─⎟  ⎥\n",
      "⎢    ⎝4⎠       ⎝4⎠         ⎝4⎠    ⎝4⎠  ⎥\n",
      "⎢                                      ⎥\n",
      "⎢      ⎛φ⎞    ⎛φ⎞        2⎛φ⎞      2⎛φ⎞⎥\n",
      "⎢ 2⋅sin⎜─⎟⋅cos⎜─⎟   - sin ⎜─⎟ + cos ⎜─⎟⎥\n",
      "⎣      ⎝4⎠    ⎝4⎠         ⎝4⎠       ⎝4⎠⎦\n",
      "\n"
     ]
    }
   ],
   "source": [
    "from sympy import cos, sin, exp, pi, Matrix, symbols\n",
    "from sympy import I  # imaginary unit\n",
    "from sympy import simplify, solve, Eq\n",
    "from sympy.utilities.iterables import permutations\n",
    "from sympy import pretty\n",
    "\n",
    "j = I  # imaginary unit\n",
    "theta, phi, omega, alpha = symbols('theta phi omega alpha')\n",
    "#Quarter wave plate with fast axis horizontal \n",
    "QWP0 = Matrix([[1, 0],\n",
    "               [0, j]])\n",
    "print(pretty(QWP0) + \"\\n\")\n",
    "# Quarter wave plate with fast axis at angle theta/omega wrt the x-axis\n",
    "QWP1 = Matrix([[(cos(theta))**2 + j*(sin(theta))**2, (1 - j)*sin(theta)*cos(theta)],\n",
    "                [(1 - j)*sin(theta)*cos(theta), (sin(theta))**2 + j*(cos(theta))**2]])\n",
    "print(pretty(QWP1) + \"\\n\")\n",
    "QWP2 = Matrix([[(cos(omega))**2 + j*(sin(omega))**2, (1 - j)*sin(omega)*cos(omega)],\n",
    "                [(1 - j)*sin(omega)*cos(omega), (sin(omega))**2 + j*(cos(omega))**2]])\n",
    "\n",
    "# Half wave plate with fast axis at angle phi wrt the x-axis\n",
    "HWP = Matrix([[(cos(phi))**2 - (sin(phi))**2, 2*sin(phi)*cos(phi)],\n",
    "              [2*sin(phi)*cos(phi), (sin(phi))**2 - (cos(phi))**2]])\n",
    "\n",
    "#Haft wave plate rotated by an angle\n",
    "\n",
    "HWP_a = Matrix([[cos(2*alpha), sin(2*alpha)],\n",
    "                [sin(2*alpha), -cos(2*alpha)]])\n",
    "\n",
    "\n",
    "#Dove Prims (spatial mode)\n",
    "DP = Matrix([[cos(omega), -sin(omega)],\n",
    "             [sin(omega), cos(omega)]])\n",
    "\n",
    "#finding the real solution to any of the combinatioons of the 2 QWPs and HWP\n",
    "angles = [pi, pi/2, pi/4, 0, -pi/4, -pi/2, -pi]\n",
    "\n",
    "# Rz gate with angle alpha\n",
    "Rz = Matrix([[exp(-j*alpha/2), 0],\n",
    "            [0, exp(j*alpha/2)]])\n",
    "\n",
    "#add global phase I to Rz\n",
    "Rz_I = -j * Rz \n",
    "\n",
    "print(pretty(Rz_I) + \"\\n\")\n",
    "\n",
    "\n",
    "def combination2(QWP1, HWP, QWP0):\n",
    "\n",
    "    #set theta of QWP1 to -pi/4:\n",
    "    QWP1_2 = QWP1.subs(theta, -pi/4)\n",
    "    print(pretty(QWP1_2)+ \"\\n\")\n",
    "    #set phi of HWP to pi/2 - phi/4)\n",
    "    HWP_1 = HWP.subs(phi, pi/2 - phi/4)\n",
    "    print(pretty(HWP_1)+ \"\\n\")\n",
    "    combination_matrix = QWP0 * QWP1_2 * HWP_1 * QWP1_2 * QWP0\n",
    "\n",
    "    return combination_matrix\n",
    "\n",
    "combination2 = combination2(QWP1, HWP, QWP0)\n",
    "\n",
    "\n",
    "\n",
    "    \n",
    "    "
   ]
  },
  {
   "cell_type": "code",
   "execution_count": 104,
   "id": "ccc6111b",
   "metadata": {},
   "outputs": [
    {
     "name": "stdout",
     "output_type": "stream",
     "text": [
      "⎡    -ⅈ⋅φ          ⎤\n",
      "⎢    ─────         ⎥\n",
      "⎢      2           ⎥\n",
      "⎢-ⅈ⋅ℯ          0   ⎥\n",
      "⎢                  ⎥\n",
      "⎢               ⅈ⋅φ⎥\n",
      "⎢               ───⎥\n",
      "⎢                2 ⎥\n",
      "⎣    0      -ⅈ⋅ℯ   ⎦\n",
      "\n"
     ]
    }
   ],
   "source": [
    "# Convert trigonometric functions to exponential form\n",
    "def trig_to_exp(expr):\n",
    "    return simplify(expr.rewrite(exp))\n",
    "\n",
    "exp_combination2 = combination2.applyfunc(trig_to_exp)\n",
    "print(pretty(exp_combination2) + \"\\n\")"
   ]
  },
  {
   "cell_type": "code",
   "execution_count": 105,
   "id": "709a4df3",
   "metadata": {},
   "outputs": [
    {
     "name": "stdout",
     "output_type": "stream",
     "text": [
      "Solutions for angle pi:\n",
      "(π,)\n",
      "\n",
      "\n",
      "\n",
      "\n",
      "Solutions for angle pi/2:\n",
      "⎛π ⎞\n",
      "⎜─,⎟\n",
      "⎝2 ⎠\n",
      "\n",
      "\n",
      "\n",
      "\n",
      "Solutions for angle pi/4:\n",
      "⎛π ⎞\n",
      "⎜─,⎟\n",
      "⎝4 ⎠\n",
      "\n",
      "\n",
      "\n",
      "\n",
      "Solutions for angle 0:\n",
      "(0,)\n",
      "\n",
      "\n",
      "\n",
      "\n",
      "Solutions for angle -pi/4:\n",
      "⎛-π  ⎞\n",
      "⎜───,⎟\n",
      "⎝ 4  ⎠\n",
      "\n",
      "\n",
      "\n",
      "\n",
      "Solutions for angle -pi/2:\n",
      "⎛-π  ⎞\n",
      "⎜───,⎟\n",
      "⎝ 2  ⎠\n",
      "\n",
      "\n",
      "\n",
      "\n",
      "Solutions for angle -pi:\n",
      "(-π,)\n",
      "\n",
      "\n",
      "\n",
      "\n"
     ]
    }
   ],
   "source": [
    "for angle in angles:\n",
    "    Rz_angle = Rz_I.subs(alpha, angle)\n",
    "    equation = Eq(exp_combination2, Rz_angle)\n",
    "    solutions = solve(equation, phi)\n",
    "    print(f\"Solutions for angle {angle}:\")\n",
    "    for sol in solutions:\n",
    "        print(pretty(simplify(sol)))\n",
    "        print(\"\\n\")\n",
    "    print(\"\\n\")\n",
    "\n"
   ]
  },
  {
   "cell_type": "markdown",
   "id": "891fee77",
   "metadata": {},
   "source": [
    "Hadamard gate"
   ]
  },
  {
   "cell_type": "code",
   "execution_count": 106,
   "id": "2772d46d",
   "metadata": {},
   "outputs": [
    {
     "name": "stdout",
     "output_type": "stream",
     "text": [
      "⎡√2   √2 ⎤\n",
      "⎢──   ── ⎥\n",
      "⎢2    2  ⎥\n",
      "⎢        ⎥\n",
      "⎢√2  -√2 ⎥\n",
      "⎢──  ────⎥\n",
      "⎣2    2  ⎦\n",
      "\n"
     ]
    }
   ],
   "source": [
    "#Polarization\n",
    "H = HWP_a.subs(alpha, pi/8)\n",
    "\n",
    "print(pretty(H) + \"\\n\")\n",
    "\n"
   ]
  },
  {
   "cell_type": "code",
   "execution_count": null,
   "id": "0f23fd69",
   "metadata": {},
   "outputs": [
    {
     "name": "stdout",
     "output_type": "stream",
     "text": [
      "⎡√2   √2 ⎤\n",
      "⎢──   ── ⎥\n",
      "⎢2    2  ⎥\n",
      "⎢        ⎥\n",
      "⎢√2  -√2 ⎥\n",
      "⎢──  ────⎥\n",
      "⎣2    2  ⎦\n",
      "\n"
     ]
    }
   ],
   "source": [
    "hadamard = Matrix([[1, 1],\n",
    "                   [1, -1]]) \n",
    "Mirror = Matrix([[1, 0],\n",
    "                    [0, -1]])\n",
    "dp = DP.subs(omega, pi/4)\n",
    "hadamard_reflection = dp * Mirror\n",
    "print(pretty(hadamard_reflection) + \"\\n\")"
   ]
  },
  {
   "cell_type": "code",
   "execution_count": 111,
   "id": "2e32291b",
   "metadata": {},
   "outputs": [
    {
     "name": "stdout",
     "output_type": "stream",
     "text": [
      "⎡1⎤\n",
      "⎢ ⎥\n",
      "⎣0⎦\n",
      "\n",
      "⎡0 ⎤\n",
      "⎢  ⎥\n",
      "⎣-ⅈ⎦\n",
      "\n"
     ]
    }
   ],
   "source": [
    "S_dagger = Matrix([[1, 0],\n",
    "                   [0, -j]])\n",
    "zero_qubit = Matrix([[1],\n",
    "                    [0]])\n",
    "onequbit = Matrix([[0],\n",
    "                    [1]])\n",
    "print(pretty( S_dagger * zero_qubit) + \"\\n\")\n",
    "print(pretty( S_dagger * onequbit) + \"\\n\")"
   ]
  },
  {
   "cell_type": "code",
   "execution_count": null,
   "id": "82af83e0",
   "metadata": {},
   "outputs": [],
   "source": []
  }
 ],
 "metadata": {
  "kernelspec": {
   "display_name": "new_qiskit_env",
   "language": "python",
   "name": "python3"
  },
  "language_info": {
   "codemirror_mode": {
    "name": "ipython",
    "version": 3
   },
   "file_extension": ".py",
   "mimetype": "text/x-python",
   "name": "python",
   "nbconvert_exporter": "python",
   "pygments_lexer": "ipython3",
   "version": "3.12.4"
  }
 },
 "nbformat": 4,
 "nbformat_minor": 5
}
