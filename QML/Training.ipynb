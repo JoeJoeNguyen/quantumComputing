{
 "cells": [
  {
   "cell_type": "markdown",
   "metadata": {},
   "source": [
    "$\\text{Training Parameterized Quantum Circuit}$"
   ]
  },
  {
   "cell_type": "code",
   "execution_count": 40,
   "metadata": {},
   "outputs": [],
   "source": [
    "#Importing\n",
    "\n",
    "import qiskit\n",
    "import numpy as np\n",
    "import math\n",
    "from qiskit import QuantumCircuit,QuantumRegister,transpile, ClassicalRegister\n",
    "from qiskit.quantum_info import DensityMatrix, Operator\n",
    "from qiskit_aer import AerSimulator, Aer\n",
    "from qiskit.visualization import plot_histogram, plot_bloch_vector, plot_bloch_multivector, plot_state_city, plot_state_qsphere, array_to_latex\n",
    "from qiskit.quantum_info import Statevector, random_statevector\n",
    "from  math import pi, sqrt\n",
    "from qiskit.circuit.library import Initialize\n",
    "from qiskit.circuit.library import IGate\n",
    "from qiskit.circuit.library import RealAmplitudes\n",
    "mpl = 'mpl'\n"
   ]
  },
  {
   "cell_type": "code",
   "execution_count": 41,
   "metadata": {},
   "outputs": [
    {
     "data": {
      "image/png": "[encoded data removed]",
      "text/plain": [
       "<Figure size 370.906x200.667 with 1 Axes>"
      ]
     },
     "execution_count": 41,
     "metadata": {},
     "output_type": "execute_result"
    }
   ],
   "source": [
    "from qiskit.circuit.library import RealAmplitudes\n",
    "ansatz = RealAmplitudes(num_qubits=2, reps=1,entanglement='linear')\n",
    "ansatz.decompose().draw(mpl)"
   ]
  },
  {
   "cell_type": "code",
   "execution_count": 42,
   "metadata": {},
   "outputs": [
    {
     "name": "stdout",
     "output_type": "stream",
     "text": [
      "Pauli('ZZ')\n"
     ]
    }
   ],
   "source": [
    "# we define the hamiltonian H = Z ^ Z \n",
    "\n",
    "from qiskit.quantum_info import Pauli, SparsePauliOp\n",
    "\n",
    "Z = Pauli('Z')\n",
    "\n",
    "hamiltonian = Z ^ Z\n",
    "\n",
    "print(repr(hamiltonian))\n"
   ]
  },
  {
   "cell_type": "code",
   "execution_count": null,
   "metadata": {},
   "outputs": [],
   "source": [
    "\n",
    "\n"
   ]
  },
  {
   "cell_type": "code",
   "execution_count": null,
   "metadata": {},
   "outputs": [],
   "source": []
  }
 ],
 "metadata": {
  "kernelspec": {
   "display_name": "Qiskit",
   "language": "python",
   "name": "python3"
  },
  "language_info": {
   "codemirror_mode": {
    "name": "ipython",
    "version": 3
   },
   "file_extension": ".py",
   "mimetype": "text/x-python",
   "name": "python",
   "nbconvert_exporter": "python",
   "pygments_lexer": "ipython3",
   "version": "3.12.4"
  }
 },
 "nbformat": 4,
 "nbformat_minor": 2
}
