
                "        optimized_params = gradient_descent(cost=cost_function, initial_params=initial_params, max_iter=10, learning_rate=0.1)\n",
                "        self.assertEqual(len(optimized_params), len(initial_params))\n",
                "        self.assertTrue(np.all(np.isfinite(optimized_params)))\n"
            ]
        },
        {
            "cell_type": "code",
            "metadata": {
                "id": "run_tests",
                "language": "python"
            },
            "source": [
                "if __name__ == '__main__':\n",
                "    unittest.main(argv=[''], exit=False)"
            ]
        }
    ]
}