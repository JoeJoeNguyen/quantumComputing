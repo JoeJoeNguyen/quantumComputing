{
 "cells": [
  {
   "cell_type": "code",
   "execution_count": 2,
   "metadata": {},
   "outputs": [],
   "source": [
    "from qiskit_nature.second_q.drivers import PySCFDriver\n",
    "\n",
    "driver = PySCFDriver()\n",
    "problem = driver.run()\n",
    "fermionic_op = problem.hamiltonian.second_q_op()"
   ]
  },
  {
   "cell_type": "code",
   "execution_count": 3,
   "metadata": {},
   "outputs": [
    {
     "name": "stdout",
     "output_type": "stream",
     "text": [
      "Fermionic Operator\n",
      "number spin orbitals=4, number terms=36\n",
      "  -1.25633907300325 * ( +_0 -_0 )\n",
      "+ -0.47189600728114184 * ( +_1 -_1 )\n",
      "+ -1.25633907300325 * ( +_2 -_2 )\n",
      "+ -0.47189600728114184 * ( +_3 -_3 )\n",
      "+ 0.33785507740175813 * ( +_0 +_0 -_0 -_0 )\n",
      "+ 0.33229086512764816 * ( +_0 +_1 -_1 -_0 )\n",
      "+ 0.33785507740175813 * ( +_0 +_2 -_2 -_0 )\n",
      "+ 0.33229086512764816 * ( +_0 +_3 -_3 -_0 )\n",
      "+ 0.0904655998921157 * ( +_0 +_0 -_1 -_1 )\n",
      "+ 0.0904655998921157 * ( +_0 +_1 -_0 -_1 )\n",
      "+ 0.0904655998921157 * ( +_0 +_2 -_3 -_1 )\n",
      "+ 0.0904655998921157 * ( +_0 +_3 -_2 -_1 )\n",
      "+ 0.0904655998921157 * ( +_1 +_0 -_1 -_0 )\n",
      "+ 0.0904655998921157 * ( +_1 +_1 -_0 -_0 )\n",
      "+ 0.0904655998921157 * ( +_1 +_2 -_3 -_0 )\n",
      "+ 0.0904655998921157 * ( +_1 +_3 -_2 -_0 )\n",
      "+ 0.33229086512764816 * ( +_1 +_0 -_0 -_1 )\n",
      "+ 0.34928686136600906 * ( +_1 +_1 -_1 -_1 )\n",
      "+ 0.33229086512764816 * ( +_1 +_2 -_2 -_1 )\n",
      "+ 0.34928686136600906 * ( +_1 +_3 -_3 -_1 )\n",
      "+ 0.33785507740175813 * ( +_2 +_0 -_0 -_2 )\n",
      "+ 0.33229086512764816 * ( +_2 +_1 -_1 -_2 )\n",
      "+ 0.33785507740175813 * ( +_2 +_2 -_2 -_2 )\n",
      "+ 0.33229086512764816 * ( +_2 +_3 -_3 -_2 )\n",
      "+ 0.0904655998921157 * ( +_2 +_0 -_1 -_3 )\n",
      "+ 0.0904655998921157 * ( +_2 +_1 -_0 -_3 )\n",
      "+ 0.0904655998921157 * ( +_2 +_2 -_3 -_3 )\n",
      "+ 0.0904655998921157 * ( +_2 +_3 -_2 -_3 )\n",
      "+ 0.0904655998921157 * ( +_3 +_0 -_1 -_2 )\n",
      "+ 0.0904655998921157 * ( +_3 +_1 -_0 -_2 )\n",
      "+ 0.0904655998921157 * ( +_3 +_2 -_3 -_2 )\n",
      "+ 0.0904655998921157 * ( +_3 +_3 -_2 -_2 )\n",
      "+ 0.33229086512764816 * ( +_3 +_0 -_0 -_3 )\n",
      "+ 0.34928686136600906 * ( +_3 +_1 -_1 -_3 )\n",
      "+ 0.33229086512764816 * ( +_3 +_2 -_2 -_3 )\n",
      "+ 0.34928686136600906 * ( +_3 +_3 -_3 -_3 )\n"
     ]
    }
   ],
   "source": [
    "print(fermionic_op)"
   ]
  },
  {
   "cell_type": "code",
   "execution_count": 4,
   "metadata": {},
   "outputs": [
    {
     "name": "stdout",
     "output_type": "stream",
     "text": [
      "SparsePauliOp(['IIII', 'IIIZ', 'IIZI', 'IZII', 'ZIII', 'IIZZ', 'IZIZ', 'ZIIZ', 'YYYY', 'XXYY', 'YYXX', 'XXXX', 'IZZI', 'ZIZI', 'ZZII'],\n",
      "              coeffs=[-0.81054798+0.j,  0.17218393+0.j, -0.22575349+0.j,  0.17218393+0.j,\n",
      " -0.22575349+0.j,  0.12091263+0.j,  0.16892754+0.j,  0.16614543+0.j,\n",
      "  0.0452328 +0.j,  0.0452328 +0.j,  0.0452328 +0.j,  0.0452328 +0.j,\n",
      "  0.16614543+0.j,  0.17464343+0.j,  0.12091263+0.j])\n"
     ]
    }
   ],
   "source": [
    "from qiskit_nature.second_q.mappers import JordanWignerMapper\n",
    "\n",
    "mapper = JordanWignerMapper()\n",
    "qubit_jw_op = mapper.map(fermionic_op)\n",
    "print(qubit_jw_op)"
   ]
  },
  {
   "cell_type": "code",
   "execution_count": null,
   "metadata": {},
   "outputs": [],
   "source": []
  }
 ],
 "metadata": {
  "kernelspec": {
   "display_name": "new_qiskit_env",
   "language": "python",
   "name": "python3"
  },
  "language_info": {
   "codemirror_mode": {
    "name": "ipython",
    "version": 3
   },
   "file_extension": ".py",
   "mimetype": "text/x-python",
   "name": "python",
   "nbconvert_exporter": "python",
   "pygments_lexer": "ipython3",
   "version": "3.12.4"
  }
 },
 "nbformat": 4,
 "nbformat_minor": 2
}
