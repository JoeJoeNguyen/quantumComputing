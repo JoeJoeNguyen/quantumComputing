{
 "cells": [
  {
   "cell_type": "code",
   "execution_count": 267,
   "metadata": {},
   "outputs": [],
   "source": [
    "from qiskit_nature.units import DistanceUnit\n",
    "from qiskit_nature.second_q.drivers import PySCFDriver\n",
    "import matplotlib.pyplot as plt\n",
    "from qiskit.quantum_info import Z2Symmetries, SparsePauliOp, Operator\n",
    "driver = PySCFDriver(\n",
    "    atom=\"He 0 0 0; H+ 0 0 0.772\",\n",
    "    basis=\"sto-3g\",\n",
    "    charge=1,\n",
    "    spin=0,\n",
    ")\n",
    "\n",
    "problem = driver.run()\n",
    "#print(problem)"
   ]
  },
  {
   "cell_type": "code",
   "execution_count": 268,
   "metadata": {},
   "outputs": [
    {
     "name": "stdout",
     "output_type": "stream",
     "text": [
      "spatial orbitals:  2\n",
      "spin orbitals:  4\n",
      "num particles:  (1, 1)\n"
     ]
    }
   ],
   "source": [
    "fermionic_op = problem.hamiltonian.second_q_op()\n",
    "#print(fermionic_op)\n",
    "print('spatial orbitals: ', problem.num_spatial_orbitals)\n",
    "print('spin orbitals: ', problem.num_spin_orbitals)\n",
    "print('num particles: ', problem.num_particles)\n"
   ]
  },
  {
   "cell_type": "code",
   "execution_count": 269,
   "metadata": {},
   "outputs": [
    {
     "name": "stdout",
     "output_type": "stream",
     "text": [
      "SparsePauliOp(['IIII', 'IIIZ', 'IIYY', 'IIXX', 'IIZI', 'IZII', 'YYII', 'XXII', 'ZIII', 'IIZZ', 'IZIZ', 'YYIZ', 'XXIZ', 'ZIIZ', 'IZYY', 'IZXX', 'YYYY', 'XXYY', 'YYXX', 'XXXX', 'ZIYY', 'ZIXX', 'IZZI', 'YYZI', 'XXZI', 'ZIZI', 'ZZII'],\n",
      "              coeffs=[-2.91290137+0.j,  0.75891361+0.j,  0.05246557+0.j,  0.05246557+0.j,\n",
      "  0.19140054+0.j,  0.75891361+0.j,  0.05246557+0.j,  0.05246557+0.j,\n",
      "  0.19140054+0.j,  0.12887694+0.j,  0.23578727+0.j,  0.04322997+0.j,\n",
      "  0.04322997+0.j,  0.16528642+0.j,  0.04322997+0.j,  0.04322997+0.j,\n",
      "  0.03640948+0.j,  0.03640948+0.j,  0.03640948+0.j,  0.03640948+0.j,\n",
      " -0.00923466+0.j, -0.00923466+0.j,  0.16528642+0.j, -0.00923466+0.j,\n",
      " -0.00923466+0.j,  0.18815906+0.j,  0.12887694+0.j])\n"
     ]
    },
    {
     "data": {
      "text/latex": [
       "$\\displaystyle \\begin{bmatrix}\n",
       "-0.000+0.000j & 0.000+0.000j & 0.000+0.000j & 0.000+0.000j & 0.000+0.000j & 0.000+0.000j & 0.000+0.000j & 0.000+0.000j & 0.000+0.000j & 0.000+0.000j & 0.000+0.000j & 0.000+0.000j & 0.000+0.000j & 0.000+0.000j & 0.000+0.000j & 0.000+0.000j \\\\\n",
       "0.000+0.000j & -2.578+0.000j & 0.173+0.000j & 0.000+0.000j & 0.000+0.000j & 0.000+0.000j & 0.000+0.000j & 0.000+0.000j & 0.000+0.000j & 0.000+0.000j & 0.000+0.000j & 0.000+0.000j & 0.000+0.000j & 0.000+0.000j & 0.000+0.000j & 0.000+0.000j \\\\\n",
       "0.000+0.000j & 0.173+0.000j & -1.347+0.000j & 0.000+0.000j & 0.000+0.000j & 0.000+0.000j & 0.000+0.000j & 0.000+0.000j & 0.000+0.000j & 0.000+0.000j & 0.000+0.000j & 0.000+0.000j & 0.000+0.000j & 0.000+0.000j & 0.000+0.000j & 0.000+0.000j \\\\\n",
       "0.000+0.000j & 0.000+0.000j & 0.000+0.000j & -3.410+0.000j & 0.000+0.000j & 0.000+0.000j & 0.000+0.000j & 0.000+0.000j & 0.000+0.000j & 0.000+0.000j & 0.000+0.000j & 0.000+0.000j & 0.000+0.000j & 0.000+0.000j & 0.000+0.000j & 0.000+0.000j \\\\\n",
       "0.000+0.000j & 0.000+0.000j & 0.000+0.000j & 0.000+0.000j & -2.578+0.000j & 0.000+0.000j & 0.000+0.000j & 0.000+0.000j & 0.173+0.000j & 0.000+0.000j & 0.000+0.000j & 0.000+0.000j & 0.000+0.000j & 0.000+0.000j & 0.000+0.000j & 0.000+0.000j \\\\\n",
       "0.000+0.000j & 0.000+0.000j & 0.000+0.000j & 0.000+0.000j & 0.000+0.000j & -4.212+0.000j & 0.000+0.000j & 0.000+0.000j & 0.000+0.000j & 0.000+0.000j & 0.146+0.000j & 0.000+0.000j & 0.000+0.000j & 0.000+0.000j & 0.000+0.000j & 0.000+0.000j \\\\\n",
       "0.000+0.000j & 0.000+0.000j & 0.000+0.000j & 0.000+0.000j & 0.000+0.000j & 0.000+0.000j & -3.264+0.000j & 0.000+0.000j & 0.000+0.000j & 0.146+0.000j & 0.210+0.000j & 0.000+0.000j & 0.000+0.000j & 0.000+0.000j & 0.000+0.000j & 0.000+0.000j \\\\\n",
       "0.000+0.000j & 0.000+0.000j & 0.000+0.000j & 0.000+0.000j & 0.000+0.000j & 0.000+0.000j & 0.000+0.000j & -4.383+0.000j & 0.000+0.000j & 0.000+0.000j & 0.000+0.000j & 0.037+0.000j & 0.000+0.000j & 0.000+0.000j & 0.000+0.000j & 0.000+0.000j \\\\\n",
       "0.000+0.000j & 0.000+0.000j & 0.000+0.000j & 0.000+0.000j & 0.173+0.000j & 0.000+0.000j & 0.000+0.000j & 0.000+0.000j & -1.347+0.000j & 0.000+0.000j & 0.000+0.000j & 0.000+0.000j & 0.000+0.000j & 0.000+0.000j & 0.000+0.000j & 0.000+0.000j \\\\\n",
       "0.000+0.000j & 0.000+0.000j & 0.000+0.000j & 0.000+0.000j & 0.000+0.000j & 0.000+0.000j & 0.146+0.000j & 0.000+0.000j & 0.000+0.000j & -3.264+0.000j & 0.210+0.000j & 0.000+0.000j & 0.000+0.000j & 0.000+0.000j & 0.000+0.000j & 0.000+0.000j \\\\\n",
       "\\end{bmatrix}\n",
       "\\begin{bmatrix}\n",
       "0.000+0.000j & 0.000+0.000j & 0.000+0.000j & 0.000+0.000j & 0.000+0.000j & 0.146+0.000j & 0.210+0.000j & 0.000+0.000j & 0.000+0.000j & 0.210+0.000j & -1.942+0.000j & 0.000+0.000j & 0.000+0.000j & 0.000+0.000j & 0.000+0.000j & 0.000+0.000j \\\\\n",
       "0.000+0.000j & 0.000+0.000j & 0.000+0.000j & 0.000+0.000j & 0.000+0.000j & 0.000+0.000j & 0.000+0.000j & 0.037+0.000j & 0.000+0.000j & 0.000+0.000j & 0.000+0.000j & -3.343+0.000j & 0.000+0.000j & 0.000+0.000j & 0.000+0.000j & 0.000+0.000j \\\\\n",
       "0.000+0.000j & 0.000+0.000j & 0.000+0.000j & 0.000+0.000j & 0.000+0.000j & 0.000+0.000j & 0.000+0.000j & 0.000+0.000j & 0.000+0.000j & 0.000+0.000j & 0.000+0.000j & 0.000+0.000j & -3.410+0.000j & 0.000+0.000j & 0.000+0.000j & 0.000+0.000j \\\\\n",
       "0.000+0.000j & 0.000+0.000j & 0.000+0.000j & 0.000+0.000j & 0.000+0.000j & 0.000+0.000j & 0.000+0.000j & 0.000+0.000j & 0.000+0.000j & 0.000+0.000j & 0.000+0.000j & 0.000+0.000j & 0.000+0.000j & -4.383+0.000j & 0.037+0.000j & 0.000+0.000j \\\\\n",
       "0.000+0.000j & 0.000+0.000j & 0.000+0.000j & 0.000+0.000j & 0.000+0.000j & 0.000+0.000j & 0.000+0.000j & 0.000+0.000j & 0.000+0.000j & 0.000+0.000j & 0.000+0.000j & 0.000+0.000j & 0.000+0.000j & 0.037+0.000j & -3.343+0.000j & 0.000+0.000j \\\\\n",
       "0.000+0.000j & 0.000+0.000j & 0.000+0.000j & 0.000+0.000j & 0.000+0.000j & 0.000+0.000j & 0.000+0.000j & 0.000+0.000j & 0.000+0.000j & 0.000+0.000j & 0.000+0.000j & 0.000+0.000j & 0.000+0.000j & 0.000+0.000j & 0.000+0.000j & -3.801+0.000j \\\\\n",
       "\\end{bmatrix}$"
      ],
      "text/plain": [
       "<IPython.core.display.Math object>"
      ]
     },
     "metadata": {},
     "output_type": "display_data"
    },
    {
     "data": {
      "text/latex": [
       "$$\n",
       "\n",
       "\\begin{bmatrix}\n",
       "0 & 0 & 0 & 0 & \\cdots & 0 & 0 & 0  \\\\\n",
       " 0 & -2.5777284964 & 0.17292176 & 0 & \\cdots & 0 & 0 & 0  \\\\\n",
       " 0 & 0.17292176 & -1.3474459268 & 0 & \\cdots & 0 & 0 & 0  \\\\\n",
       " 0 & 0 & 0 & -3.4096666639 & \\cdots & 0 & 0 & 0  \\\\\n",
       " \\vdots & \\vdots & \\vdots & \\vdots & \\ddots & \\vdots & \\vdots & \\vdots \\\\\n",
       " 0 & 0 & 0 & 0 & \\cdots & -4.3831003805 & 0.0369405215 & 0  \\\\\n",
       " 0 & 0 & 0 & 0 & \\cdots & 0.0369405215 & -3.3433306754 & 0  \\\\\n",
       " 0 & 0 & 0 & 0 & \\cdots & 0 & 0 & -3.8012566326  \\\\\n",
       " \\end{bmatrix}\n",
       "$$"
      ],
      "text/plain": [
       "<IPython.core.display.Latex object>"
      ]
     },
     "execution_count": 269,
     "metadata": {},
     "output_type": "execute_result"
    }
   ],
   "source": [
    "from qiskit_nature.second_q.mappers import JordanWignerMapper, ParityMapper\n",
    "from IPython.display import display, Math\n",
    "\n",
    "mapper = JordanWignerMapper()\n",
    "qubit_jw_op = mapper.map(fermionic_op)\n",
    "print(qubit_jw_op)\n",
    "# Convert the operator to a matrix\n",
    "operator = Operator(qubit_jw_op)\n",
    "matrix = operator.data\n",
    "\n",
    "# Function to convert a matrix to a LaTeX string\n",
    "def matrix_to_latex(matrix, chunk_size=10):\n",
    "    latex_str = \"\\\\begin{bmatrix}\\n\"\n",
    "    for i, row in enumerate(matrix):\n",
    "        latex_str += \" & \".join([f\"{elem:.3f}\" for elem in row]) + \" \\\\\\\\\\n\"\n",
    "        if (i + 1) % chunk_size == 0:\n",
    "            latex_str += \"\\\\end{bmatrix}\\n\\\\begin{bmatrix}\\n\"\n",
    "    latex_str += \"\\\\end{bmatrix}\"\n",
    "    return latex_str\n",
    "\n",
    "# Convert the matrix to a LaTeX string in chunks\n",
    "latex_str = matrix_to_latex(matrix)\n",
    "\n",
    "# Display the LaTeX string\n",
    "display(Math(latex_str))\n",
    "\n",
    "Operator(qubit_jw_op).draw('latex')\n"
   ]
  },
  {
   "cell_type": "code",
   "execution_count": 270,
   "metadata": {},
   "outputs": [
    {
<<<<<<< HEAD
     "name": "stdout",
     "output_type": "stream",
     "text": [
      "[SparsePauliOp(['II', 'IZ', 'ZI', 'ZZ'],\n",
      "              coeffs=[-2.65514749+0.j,  0.95031416+0.j,  0.95031416+0.j,  0.75451917+0.j]), SparsePauliOp(['II', 'IZ', 'ZI', 'XI', 'ZZ', 'XZ'],\n",
      "              coeffs=[-2.91290137+0.j,  0.95031416+0.j, -0.56751307+0.j, -0.10493114+0.j,\n",
      " -0.04762822+0.j, -0.06799062+0.j]), SparsePauliOp(['II', 'IZ', 'IX', 'ZI', 'ZZ', 'ZX'],\n",
      "              coeffs=[-2.91290137+0.j, -0.56751307+0.j, -0.10493114+0.j,  0.95031416+0.j,\n",
      " -0.04762822+0.j, -0.06799062+0.j]), SparsePauliOp(['II', 'IZ', 'IX', 'ZI', 'XI', 'ZZ', 'XZ', 'ZX', 'XX'],\n",
      "              coeffs=[-3.17065525+0.j, -0.56751307+0.j, -0.10493114+0.j, -0.56751307+0.j,\n",
      " -0.10493114+0.j,  0.09337348+0.j,  0.10492927+0.j,  0.10492927+0.j,\n",
      "  0.14563793+0.j])]\n"
     ]
    },
    {
=======
>>>>>>> eb95b26 (mac update)
     "data": {
      "text/latex": [
       "$$\n",
       "\n",
       "\\begin{bmatrix}\n",
       "0 & 0 & 0 & 0 & \\cdots & 0 & 0 & 0  \\\\\n",
       " 0 & -2.5777284964 & 0.17292176 & 0 & \\cdots & 0 & 0 & 0  \\\\\n",
       " 0 & 0.17292176 & -1.3474459268 & 0 & \\cdots & 0 & 0 & 0  \\\\\n",
       " 0 & 0 & 0 & -3.4096666639 & \\cdots & 0 & 0 & 0  \\\\\n",
       " \\vdots & \\vdots & \\vdots & \\vdots & \\ddots & \\vdots & \\vdots & \\vdots \\\\\n",
       " 0 & 0 & 0 & 0 & \\cdots & -4.3831003805 & 0.0369405215 & 0  \\\\\n",
       " 0 & 0 & 0 & 0 & \\cdots & 0.0369405215 & -3.3433306754 & 0  \\\\\n",
       " 0 & 0 & 0 & 0 & \\cdots & 0 & 0 & -3.8012566326  \\\\\n",
       " \\end{bmatrix}\n",
       "$$"
      ],
      "text/plain": [
       "<IPython.core.display.Latex object>"
      ]
     },
     "execution_count": 270,
     "metadata": {},
     "output_type": "execute_result"
    }
   ],
   "source": [
    "\n",
    "def reduce_operator(op, reduced=False):\n",
    "    if reduced:\n",
    "        z2_symmetries = Z2Symmetries.find_z2_symmetries(op)\n",
    "        newOp = Z2Symmetries(z2_symmetries.symmetries, z2_symmetries.sq_paulis, z2_symmetries.sq_list)\n",
    "        tapered_ops = newOp.taper(op)\n",
    "        print(tapered_ops)\n",
    "        first_tapered_op = tapered_ops[1]\n",
    "        return first_tapered_op\n",
    "    else:\n",
    "        return op\n",
    "    \n",
    "operator = reduce_operator(qubit_jw_op, reduced=False)\n",
    "\n",
    "\n",
    "#print('sq_list: ',Z2Symmetries.find_z2_symmetries(qubit_jw_op).sq_list)\n",
    "#print('sq_paulis: ',Z2Symmetries.find_z2_symmetries(qubit_jw_op).sq_paulis)\n",
    "#print('Symmetries: ',Z2Symmetries.find_z2_symmetries(qubit_jw_op).symmetries)\n",
    "\n",
    "Operator(operator).draw('latex')\n"
   ]
  },
  {
   "cell_type": "code",
   "execution_count": 271,
   "metadata": {},
   "outputs": [],
   "source": [
    "cost_history_dict = {\n",
    "    \"prev_vector\": None,\n",
    "    \"iters\": 0,\n",
    "    \"cost_history\": [],\n",
    "}\n",
    "\n"
   ]
  },
  {
   "cell_type": "code",
   "execution_count": 272,
   "metadata": {},
   "outputs": [
    {
     "data": {
      "image/png": "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",
      "text/plain": [
       "<Figure size 538.33x367.889 with 1 Axes>"
      ]
     },
     "execution_count": 272,
     "metadata": {},
     "output_type": "execute_result"
    }
   ],
   "source": [
    "from qiskit_algorithms.optimizers import SLSQP,SPSA,COBYLA, L_BFGS_B\n",
    "from qiskit_algorithms import VQE\n",
    "from qiskit.circuit.library import RealAmplitudes\n",
    "from qiskit.primitives import StatevectorEstimator\n",
    "estimator = StatevectorEstimator()\n",
    "ansatz = RealAmplitudes(operator.num_qubits, reps=1)\n",
    "optimizer = SLSQP()\n",
    "ansatz.decompose().draw('mpl')"
   ]
  },
  {
   "cell_type": "code",
   "execution_count": 273,
   "metadata": {},
   "outputs": [],
   "source": [
    "def cost_func_vqe(parameters, ansatz, hamiltonian, estimator):\n",
    "    \"\"\"Return estimate of energy from estimator\n",
    "\n",
    "    Parameters:\n",
    "        params (ndarray): Array of ansatz parameters\n",
    "        ansatz (QuantumCircuit): Parameterized ansatz circuit\n",
    "        hamiltonian (SparsePauliOp): Operator representation of Hamiltonian\n",
    "        estimator (Estimator): Estimator primitive instance\n",
    "\n",
    "    Returns:\n",
    "        float: Energy estimate\n",
    "    \"\"\"\n",
    "\n",
    "    estimator_job = estimator.run([(ansatz, hamiltonian, [parameters])])\n",
    "    estimator_result = estimator_job.result()[0]\n",
    "\n",
    "    cost = estimator_result.data.evs[0]\n",
    "    cost_history_dict[\"iters\"] += 1\n",
    "    cost_history_dict[\"prev_vector\"] = parameters\n",
    "    cost_history_dict[\"cost_history\"].append(cost)\n",
    "    return cost"
   ]
  },
  {
   "cell_type": "code",
   "execution_count": 274,
   "metadata": {},
   "outputs": [],
   "source": [
    "from scipy.optimize import minimize\n",
    "import numpy as np\n",
    "initial_params = np.random.uniform(low= -np.pi, high=np.pi, size=ansatz.num_parameters)"
   ]
  },
  {
   "cell_type": "code",
   "execution_count": 275,
   "metadata": {},
   "outputs": [
    {
     "name": "stdout",
     "output_type": "stream",
     "text": [
      " message: Optimization terminated successfully.\n",
      " success: True\n",
      "  status: 1\n",
<<<<<<< HEAD
      "     fun: -4.384411128958386\n",
      "       x: [ 1.868e+00  1.571e+00  1.273e+00 -1.500e+00]\n",
      "    nfev: 65\n",
=======
      "     fun: -4.384411118666242\n",
      "       x: [ 7.091e-02  3.420e-05 -3.722e+00 -1.571e+00  3.142e+00\n",
      "            1.019e-04 -5.802e-01 -1.571e+00]\n",
      "    nfev: 209\n",
>>>>>>> eb95b26 (mac update)
      "   maxcv: 0.0\n"
     ]
    }
   ],
   "source": [
    "result = minimize(cost_func_vqe, initial_params, args=(ansatz, operator, estimator), method=\"COBYLA\",options={'maxiter': 12000})\n",
    "print(result)"
   ]
  },
  {
   "cell_type": "code",
   "execution_count": 276,
   "metadata": {},
   "outputs": [
    {
     "data": {
<<<<<<< HEAD
      "image/png": "iVBORw0KGgoAAAANSUhEUgAAAksAAAGwCAYAAAC5ACFFAAAAOXRFWHRTb2Z0d2FyZQBNYXRwbG90bGliIHZlcnNpb24zLjkuMiwgaHR0cHM6Ly9tYXRwbG90bGliLm9yZy8hTgPZAAAACXBIWXMAAA9hAAAPYQGoP6dpAABMMklEQVR4nO3deXxU9b3/8fdkkpmQPSQhAQmEHSJBFAQC1opQwOJVKlavV0EsF6WiVooK3J8rCPRWy7Ui12qr4NZrUaAKdSGIxqqAyKKyRdnTJIQlkMkCk2XO748wkwyZTEJIMpnM6/l4zMPknO85851Dmrz7Od/v95gMwzAEAAAAj4J83QEAAIDWjLAEAADgBWEJAADAC8ISAACAF4QlAAAALwhLAAAAXhCWAAAAvAj2dQfaAofDodzcXEVGRspkMvm6OwAAoAEMw1BRUZE6deqkoKC660eEpSaQm5ur5ORkX3cDAAA0QnZ2tjp37lznfsJSE4iMjJRUdbGjoqJ83BsAANAQNptNycnJrr/jdSEsNQHnrbeoqCjCEgAAfqa+ITQM8AYAAPCCsAQAAOAFYQkAAMALwhIAAIAXhCUAAAAvCEsAAABeEJYAAAC8ICwBAAB4QVgCAADwgrAEAADgBWEJAADAC8ISAACAF4SlVqzEXqHv/1Xo624AABDQCEutlO1sufo/+bH+7YUvZDtb7uvuAAAQsAhLrVRUaIg6RoVKkvbmFfm4NwAABC7CUiuW2ilKkrQnz+bjngAAELgIS61Yv45VYWl3LmEJAABfISy1YqnnwtKeo4QlAAB8hbDUijkrS3uPFqmi0uHj3gAAEJgIS61Yl/ZhCreYVVbh0METJb7uDgAAAYmw1IoFBZnU1zluiUHeAAD4BGGplevXMVISYQkAAF/xi7B06NAhTZ06Vd26dVO7du3Uo0cPPfHEEyorK/N63DXXXCOTyeT2mj59ulubI0eOaPz48QoLC1OHDh308MMPq6Kiojk/zgVJ7RgtiRlxAAD4SrCvO9AQe/fulcPh0EsvvaSePXtq586dmjZtmkpKSvTss896PXbatGmaN2+e6/uwsDDX15WVlRo/frySkpL01VdfKS8vT5MnT1ZISIgWLlzYbJ/nQjgrS3tYmBIAAJ/wi7A0btw4jRs3zvV99+7dlZWVpRdffLHesBQWFqakpCSP+9atW6fdu3dr/fr1SkxM1MCBAzV//nzNnj1bTz75pCwWS5N+jsbomxSlIJN0otiuY0Vn1SEy1NddAgAgoPjFbThPCgsL1b59+3rbvfXWW4qPj1f//v01d+5clZaWuvZt3LhRaWlpSkxMdG0bO3asbDabdu3aVec57Xa7bDab26u5tLOYlRIfLonqEgAAvuCXYWnfvn1asmSJ7rnnHq/t/uM//kNvvvmmPv30U82dO1dvvPGG7rjjDtf+o0ePugUlSa7vjx49Wud5Fy1apOjoaNcrOTn5Ij5N/VJZyRsAAJ/xaViaM2dOrQHY57/27t3rdkxOTo7GjRunX/7yl5o2bZrX8999990aO3as0tLSdPvtt+v111/X6tWrtX///ovq99y5c1VYWOh6ZWdnX9T56uNcnJJnxAEA0PJ8OmZp1qxZmjJlitc23bt3d32dm5urkSNHavjw4Xr55Zcv+P2GDh0qqaoy1aNHDyUlJenrr792a5Ofny9JdY5zkiSr1Sqr1XrB799YzgfqsnwAAAAtz6dhKSEhQQkJCQ1qm5OTo5EjR2rQoEFatmyZgoIuvCi2Y8cOSVLHjh0lSenp6VqwYIGOHTumDh06SJIyMjIUFRWl1NTUCz5/c3HehjtwvFhnyysVGmL2cY8AAAgcfjFmKScnR9dcc426dOmiZ599VsePH9fRo0fdxhXl5OSob9++rkrR/v37NX/+fG3dulWHDh3S+++/r8mTJ+vqq6/WgAEDJEljxoxRamqqJk2apG+//VYff/yxHn30Uc2YMaNFK0f16RBpVVy4RQ5D+iGfQd4AALQkv1g6ICMjQ/v27dO+ffvUuXNnt32GYUiSysvLlZWV5ZrtZrFYtH79ej333HMqKSlRcnKyJk6cqEcffdR1rNls1tq1a/XrX/9a6enpCg8P15133um2LlNrYDKZ1K9jlL7Yd0K7c20a0DnG110CACBgmAxn2kCj2Ww2RUdHq7CwUFFRUc3yHgv+sVt//udB3ZneVU/d2L9Z3gMAgEDS0L/ffnEbDgzyBgDAVwhLfqJ6+YAiORwUAwEAaCmEJT/RIyFCFnOQiu0V+tepM77uDgAAAYOw5CdCzEHqlRghiVtxAAC0JMKSH3E99oSwBABAiyEs+REeewIAQMsjLPkR14w4HqgLAECLISz5kX5JVWEp5/QZFZ4p93FvAAAIDIQlPxIdFqJLYtpJ4lYcAAAthbDkZxi3BABAyyIs+ZnUjpGSGLcEAEBLISz5Gecg7z1HCUsAALQEwpKfcd6G++FoscorHT7uDQAAbR9hyc8kx4YpwhqsskqHDhwv8XV3AABo8whLfiYoyKS+SefGLeUV+rg3AAC0fYQlP+Qat5RX5OOeAADQ9gX7ugO4cJ6WD3A4DP14rFhbDhXom0MFigwN0VM3XKqgIJOvugkAQJtAWPJDzrD0fU6h/vezffrm0Cl9c6hAtrMVbu1uHtRZlyXH+KCHAAC0HYQlP9QnMVJBJul0abl+/1GWa3u7ELOu6Bqj3bk2nSotl+0sj0QBAOBiEZb8UDuLWbcN6aJP9x7TZckxGpzSXlemxKpfxyiFmIM08cWvtPXwKZXYK+o/GQAA8Iqw5KcW/CKtzn3h1qp/1mJ7ZUt1BwCANovZcG1Q5LmwRGUJAICLR1hqg8KtZklSMWEJAICLRlhqg6pvwxGWAAC4WISlNiiC23AAADQZwlIbRGUJAICmQ1hqg6gsAQDQdAhLbVB1WGLpAAAALhZhqQ3iNhwAAE2HsNQGsXQAAABNh7DUBjFmCQCApkNYaoO4DQcAQNPxi7B06NAhTZ06Vd26dVO7du3Uo0cPPfHEEyorK/N6jMlk8vh65513XO087X/77bdb4mM1m5qPOzEMw8e9AQDAv/nFg3T37t0rh8Ohl156ST179tTOnTs1bdo0lZSU6Nlnn/V4THJysvLy8ty2vfzyy3rmmWd03XXXuW1ftmyZxo0b5/o+JiamyT9DS3JWlhyGdLbcoXYWs497BACA//KLsDRu3Di3MNO9e3dlZWXpxRdfrDMsmc1mJSUluW1bvXq1brnlFkVERLhtj4mJqdXWn4VZzDKZJMOQiuzlhCUAAC6CX9yG86SwsFDt27dvcPutW7dqx44dmjp1aq19M2bMUHx8vIYMGaJXX3213ltXdrtdNpvN7dWamEwmhVtYawkAgKbgF5Wl8+3bt09Lliyps6rkySuvvKJ+/fpp+PDhbtvnzZuna6+9VmFhYVq3bp3uvfdeFRcX64EHHqjzXIsWLdJTTz3V6P63hHCrWcX2CmbEAQBwkXxaWZozZ06dg7Cdr71797odk5OTo3HjxumXv/ylpk2b1qD3OXPmjP761796rCo99thjGjFihC6//HLNnj1bjzzyiJ555hmv55s7d64KCwtdr+zs7IZ/6BbCjDgAAJqGTytLs2bN0pQpU7y26d69u+vr3NxcjRw5UsOHD9fLL7/c4Pd59913VVpaqsmTJ9fbdujQoZo/f77sdrusVqvHNlartc59rUUkay0BANAkfBqWEhISlJCQ0KC2OTk5GjlypAYNGqRly5YpKKjhRbFXXnlFN9xwQ4Pea8eOHYqNjW31Yag+VJYAAGgafjFmKScnR9dcc426du2qZ599VsePH3ftc85iy8nJ0ahRo/T6669ryJAhrv379u3T559/rg8++KDWedesWaP8/HwNGzZMoaGhysjI0MKFC/XQQw81/4dqZoQlAACahl+EpYyMDO3bt0/79u1T586d3fY5Z66Vl5crKytLpaWlbvtfffVVde7cWWPGjKl13pCQEC1dulQzZ86UYRjq2bOnFi9e3OCxUK0ZjzwBAKBpmAyWeL5oNptN0dHRKiwsVFRUlK+7I0l69O/f681NR/TAqF767c96+7o7AAC0Og39++236yzBu3AqSwAANAnCUhvFbDgAAJoGYamNYoA3AABNg7DURhGWAABoGoSlNorZcAAANA3CUhtVXVniQboAAFwMwlIbRWUJAICmQVhqowhLAAA0DcJSGxVuNUuSighLAABcFMJSG+WsLJVVOFRe6fBxbwAA8F+EpTbKOcBb4lYcAAAXg7DURoWYg2QJrvrnZa0lAAAaj7DUhlU/8oTlAwAAaCzCUhvGKt4AAFw8wlIbRlgCAODiEZbasIhzywcwwBsAgMYjLLVhVJYAALh4hKU2LJxVvAEAuGiEpTYskrAEAMBFIyy1YdW34Vg6AACAxiIstWHVYancxz0BAMB/EZbasOrZcFSWAABoLMJSG8ZsOAAALh5hqQ2LYIA3AAAXjbDUhl1oWHI4DNnOMr4JAICaCEtt2IXehpuz6jsNmp+hA8eLm7NbAAD4FcJSGxZxgWHpm8OnVF5p6Id8whIAAE6EpTasegXvhs2GKygpkyTZK5g9BwCAE2GpDQt3Lh1QViHDMLy2rah06HRp1Xils+WEJQAAnAhLbVikNUSSZBhSaZn3AHSqtHpgt73C0az9AgDAnxCW2rDQkCAFmaq+rm9GnPMWnERlCQCAmghLbZjJZHKNWyqqJyydLLa7vraXU1kCAMDJb8LSDTfcoC5duig0NFQdO3bUpEmTlJub6/WYs2fPasaMGYqLi1NERIQmTpyo/Px8tzZHjhzR+PHjFRYWpg4dOujhhx9WRUXbWcSxoWstnaxZWWKANwAALn4TlkaOHKkVK1YoKytLK1eu1P79+3XzzTd7PWbmzJlas2aN3nnnHWVmZio3N1c33XSTa39lZaXGjx+vsrIyffXVV3rttde0fPlyPf744839cVpMQ9dacr8NR2UJAACnYF93oKFmzpzp+rpr166aM2eOJkyYoPLycoWEhNRqX1hYqFdeeUV//etfde2110qSli1bpn79+mnTpk0aNmyY1q1bp927d2v9+vVKTEzUwIEDNX/+fM2ePVtPPvmkLBZLi32+5tLQ5QNqVpZYOgAAgGp+U1mqqaCgQG+99ZaGDx/uMShJ0tatW1VeXq7Ro0e7tvXt21ddunTRxo0bJUkbN25UWlqaEhMTXW3Gjh0rm82mXbt21fn+drtdNpvN7dVaRTbwNlxBSfWYJSpLAABU86uwNHv2bIWHhysuLk5HjhzRe++9V2fbo0ePymKxKCYmxm17YmKijh496mpTMyg59zv31WXRokWKjo52vZKTkxv5iZqfc62lC7kNx9IBAABU82lYmjNnjkwmk9fX3r17Xe0ffvhhbd++XevWrZPZbNbkyZPrXWyxOcydO1eFhYWuV3Z2dov3oaEaOmbpRDFLBwAA4IlPxyzNmjVLU6ZM8dqme/furq/j4+MVHx+v3r17q1+/fkpOTtamTZuUnp5e67ikpCSVlZXp9OnTbtWl/Px8JSUludp8/fXXbsc5Z8s523hitVpltVrr+3itQkNnw7HOEgAAnvk0LCUkJCghIaFRxzocVbeK7Ha7x/2DBg1SSEiIPvnkE02cOFGSlJWVpSNHjrjCVXp6uhYsWKBjx46pQ4cOkqSMjAxFRUUpNTW1Uf1qbRozG47bcAAAVPOLMUubN2/WCy+8oB07dujw4cPasGGDbrvtNvXo0cMVfHJyctS3b19XpSg6OlpTp07Vb3/7W3366afaunWr7rrrLqWnp2vYsGGSpDFjxig1NVWTJk3St99+q48//liPPvqoZsyY4TeVo/o0pLJU6TB0qrRGWKKyBACAi1+EpbCwMK1atUqjRo1Snz59NHXqVA0YMECZmZmuUFNeXq6srCyVlpa6jvuf//kfXX/99Zo4caKuvvpqJSUladWqVa79ZrNZa9euldlsVnp6uu644w5NnjxZ8+bNa/HP2FwiGrB0wOnSMtUc+kVlCQCAan6xzlJaWpo2bNjgtU1KSkqtwd6hoaFaunSpli5dWudxXbt21QcffNAk/WyNGnIbruYtOIkxSwAA1OQXlSU0XkQDlg6oORNOorIEAEBNhKU2LrwBY5aclaWYsKoFPqksAQBQjbDUxjXsNlzVjMJO0e0ksYI3AAA1EZbauIbMhnM+F65TTFVYsldU+mSxTwAAWiPCUhvXkNlwBa6wFCpJchhSeSVhCQAAibDU5jlvw5VVOmSv8ByYzq8sSaqzLQAAgYaw1MaFW8yur+uqLhWcmw3XMTrUtY1xSwAAVCEstXHB5iCFhlT9M9c1bunkuQHeceFWWYOr2jIjDgCAKoSlABBRz4w455il9uEWhYZUVaJYawkAgCqEpQDgbUacw2HoVGm5JCkuwuKqQlFZAgCgCmEpAHhba6nwTLkqHVUz32LDLLIGU1kCAKAmwlIA8BaWnDPhIkODZQmuHt9kp7IEAIAkwlJA8HYbzjleKT7CKkmuytJZlg4AAEASYSkgVFeWagegk8VVM+Hah1skqUZlidtwAABIhKWAEGGtqhZ5qiydrDETTqKyBADA+QhLAaAht+HiqCwBAOARYSkAeBvgXXB+ZencOkssHQAAQBXCUgDwtihl7dtw59ZZYukAAAAkEZYCQrjX23DnHnUS4bwNd26dJW7DAQAgibAUELyus1TsHLPkXDrAWVniNhwAABJhKSBUz4bzsHTAebfhqCwBAOCOsBQAIqwhkmrfhjMMQ6ecs+Gct+FYOgAAADeEpQAQfq6ydP5tONuZClWcey5c9Ww4HqQLAEBNhKUAUNdsuJPnBndHWINdi1GGnhuzxIN0AQCoQlgKAM4B3qVllXKcqyRJtddYkqrXWeJBugAAVCEsBQBnZUmSSsqqq0snit3HK0k1VvCmsgQAgCTCUkCwBgfJHGSS5D4j7vxHnUg1BnhTWQIAQBJhKSCYTCaP45acC1K634ZzDvCmsgQAgERYChiewlL1GktW1zZnZcnO0gEAAEgiLAWMcNfClDUrS7Vvw1FZAgDAHWEpQHh65InH2XBUlgAAcENYChARHh6m63k2nHOAN5UlAAAkPwpLN9xwg7p06aLQ0FB17NhRkyZNUm5ubp3tCwoKdP/996tPnz5q166dunTpogceeECFhYVu7UwmU63X22+/3dwfp8V5CkvOAd5xNcYsuR6ky2w4AAAk+VFYGjlypFasWKGsrCytXLlS+/fv180331xn+9zcXOXm5urZZ5/Vzp07tXz5cn300UeaOnVqrbbLli1TXl6e6zVhwoRm/CS+UX0brioEGYZRfRvOQ2XJXuGQYRgCACDQBdffpHWYOXOm6+uuXbtqzpw5mjBhgsrLyxUSElKrff/+/bVy5UrX9z169NCCBQt0xx13qKKiQsHB1R89JiZGSUlJzfsBfKx6Nly5JKnIXqHyyqow5GmAt1QVmJzhCQCAQOU3laWaCgoK9NZbb2n48OEeg1JdCgsLFRUV5RaUJGnGjBmKj4/XkCFD9Oqrr9ZbUbHb7bLZbG6v1q56NlxVZang3HilMIvZLRA5lw6QWMUbAADJz8LS7NmzFR4erri4OB05ckTvvfdeg489ceKE5s+fr7vvvttt+7x587RixQplZGRo4sSJuvfee7VkyRKv51q0aJGio6Ndr+Tk5EZ9npZ0/my4kx5mwklSiNmkc4t983w4AADk47A0Z84cjwOsa7727t3rav/www9r+/btWrduncxmsyZPntygcTU2m03jx49XamqqnnzySbd9jz32mEaMGKHLL79cs2fP1iOPPKJnnnnG6/nmzp2rwsJC1ys7O7tRn78lnT/A+2Sxc3C3e1gymUw1lg+gsgQAgE/HLM2aNUtTpkzx2qZ79+6ur+Pj4xUfH6/evXurX79+Sk5O1qZNm5Senl7n8UVFRRo3bpwiIyO1evXqem/bDR06VPPnz5fdbpfVavXYxmq11rmvtTp/BW/XgpQRtT9HaEiQzpRXMiMOAAD5OCwlJCQoISGhUcc6HFVVD7vdXmcbm82msWPHymq16v3331doaGi9592xY4diY2P9LgzVJ/z8ylIdt+Ek58KU5ay1BACA/GQ23ObNm7VlyxZdddVVio2N1f79+/XYY4+pR48erqpSTk6ORo0apddff11DhgyRzWbTmDFjVFpaqjfffNNtIHZCQoLMZrPWrFmj/Px8DRs2TKGhocrIyNDChQv10EMP+fLjNos6K0sewlLouRlxrOINAICfhKWwsDCtWrVKTzzxhEpKStSxY0eNGzdOjz76qKsCVF5erqysLJWWlkqStm3bps2bN0uSevbs6Xa+gwcPKiUlRSEhIVq6dKlmzpwpwzDUs2dPLV68WNOmTWvZD9gCqitL52bDeakssYo3AADV/CIspaWlacOGDV7bpKSkuA32vuaaa+od/D1u3DiNGzeuSfrY2kWcWzqgvtlwUvUq3lSWAADws6UD0Hg1xywZhlE9Gy7CQ1iisgQAgAthKUA4xyxVOAzZKxw1xizVHsjO8+EAAKhGWAoQ4ZbqO67F9gqvt+FqPh8OAIBAR1gKEEFBJoVZqkLQMZtdZeeCkMfbcFSWAABwISwFEOe4pSMFVTMGQ0OCFGapPcafyhIAANUISwEkwhWWSiR5Hq8kVa+zRGUJAADCUkAJP7d8gLOy5Gm8kiTXs+HOsnQAAACNC0vz5s1zLf5Y05kzZzRv3ryL7hSah7OydPhk1b+dp/FKUo0VvFk6AACAxoWlp556SsXFxbW2l5aW6qmnnrroTqF5OMNSdgMrSyxKCQBAI8OSYRgymUy1tn/77bdq3779RXcKzcM5wPtfp85I8vxcOInKEgAANV3Q405iY2NlMplkMpnUu3dvt8BUWVmp4uJiTZ8+vck7iaYRXmNhSklqX+cAb8YsAQDgdEFh6bnnnpNhGPrVr36lp556StHR0a59FotFKSkpSk9Pb/JOomk4b8M51VVZql5nicoSAAAXFJbuvPNOSVK3bt00YsQIBQf7xXN4cc75YamuMUvV6yxRWQIAoFFjliIjI7Vnzx7X9++9954mTJig//qv/1JZWVmTdQ5NK/z8sFTHbDgqSwAAVGtUWLrnnnv0ww8/SJIOHDigW2+9VWFhYXrnnXf0yCOPNGkH0XQizq2z5BRfx5glK5UlAABcGhWWfvjhBw0cOFCS9M477+inP/2p/vrXv2r58uVauXJlU/YPTaihlaVQ56KUVJYAAGj80gEOR9Uf0vXr1+vnP/+5JCk5OVknTpxout6hSdUMS5bgIIVbzB7bWXncCQAALo0KS4MHD9bTTz+tN954Q5mZmRo/frwk6eDBg0pMTGzSDqLp1BzgHRdu8bhWllRdWeJBugAANDIsPffcc9q2bZvuu+8+/b//9//Us2dPSdK7776r4cOHN2kH0XRqhqW6ZsJJVJYAAKipUXP/BwwYoO+//77W9meeeUZms+dbO/C9hoal6qUDqCwBAHBRCyVt3brVtYRAamqqrrjiiibpFJpHzTFL8RGeZ8JJUui5pQPKKhxyOAwFBXm+XQcAQCBoVFg6duyYbr31VmVmZiomJkaSdPr0aY0cOVJvv/22EhISmrKPaCLhNZYO8H4brrqdvcKhdnUMBAcAIBA0aszS/fffr+LiYu3atUsFBQUqKCjQzp07ZbPZ9MADDzR1H9FErMFmhZirqkReb8MFV/9YsNYSACDQNaqy9NFHH2n9+vXq16+fa1tqaqqWLl2qMWPGNFnn0PTCrcE6XVpe53PhJCnYHCRzkEmVDoO1lgAAAa9RlSWHw6GQkJBa20NCQlzrL6F1cg7y9lZZkqqrS1SWAACBrlFh6dprr9VvfvMb5ebmurbl5ORo5syZGjVqVJN1Dk2vX8coBQeZ1K9jlNd2zhlxVJYAAIGuUbfhXnjhBd1www1KSUlRcnKyJCk7O1v9+/fXm2++2aQdRNP639uv0OnSciVE1j0bTqr5MF0qSwCAwNaosJScnKxt27Zp/fr12rt3rySpX79+Gj16dJN2Dk0vxBxUb1CSWGsJAACnC7oNt2HDBqWmpspms8lkMulnP/uZ7r//ft1///268sordemll+qf//xnc/UVLchCZQkAAEkXGJaee+45TZs2TVFRtce7REdH65577tHixYubrHPwHSpLAABUuaCw9O2332rcuHF17h8zZoy2bt160Z2C74XyfDgAACRdYFjKz8/3uGSAU3BwsI4fP37RnYLvWYOds+EISwCAwHZBYemSSy7Rzp0769z/3XffqWPHjhfdKU9uuOEGdenSRaGhoerYsaMmTZrktnSBJ9dcc41MJpPba/r06W5tjhw5ovHjxyssLEwdOnTQww8/rIqKimb5DP7EWVniNhwAINBdUFj6+c9/rscee0xnz56tte/MmTN64okndP311zdZ52oaOXKkVqxYoaysLK1cuVL79+/XzTffXO9x06ZNU15enuv1+9//3rWvsrJS48ePV1lZmb766iu99tprWr58uR5//PFm+Qz+hMoSAABVTIZhGA1tnJ+fryuuuEJms1n33Xef+vTpI0nau3evli5dqsrKSm3btk2JiYnN1mGn999/XxMmTJDdbq/z1uA111yjgQMH6rnnnvO4/8MPP9T111+v3NxcV5//9Kc/afbs2Tp+/LgsFu+rXDvZbDZFR0ersLDQ4+B3f/TIu99qxTf/0sNj+2jGyJ6+7g4AAE2uoX+/L6iylJiYqK+++kr9+/fX3Llz9Ytf/EK/+MUv9F//9V/q37+/vvjiixYJSgUFBXrrrbc0fPhwr2OoJOmtt95SfHy8q8+lpaWufRs3blRaWppbn8eOHSubzaZdu3bVeU673S6bzeb2amuclSU7lSUAQIC74EUpu3btqg8++ECnTp3Svn37ZBiGevXqpdjY2Obon5vZs2frhRdeUGlpqYYNG6a1a9d6bf8f//Ef6tq1qzp16qTvvvtOs2fPVlZWllatWiVJOnr0aK1w5/z+6NGjdZ530aJFeuqppy7y07RujFkCAKBKo54NJ0mxsbG68sorNWTIkEYHpTlz5tQagH3+y7lCuCQ9/PDD2r59u9atWyez2azJkyfL213Eu+++W2PHjlVaWppuv/12vf7661q9erX279/fqP46zZ07V4WFha5Xdnb2RZ2vNap+NhyVJQBAYGvU406ayqxZszRlyhSvbbp37+76Oj4+XvHx8erdu7f69eun5ORkbdq0Senp6Q16v6FDh0qS9u3bpx49eigpKUlff/21W5v8/HxJUlJSUp3nsVqtslrrf2SIP6t+NhyVJQBAYPNpWEpISFBCQkKjjnU4qv6I2+32Bh+zY8cOSXItb5Cenq4FCxbo2LFj6tChgyQpIyNDUVFRSk1NbVS/2orqFbypLAEAAlujb8O1pM2bN+uFF17Qjh07dPjwYW3YsEG33XabevTo4aoq5eTkqG/fvq5K0f79+zV//nxt3bpVhw4d0vvvv6/Jkyfr6quv1oABAyRVrTiempqqSZMm6dtvv9XHH3+sRx99VDNmzGjzlaP6UFkCAKCKX4SlsLAwrVq1SqNGjVKfPn00depUDRgwQJmZma5QU15erqysLNdsN4vFovXr12vMmDHq27evZs2apYkTJ2rNmjWu85rNZq1du1Zms1np6em64447NHnyZM2bN88nn7M1sVJZAgBAko9vwzVUWlqaNmzY4LVNSkqK22Dv5ORkZWZm1ntu5+w+uKse4E1lCQAQ2PyisoSW57oNR2UJABDgCEvwyDXAm8oSACDAEZbgEZUlAACqEJbgEZUlAACqEJbgUfXjTqgsAQACG2EJHjkfpMtsOABAoCMswSMqSwAAVCEswSNnZam80lClo+6HFQMA0NYRluCRs7IkUV0CAAQ2whI8claWJMYtAQACG2EJHpmDTAoxmyRJZ8upLAEAAhdhCXUKDXY+TJfKEgAgcBGWUCfruXFLVJYAAIGMsIQ6WaksAQBAWELdQqksAQBAWELdqlfxJiwBAAIXYQl1ql7Fm9twAIDARVhCnagsAQBAWIIXVJYAACAswQvXbDgqSwCAAEZYQp2qZ8NRWQIABC7CEuoUGuJcZ4nKEgAgcBGWUCdrMJUlAAAIS6gTlSUAAAhL8ILKEgAAhCV4YQ1hnSUAAAhLqFP1bTgqSwCAwEVYQp2qb8NRWQIABC7CEupEZQkAAMISvKCyBAAAYQleUFkCAICwBC+qH3dCZQkAELj8JizdcMMN6tKli0JDQ9WxY0dNmjRJubm5dbY/dOiQTCaTx9c777zjaudp/9tvv90SH6nVcz1It57K0uc/HNfdr3+jE8X2lugWAAAtym/C0siRI7VixQplZWVp5cqV2r9/v26++eY62ycnJysvL8/t9dRTTykiIkLXXXedW9tly5a5tZswYUIzfxr/4Kws2eupLP35nwe0bne+3tp0pCW6BQBAiwr2dQcaaubMma6vu3btqjlz5mjChAkqLy9XSEhIrfZms1lJSUlu21avXq1bbrlFERERbttjYmJqtUV1ZelsPZWlfNtZSdLGAyf0G/Vq9n4BANCS/KayVFNBQYHeeustDR8+3GNQ8mTr1q3asWOHpk6dWmvfjBkzFB8fryFDhujVV1+VYRhez2W322Wz2dxebVFDK0vHi6puv207cprxTQCANsevwtLs2bMVHh6uuLg4HTlyRO+9916Dj33llVfUr18/DR8+3G37vHnztGLFCmVkZGjixIm69957tWTJEq/nWrRokaKjo12v5OTkRn2e1s45G85bZamswqFTpeWur7cdOdUifQMAoKX4NCzNmTOnzkHYztfevXtd7R9++GFt375d69atk9ls1uTJk+utAknSmTNn9Ne//tVjVemxxx7TiBEjdPnll2v27Nl65JFH9Mwzz3g939y5c1VYWOh6ZWdnX/iH9wPOdZYqHYbKKz0HpvMHdW/af7LZ+wUAQEvy6ZilWbNmacqUKV7bdO/e3fV1fHy84uPj1bt3b/Xr10/JycnatGmT0tPTvZ7j3XffVWlpqSZPnlxvn4YOHar58+fLbrfLarV6bGO1Wuvc15Y4K0tS1Yy4EHPtbH2syD0sbTxAWAIAtC0+DUsJCQlKSEho1LEOR1Wlw26vf7r6K6+8ohtuuKFB77Vjxw7FxsYGRBiqj6VGODpbXqkIa+0fF+d4pbhwi06WlGlH9mmdKatUO4u5VlsAAPyRX8yG27x5s7Zs2aKrrrpKsbGx2r9/vx577DH16NHDVVXKycnRqFGj9Prrr2vIkCGuY/ft26fPP/9cH3zwQa3zrlmzRvn5+Ro2bJhCQ0OVkZGhhQsX6qGHHmqxz9aaBQWZZAkOUlmFo861lo4VVc2Eu7xLjHbn2pRbeFbfHC7QT3o1LgQDANDa+MUA77CwMK1atUqjRo1Snz59NHXqVA0YMECZmZmuClB5ebmysrJUWlrqduyrr76qzp07a8yYMbXOGxISoqVLlyo9PV0DBw7USy+9pMWLF+uJJ55okc/lD0LreT6cs7KUEBmqYT3iJEkbGbcEAGhD/KKylJaWpg0bNnhtk5KS4nGw98KFC7Vw4UKPx4wbN07jxo1rkj62VdYQs3S2os6wdMwVlqxKjm2nVdtyGLcEAGhT/KKyBN9xrbVUx204Z2WpQ6RV6ecqS9/9q1DF9oqW6SAAAM2MsASvXKt4N6Cy1Dk2TMnt26nSYWjLoYIW6yMAAM2JsASv6q0snXvUSYfIqrFj6d2rqkustwQAaCsIS/Aq9FxlydMjTwzD0PHi6sqSJNetOMYtAQDaCsISvLKGOGfD1a4snS4tV3ll1aB6V1jqHi9J2plTKNvZ8hbqJQAAzYewBK9claWK2pUlZ1Upul2Ia2xTUnSousWHy2FIXx9g3BIAwP8RluCVt8rSMVv1TLiahnXnVhwAoO0gLMEr75Wlc4O7o9zDUjqLUwIA2hDCErxqSGUpIeL8ylJ7SdKeozadLi1r5h4CANC8CEvwyts6S64FKaNC3bZ3iAxVzw4RMgxpE+OWAAB+jrAEr0JDnLfhPFSWijxXlqQa6y0xbgkA4OcIS/DK6uVButWVJQ9hiXFLAIA2grAEr7xXlqoGeHuqLDlnxGXlF+nkuSUGAADwR4QleOWtsnTMS2WpfbhFfZMiJTFuCQDg3whL8MpZWTp/NtzZ8koVna2QJCVEhNY6Tqq53tKJZuwhAADNi7AEr6ofpOteWXKOV7IEBymqXbDHYxm3BABoCwhL8MrqepCue2XJdQsu0iqTyeTx2GHd4mQySfuPl+iY7WzzdhQAgGZCWIJXdVeWzg3ujqw9XskpOixEqR2jJPHoEwCA/yIswavqRSndK0vHizw/F+58g7rGSpL25BU1Q+8AAGh+hCV45awsnT2vsuRakLKesNSzQ4Qkad+x4mboHQAAzY+wBK9c6yzVWVnyPBPOqWdCVVjaf5ywBADwT4QleOVaZ+kiK0uHT5bUGvcEAIA/ICzBq/orS97DUkKkVZGhwXIY0sETJc3TSQAAmhFhCV7VrCwZhuHafqwBs+EkyWQyMW4JAODXCEvwynqusmQYUlllVXWp0mHoRHGZpPrHLElSL8ISAMCPEZbglXM2nFT9MN1TpWWqdBgymaS4CEu956CyBADwZ4QleGUxB8m5QLfzYbrHbFXjldqHWRRirv9HiLAEAPBnhCV4ZTKZXOOWnIO8jxc3bCacU8+ESEnSgRMlqnQY9bQGAKB1ISyhXq7nw1U4K0sNG9ztdElsO1mDg1RW4VB2QWnzdBIAgGZCWEK9XKt4n1dZasjgbkkyB5nUI4FbcQAA/0RYQr1cay1VuI9ZamhlSaoxbomVvAEAfoawhHq51lqqVVlqRFiisgQA8DN+F5bsdrsGDhwok8mkHTt2eG179uxZzZgxQ3FxcYqIiNDEiROVn5/v1ubIkSMaP368wsLC1KFDBz388MOqqKhoxk/gf86vLB2/iMrSj4QlAICf8buw9Mgjj6hTp04Najtz5kytWbNG77zzjjIzM5Wbm6ubbrrJtb+yslLjx49XWVmZvvrqK7322mtavny5Hn/88ebqvl9qysrS/mPFbiuBAwDQ2vlVWPrwww+1bt06Pfvss/W2LSws1CuvvKLFixfr2muv1aBBg7Rs2TJ99dVX2rRpkyRp3bp12r17t958800NHDhQ1113nebPn6+lS5eqrKysuT+O36g9ZqlqNlyHqIYN8JaklLhwmYNMKrZXKP9cZcqb7UdOaeKLX2lXbmEjegwAQNPxm7CUn5+vadOm6Y033lBYWFi97bdu3ary8nKNHj3ata1v377q0qWLNm7cKEnauHGj0tLSlJiY6GozduxY2Ww27dq1q85z2+122Ww2t1db5lw64Gy5QyX2CpWUVYWmC7kNZwkOUte4qn+3hoxbevGz/dp6+JTe3HS4ET0GAKDp+EVYMgxDU6ZM0fTp0zV48OAGHXP06FFZLBbFxMS4bU9MTNTRo0ddbWoGJed+5766LFq0SNHR0a5XcnLyBXwa/2N1LR1QqeNFVVWhMItZEdbgCzpPT9fyAUVe21VUOrTxwElJ0u48720BAGhuPg1Lc+bMkclk8vrau3evlixZoqKiIs2dO9eX3XWZO3euCgsLXa/s7Gxfd6lZhboWpXToWNGFD+52aujyAd/nFKrobNUg+6yjNlb9BgD41IWVBprYrFmzNGXKFK9tunfvrg0bNmjjxo2yWt3/QA8ePFi33367XnvttVrHJSUlqaysTKdPn3arLuXn5yspKcnV5uuvv3Y7zjlbztnGE6vVWqsvbZmnytKFDO52cs2Iy/celr7cd8L19dlyhw6dLHEtagkAQEvzaVhKSEhQQkJCve2ef/55Pf30067vc3NzNXbsWP3tb3/T0KFDPR4zaNAghYSE6JNPPtHEiRMlSVlZWTpy5IjS09MlSenp6VqwYIGOHTumDh06SJIyMjIUFRWl1NTUi/14bYZ7ZenCHnVSk2tGXD2VpS/3nXT7fk+ejbAEAPAZvxiz1KVLF/Xv39/16t27tySpR48e6ty5syQpJydHffv2dVWKoqOjNXXqVP32t7/Vp59+qq1bt+quu+5Senq6hg0bJkkaM2aMUlNTNWnSJH377bf6+OOP9eijj2rGjBkBVTmqj+fKUsNnwjk5A8+J4jKdLvU82/BMWaW2Hj4lSRrWvb2kqrAEAICv+EVYaojy8nJlZWWptLT6Qa3/8z//o+uvv14TJ07U1VdfraSkJK1atcq132w2a+3atTKbzUpPT9cdd9yhyZMna968eb74CK1WaI3ZcBczZincGqxLYtpJqntG3JZDBSqrdOiSmHb6eVpHSdIeBnkDAHzIp7fhGislJaXWwoaetoWGhmrp0qVaunRpnefq2rWrPvjgg2bpZ1vhfJCuvaJSJ4urKkKNCUuS1KNDhHJOn9G+Y8UanNK+1n7neKXhPeLUr2OUJCpLAADfajOVJTQf5wre9hqVpcYM8Jaqlw+o67EnX+6vCktX9YpX36RISVJe4dk6b9sBANDcCEuoV80VvI9fxG04yfsDdQtKyrQrt6qKNLxHvCJDQ5Tcvuq23W6qSwAAHyEsoV7OAd4l9kqdLGn8AG/Je1jauP+kDEPqmxTpCmN9k5y34hi3BADwDcIS6uUc4J1z+owMQwoySe3DLY06lzMs5Zw+o9KyCrd9X7jGK8W7tjFuCQDga4Ql1Mt5Gy739BlJUnyEVeYgU6PO1T7corhzQevA8RK3fc7B3Vf1inNtS+1YNW6JsAQA8BXCEurlHOBdce6xI40dr+TUw7mSd41nxGUXlOpIQamCg0wa0q06LDkrSz/mF6u80nFR7wsAQGMQllAv67nKklNjZ8I5eRq35KwqXd4lxu0BvcmxYQq3mFVW6ahViQIAoCUQllAvZ2XJ6WIrS87lA2qGJU/jlSQpKMikvoxbAgD4EGEJ9QqtVVlq3Ew4p/MrSw6Hoa/2Vz0P7qpe8bXa92PcEgDAh/xyBW+0LOcK3k4doi6ustQrsSosHT5ZqrIKh348VqSCkjKFW8wamBxTq71rRtxRlg8AALQ8KkuolzXYvbKUEHFxYSkpKlQR1mBVOAwdPlmir/ZVVZWGdo9TiLn2jyTLBwAAfImwhHo1dWXJZDKpR0K4pKpbcV/UeB6cJ32TImUySceL7DpRbL+o9wYA4EIRllCv2pWlixuzJFUvH7Anz6avDxZI8jxeSZLCLMFKiQt3tQcAoCURllCvELNJNdegvNjZcFL1IO+V23J0prxS8REW9UmMrLM9g7wBAL5CWEK9TCaTa0ZcpDVY7Szmeo6on3P5gJxzq4KP6Bkvk6nuVcH78Yw4AICPEJbQIM61lhIucrySU6/zqkgjenq+BefEIG8AgK8QltAgzsrSxa7e7ZQc206WGjPf6g1LnarC0r5jxbJXVDZJHwAAaAjCEhrEVVm6yAUpnYLNQeoWXzVou1t8uC6Jaee1fafoUEWFVi03UHPlbwAAmhthCQ3S1JUlSep5bnHKET09LxlQk8lkqnErjnFLAICWwwreaBDnw3SbYiac07SfdNfZskrd/ZMeDWrfr2OUNh8sYNwSAKBFEZbQIOHnZsAlNtEAb0kamByjV6Zc2eD2qQzyBgD4AGEJDXLPT3soMSpUo/sl+qwPNWfEGYbhdakBAACaCmEJDfLT3gn6ae8En/ahV2KEzEEmnSotV77NrqTophlsDgCANwzwht8IDTGrezyPPQEAtCzCEvyK81bcbsISAKCFEJbgV1jJGwDQ0ghL8Cs8UBcA0NIIS/ArzuUDDp4o0dlyHnsCAGh+hCX4lYRIq+LCLXIY0g/5rOQNAGh+hCX4FffHnnArDgDQ/AhL8DuXdqoKS+/tyJVhGD7uDQCgrSMswe/8+5AusgYH6av9J/X2lmxfdwcA0Mb5XViy2+0aOHCgTCaTduzYUWe7goIC3X///erTp4/atWunLl266IEHHlBhYaFbO5PJVOv19ttvN/OnwMXoFh+uh8f2kSQt+Mce5Zw+4+MeAQDaMr8LS4888og6depUb7vc3Fzl5ubq2Wef1c6dO7V8+XJ99NFHmjp1aq22y5YtU15enus1YcKEZug5mtJdI7ppcNdYFdsrNGfld9yOAwA0G796NtyHH36odevWaeXKlfrwww+9tu3fv79Wrlzp+r5Hjx5asGCB7rjjDlVUVCg4uPqjx8TEKCkpqdn6jaZnDjLp9zcP0HV//Kf++eMJvb0lW7cN6eLrbgEA2iC/qSzl5+dr2rRpeuONNxQWFtaocxQWFioqKsotKEnSjBkzFB8fryFDhujVV1+tt0pht9tls9ncXmh53RMiuB0HAGh2fhGWDMPQlClTNH36dA0ePLhR5zhx4oTmz5+vu+++2237vHnztGLFCmVkZGjixIm69957tWTJEq/nWrRokaKjo12v5OTkRvUJF4/bcQCA5mYyfPjXZc6cOfrv//5vr2327NmjdevWacWKFcrMzJTZbNahQ4fUrVs3bd++XQMHDqz3fWw2m372s5+pffv2ev/99xUSElJn28cff1zLli1Tdnbds6zsdrvsdrvb+ZOTk12VK7SsA8eLdd0f/yl7hUOLbkrjdhwAoEFsNpuio6Pr/fvt07B0/PhxnTx50mub7t2765ZbbtGaNWtkMplc2ysrK2U2m3X77bfrtddeq/P4oqIijR07VmFhYVq7dq1CQ0O9vt8//vEPXX/99Tp79qysVmuDPkdDLzaaz1/+eUBP/2OPIqzB+njm1bokpp2vuwQAaOUa+vfbpwO8ExISlJCQUG+7559/Xk8//bTr+9zcXI0dO1Z/+9vfNHTo0DqPs9lsGjt2rKxWq95///16g5Ik7dixQ7GxsQ0OSmgd7hrRTR/tPKpvDp/SnJXf6fVfDXEL1wAANJZfzIbr0sX9tkpERISkqhlunTt3liTl5ORo1KhRev311zVkyBDZbDaNGTNGpaWlevPNN90GYickJMhsNmvNmjXKz8/XsGHDFBoaqoyMDC1cuFAPPfRQy35AXDRmxwEAmotfhKWGKC8vV1ZWlkpLSyVJ27Zt0+bNmyVJPXv2dGt78OBBpaSkKCQkREuXLtXMmTNlGIZ69uypxYsXa9q0aS3ef1w85+y4p/+xRws/2KNRfTuoQ1T91UQAALzx6ZiltoIxS61HpcPQL/73S333r0KNT+uopbdf4esuAQBaqYb+/faLpQOAhjIHmbTopjSZg0z6x/d5Wr8739ddAgD4OcIS2pxLO0XrP3/STZL0+Hs7VWyv8HGPAAD+jLCENunBUb2V3L6dcgvP6g/rsnzdHQCAHyMsoU1qZzFrwYQ0SdLyrw5pR/bpizrfD/lFOmY72wQ9AwD4mzYzGw4439W9E/SLyy/R6u05mrPyO625/yqFmC/8/x+8/Pl+LfxgrySpW3y4hqS019Du7TW0exyLXwJAAGA2XBNgNlzrdbLYrtGLM3WqtFyzx/XVr6/pcUHHr9iSrUdWfidJMpmk8//XcklMOw3t3l53pqfosuSYJuo1AKAlMBsOkBQXYdWj41MlSc+t/0GHT5Y0+NiPduZpzqqqoHTP1d214/ExenXKYN1zdXcNTI6ROciknNNntGpbjv795U36+mBBs3wGAIBvUVlqAlSWWjfDMHTHK5v15b6TuqpnvN6YWv+jUL748YR+tXyLyiodunVwsn43Ma3WMSX2Cm07ckovZR7QF/tOKMIarDf/c6gGUmECAL9AZQk4x2QyacGENFmDg/TFvhNa9OFeFZSU1dl+R/Zp3f3GNyqrdGjcpUla8Iv+HsNVuDVYP+mVoL/cOVjp3eNUbK/Q5Fc2a1duYXN+HABACyMsISCkxIdr5s96S5Je/vyA0hd9ormrvtOP+UVu7X7ML9KUZV+rtKxSI3rG6Y+3DVRwPYPCQ0PM+sudgzWoa6xsZys06ZWvte9YkddjAAD+g9twTYDbcP7BMAy9/22u/vLPg/o+p7r6c3XvBP3nVd3ULT5cN//pK+Xb7LosOUZv/edQRVgbPmHUdrZct/95s77PKVSHSKtW3JOulPjw5vgoAIAm0NC/34SlJkBY8i+GYWjLoVN65YsDWrc73zXDLcRsUnmloV4dIrTinnTFhlsu+NynSsr07y9vUlZ+kS6JaacV09NZXgAAWinCUgsiLPmvwydLtOzLQ3rnm2yVlFXqkph2Wvnr4UqKDm30OY8X2XXrSxt14ESJusaF6f+mDVOnZg5MhWfK9dHOPK39Lk9BJpPG9U/SuEuTGhX4ACBQEJZaEGHJ/xWeKddnWceU3j1OHaIaH5Sc8grP6JaXNiq74IxMJql/p2il94hTeo84XZnSvs7be8X2Ch0+WaLsglJZQ8zqHh+uS2LaeRw3VVbh0GdZx/T3HTlav+eYyiocbvuDg0wa0TNe1w/oqDGXJim6XYjb/pPFdmUdLdLeo0X6Ib9IZ8sr1SUuXF3bh6lrXJi6xoUrPsJS78xBAPBXhKUWRFiCJ9kFpZrx12367l/us+PMQSYN6Byt9O5xCjEH6UhBqQ6fLNGRglKdKK49Sy/EbFJy+zB1jw9Xt/hwdY0L1548m/7xfZ5Ol5a72vXqEKEJl18ik0la+22edufZ3M5xda8EdYkL0w/5Rco6WuTxvc4XZjGrS/swdY5tp9gwi2LDLYoJC6n6+tx/w72M6zIMyWEYqjQMGYahSkfV9w6HIYchGTJcbQxJOrfNJJPMQSYFm00KMQfJHGRSSFCQgs1V2ysdhiodRtW5Xf+tOk9wkEnB5qBz/zVV/Teo6hzSufeq8Z6G840lSSaZTFKQySSTqhYiNZ3b1hhNnTMv5rc1mRf+7pKYdk3+f94ISy2IsARv8m1ntenASX2176Q2HjipIwWlXtvHhoWoS1y47OWVOniiRPbzKkY1dYi06saBnTTh8kuU2jHK7RfJgePFWvtdntZ+l6sf8otrHWsySV3ah6lPYqT6JkWqnSVYRwpKdPhkqQ6fLFVu4ZmL+uMMAE3ph6evkyW4aSfxE5ZaEGEJFyK7oFQbD5zUloMFCjKZ1CUuTClx4eoaF6YucWGKCq2+XeZwGMqzndWhEyU6cKJEB4+X6NDJEsWFW3TjwEuU3iPOVTHx5of8In3wfZ6KzlaoT2Kk+iRFqldihMIsdVeF7BWV+tepMzp8skRHC+06VVqmUyVlOlVartOlZTpVWqbTpeUqKauo8xzOCpHJVFVRM5uqvw46F+yCzm2rWcUxDKnCYaii0qEKh6HySocqKg1VOByqdBiu42v+1/k+lQ5DFZVVFacKh+Pceaq+dlaMgqrerOrroKptziqTwzDOVbiqq1ANZai6sWE0rprT2OPqOyfg775/cixhyZ8RlgAA8D+s4A0AANAECEsAAABeEJYAAAC8ICwBAAB4QVgCAADwgrAEAADgBWEJAADAC8ISAACAF4QlAAAALwhLAAAAXhCWAAAAvCAsAQAAeEFYAgAA8IKwBAAA4EWwrzvQFhiGIUmy2Ww+7gkAAGgo599t59/xuhCWmkBRUZEkKTk52cc9AQAAF6qoqEjR0dF17jcZ9cUp1MvhcCg3N1eRkZEymUxNdl6bzabk5GRlZ2crKiqqyc7bFnBtPOO6eMZ1qRvXxjOuS93a0rUxDENFRUXq1KmTgoLqHplEZakJBAUFqXPnzs12/qioKL//gWwuXBvPuC6ecV3qxrXxjOtSt7ZybbxVlJwY4A0AAOAFYQkAAMALwlIrZrVa9cQTT8hqtfq6K60O18YzrotnXJe6cW0847rULRCvDQO8AQAAvKCyBAAA4AVhCQAAwAvCEgAAgBeEJQAAAC8IS63Y0qVLlZKSotDQUA0dOlRff/21r7vUoj7//HP927/9mzp16iSTyaS///3vbvsNw9Djjz+ujh07ql27dho9erR+/PFH33S2BS1atEhXXnmlIiMj1aFDB02YMEFZWVlubc6ePasZM2YoLi5OERERmjhxovLz833U45bz4osvasCAAa7F8tLT0/Xhhx+69gfqdTnf7373O5lMJj344IOubYF6bZ588kmZTCa3V9++fV37A/W6SFJOTo7uuOMOxcXFqV27dkpLS9M333zj2h9Iv4MJS63U3/72N/32t7/VE088oW3btumyyy7T2LFjdezYMV93rcWUlJTosssu09KlSz3u//3vf6/nn39ef/rTn7R582aFh4dr7NixOnv2bAv3tGVlZmZqxowZ2rRpkzIyMlReXq4xY8aopKTE1WbmzJlas2aN3nnnHWVmZio3N1c33XSTD3vdMjp37qzf/e532rp1q7755htde+21uvHGG7Vr1y5JgXtdatqyZYteeuklDRgwwG17IF+bSy+9VHl5ea7XF1984doXqNfl1KlTGjFihEJCQvThhx9q9+7d+sMf/qDY2FhXm4D6HWygVRoyZIgxY8YM1/eVlZVGp06djEWLFvmwV74jyVi9erXre4fDYSQlJRnPPPOMa9vp06cNq9Vq/N///Z8Peug7x44dMyQZmZmZhmFUXYeQkBDjnXfecbXZs2ePIcnYuHGjr7rpM7GxscZf/vIXrothGEVFRUavXr2MjIwM46c//anxm9/8xjCMwP6ZeeKJJ4zLLrvM475Avi6zZ882rrrqqjr3B9rvYCpLrVBZWZm2bt2q0aNHu7YFBQVp9OjR2rhxow971nocPHhQR48edbtG0dHRGjp0aMBdo8LCQklS+/btJUlbt25VeXm527Xp27evunTpElDXprKyUm+//bZKSkqUnp7OdZE0Y8YMjR8/3u0aSPzM/Pjjj+rUqZO6d++u22+/XUeOHJEU2Nfl/fff1+DBg/XLX/5SHTp00OWXX64///nPrv2B9juYsNQKnThxQpWVlUpMTHTbnpiYqKNHj/qoV62L8zoE+jVyOBx68MEHNWLECPXv319S1bWxWCyKiYlxaxso1+b7779XRESErFarpk+frtWrVys1NTXgr8vbb7+tbdu2adGiRbX2BfK1GTp0qJYvX66PPvpIL774og4ePKif/OQnKioqCujrcuDAAb344ovq1auXPv74Y/3617/WAw88oNdee01S4P0ODvZ1BwA03owZM7Rz5063MRaBrk+fPtqxY4cKCwv17rvv6s4771RmZqavu+VT2dnZ+s1vfqOMjAyFhob6ujutynXXXef6esCAARo6dKi6du2qFStWqF27dj7smW85HA4NHjxYCxculCRdfvnl2rlzp/70pz/pzjvv9HHvWh6VpVYoPj5eZrO51oyL/Px8JSUl+ahXrYvzOgTyNbrvvvu0du1affrpp+rcubNre1JSksrKynT69Gm39oFybSwWi3r27KlBgwZp0aJFuuyyy/THP/4xoK/L1q1bdezYMV1xxRUKDg5WcHCwMjMz9fzzzys4OFiJiYkBe23OFxMTo969e2vfvn0B/TPTsWNHpaamum3r16+f6xZloP0OJiy1QhaLRYMGDdInn3zi2uZwOPTJJ58oPT3dhz1rPbp166akpCS3a2Sz2bR58+Y2f40Mw9B9992n1atXa8OGDerWrZvb/kGDBikkJMTt2mRlZenIkSNt/tp44nA4ZLfbA/q6jBo1St9//7127Njheg0ePFi333676+tAvTbnKy4u1v79+9WxY8eA/pkZMWJErSVJfvjhB3Xt2lVSAP4O9vUIc3j29ttvG1ar1Vi+fLmxe/du4+677zZiYmKMo0eP+rprLaaoqMjYvn27sX37dkOSsXjxYmP79u3G4cOHDcMwjN/97ndGTEyM8d577xnfffedceONNxrdunUzzpw54+OeN69f//rXRnR0tPHZZ58ZeXl5rldpaamrzfTp040uXboYGzZsML755hsjPT3dSE9P92GvW8acOXOMzMxM4+DBg8Z3331nzJkzxzCZTMa6desMwwjc6+JJzdlwhhG412bWrFnGZ599Zhw8eND48ssvjdGjRxvx8fHGsWPHDMMI3Ovy9ddfG8HBwcaCBQuMH3/80XjrrbeMsLAw480333S1CaTfwYSlVmzJkiVGly5dDIvFYgwZMsTYtGmTr7vUoj799FNDUq3XnXfeaRhG1dTVxx57zEhMTDSsVqsxatQoIysry7edbgGerokkY9myZa42Z86cMe69914jNjbWCAsLM37xi18YeXl5vut0C/nVr35ldO3a1bBYLEZCQoIxatQoV1AyjMC9Lp6cH5YC9drceuutRseOHQ2LxWJccsklxq233mrs27fPtT9Qr4thGMaaNWuM/v37G1ar1ejbt6/x8ssvu+0PpN/BJsMwDN/UtAAAAFo/xiwBAAB4QVgCAADwgrAEAADgBWEJAADAC8ISAACAF4QlAAAALwhLAAAAXhCWAAAAvCAsAUAjpKSk6LnnnvN1NwC0AMISgFZvypQpmjBhgiTpmmuu0YMPPthi7718+XLFxMTU2r5lyxbdfffdLdYPAL4T7OsOAIAvlJWVyWKxNPr4hISEJuwNgNaMyhIAvzFlyhRlZmbqj3/8o0wmk0wmkw4dOiRJ2rlzp6677jpFREQoMTFRkyZN0okTJ1zHXnPNNbrvvvv04IMPKj4+XmPHjpUkLV68WGlpaQoPD1dycrLuvfdeFRcXS5I+++wz3XXXXSosLHS935NPPimp9m24I0eO6MYbb1RERISioqJ0yy23KD8/37X/ySef1MCBA/XGG28oJSVF0dHR+vd//3cVFRW52rz77rtKS0tTu3btFBcXp9GjR6ukpKSZriaAhiIsAfAbf/zjH5Wenq5p06YpLy9PeXl5Sk5O1unTp3Xttdfq8ssv1zfffKOPPvpI+fn5uuWWW9yOf+2112SxWPTll1/qT3/6kyQpKChIzz//vHbt2qXXXntNGzZs0COPPCJJGj58uJ577jlFRUW53u+hhx6q1S+Hw6Ebb7xRBQUFyszMVEZGhg4cOKBbb73Vrd3+/fv197//XWvXrtXatWuVmZmp3/3ud5KkvLw83XbbbfrVr36lPXv26LPPPtNNN90knnUO+B634QD4jejoaFksFoWFhSkpKcm1/YUXXtDll1+uhQsXura9+uqrSk5O1g8//KDevXtLknr16qXf//73buesOf4pJSVFTz/9tKZPn67//d//lcViUXR0tEwmk9v7ne+TTz7R999/r4MHDyo5OVmS9Prrr+vSSy/Vli1bdOWVV0qqClXLly9XZGSkJGnSpEn65JNPtGDBAuXl5amiokI33XSTunbtKklKS0u7iKsFoKlQWQLg97799lt9+umnioiIcL369u0rqaqa4zRo0KBax65fv16jRo3SJZdcosjISE2aNEknT55UaWlpg99/z549Sk5OdgUlSUpNTVVMTIz27Nnj2paSkuIKSpLUsWNHHTt2TJJ02WWXadSoUUpLS9Mvf/lL/fnPf9apU6cafhEANBvCEgC/V1xcrH/7t3/Tjh073F4//vijrr76ale78PBwt+MOHTqk66+/XgMGDNDKlSu1detWLV26VFLVAPCmFhIS4va9yWSSw+GQJJnNZmVkZOjDDz9UamqqlixZoj59+ujgwYNN3g8AF4awBMCvWCwWVVZWum274oortGvXLqWkpKhnz55ur/MDUk1bt26Vw+HQH/7wBw0bNky9e/dWbm5uve93vn79+ik7O1vZ2dmubbt379bp06eVmpra4M9mMpk0YsQIPfXUU9q+fbssFotWr17d4OMBNA/CEgC/kpKSos2bN+vQoUM6ceKEHA6HZsyYoYKCAt12223asmWL9u/fr48//lh33XWX16DTs2dPlZeXa8mSJTpw4IDeeOMN18Dvmu9XXFysTz75RCdOnPB4e2706NFKS0vT7bffrm3btunrr7/W5MmT9dOf/lSDBw9u0OfavHmzFi5cqG+++UZHjhzRqlWrdPz4cfXr1+/CLhCAJkdYAuBXHnroIZnNZqWmpiohIUFHjhxRp06d9OWXX6qyslJjxoxRWlqaHnzwQcXExCgoqO5fc5dddpkWL16s//7v/1b//v311ltvadGiRW5thg8frunTp+vWW29VQkJCrQHiUlVF6L333lNsbKyuvvpqjR49Wt27d9ff/va3Bn+uqKgoff755/r5z3+u3r1769FHH9Uf/vAHXXfddQ2/OACahclgXioAAECdqCwBAAB4QVgCAADwgrAEAADgBWEJAADAC8ISAACAF4QlAAAALwhLAAAAXhCWAAAAvCAsAQAAeEFYAgAA8IKwBAAA4MX/BzZVs9EsatNvAAAAAElFTkSuQmCC",
=======
      "image/png": "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",
>>>>>>> eb95b26 (mac update)
      "text/plain": [
       "<Figure size 640x480 with 1 Axes>"
      ]
     },
     "metadata": {},
     "output_type": "display_data"
    }
   ],
   "source": [
    "fig, ax = plt.subplots()\n",
    "ax.plot(range(cost_history_dict[\"iters\"]), cost_history_dict[\"cost_history\"])\n",
    "ax.set_xlabel(\"Iterations\")\n",
    "ax.set_ylabel(\"Cost\")\n",
    "plt.draw()"
   ]
  },
  {
   "cell_type": "markdown",
   "metadata": {},
   "source": [
    "### Constructing the circuit from the O Malley paper (Fig 1) and calculate the molecular energy at the R = 0.75"
   ]
  },
  {
   "cell_type": "code",
   "execution_count": 277,
   "metadata": {},
   "outputs": [
    {
     "name": "stdout",
     "output_type": "stream",
     "text": [
      "g0 + g1 + g2 + g3 =  1.1102230246251565e-16\n",
      "g0 + g1 - g2 - g3 =  -0.2738\n",
      "g0 - g1 + g2 - g3 =  -1.8302\n",
      "g0 - g1 - g2 + g3 =  0.1823999999999999\n",
      "g5 + g4 =  0.182\n",
      "g5 - g4 =  0.0\n"
     ]
    },
    {
     "data": {
      "text/latex": [
       "$$\n",
       "\n",
       "\\begin{bmatrix}\n",
       "0 & 0 & 0 & 0  \\\\\n",
       " 0 & -0.2738 & 0.182 & 0  \\\\\n",
       " 0 & 0.182 & -1.8302 & 0  \\\\\n",
       " 0 & 0 & 0 & 0.1824  \\\\\n",
       " \\end{bmatrix}\n",
       "$$"
      ],
      "text/plain": [
       "<IPython.core.display.Latex object>"
      ]
     },
     "execution_count": 277,
     "metadata": {},
     "output_type": "execute_result"
    }
   ],
   "source": [
    "g0 = -0.4804\n",
    "g1 = 0.3435\n",
    "g2 = -0.4347\n",
    "g3 = 0.5716\n",
    "g4 = 0.091\n",
    "g5 = 0.091\n",
    "\n",
    "print('g0 + g1 + g2 + g3 = ', g0 + g1 + g2 + g3)\n",
    "print('g0 + g1 - g2 - g3 = ', g0 + g1 - g2 - g3)\n",
    "print('g0 - g1 + g2 - g3 = ', g0 - g1 + g2 - g3)\n",
    "print('g0 - g1 - g2 + g3 = ', g0 - g1 - g2 + g3)\n",
    "print('g5 + g4 = ', g5 + g4)\n",
    "print('g5 - g4 = ', g5 - g4)    \n",
    "\n",
    "matrix = np.array([[g0 + g1 + g2 + g3, 0 , 0 , g5 - g4],\n",
    "                   [0, g0 + g1 - g2 - g3, g5 + g4, 0],\n",
    "                   [0, g5 + g4, g0 - g1 + g2 - g3, 0],\n",
    "                   [g5 - g4, 0, 0, g0 - g1 - g2 + g3]])\n",
    "observable = SparsePauliOp.from_operator(Operator(matrix))\n",
    "\n",
    "# this is the alternative way to create the observable\n",
    "observable_2 = SparsePauliOp.from_list([('II', -0.4804), ('ZI', 0.3435), ('IZ', -0.4347), ('ZZ', 0.5716), ('XX', 0.0910), ('YY', 0.0910)])\n",
    "Operator(observable_2).draw('latex')"
   ]
  },
  {
   "cell_type": "code",
   "execution_count": 278,
   "metadata": {},
   "outputs": [
    {
     "data": {
      "text/latex": [
       "$$\n",
       "\n",
       "\\begin{bmatrix}\n",
       "0 & 0 & 0 & 0  \\\\\n",
       " 0 & -0.2738 & 0.182 & 0  \\\\\n",
       " 0 & 0.182 & -1.8302 & 0  \\\\\n",
       " 0 & 0 & 0 & 0.1824  \\\\\n",
       " \\end{bmatrix}\n",
       "$$"
      ],
      "text/plain": [
       "<IPython.core.display.Latex object>"
      ]
     },
     "execution_count": 278,
     "metadata": {},
     "output_type": "execute_result"
    }
   ],
   "source": [
    "Operator(observable).draw('latex')"
   ]
  },
  {
   "cell_type": "code",
   "execution_count": 279,
   "metadata": {},
   "outputs": [
    {
     "data": {
      "image/png": "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",
      "text/plain": [
       "<Figure size 705.35x200.667 with 1 Axes>"
      ]
     },
     "execution_count": 279,
     "metadata": {},
     "output_type": "execute_result"
    }
   ],
   "source": [
    "from qiskit import QuantumCircuit\n",
    "\n",
    "from qiskit.circuit import Parameter\n",
    "import numpy as np\n",
    "pi = np.pi\n",
    "theta = Parameter('θ')\n",
    "param1 = pi/2\n",
    "param2 = -pi/2\n",
    "qc = QuantumCircuit(2)\n",
    "\n",
    "qc.x(0)\n",
    "qc.barrier()\n",
    "qc.rx(param2,0)\n",
    "qc.ry(param1,1)\n",
    "\n",
    "qc.cx(1,0)\n",
    "\n",
    "qc.rz(theta,0)\n",
    "\n",
    "qc.cx(1,0)\n",
    "\n",
    "qc.ry(param2,1)\n",
    "qc.rx(param1,0)\n",
    "qc.draw('mpl')\n",
    "\n"
   ]
  },
  {
   "cell_type": "code",
   "execution_count": 280,
   "metadata": {},
   "outputs": [],
   "source": [
    "initial_params_h2 = np.random.uniform(low= -np.pi, high=np.pi, size=qc.num_parameters)"
   ]
  },
  {
   "cell_type": "code",
   "execution_count": 281,
   "metadata": {},
   "outputs": [
    {
     "name": "stdout",
     "output_type": "stream",
     "text": [
      " message: Optimization terminated successfully.\n",
      " success: True\n",
      "  status: 1\n",
      "     fun: -1.8511991165276083\n",
      "       x: [ 2.912e+00]\n",
      "    nfev: 24\n",
      "   maxcv: 0.0\n"
     ]
    }
   ],
   "source": [
    "result = minimize(cost_func_vqe, initial_params_h2, args=(qc, observable_2, estimator), method=\"COBYLA\",options={'maxiter': 12000})\n",
    "print(result)"
   ]
  },
  {
   "cell_type": "code",
   "execution_count": null,
   "metadata": {},
   "outputs": [],
   "source": []
  }
 ],
 "metadata": {
  "kernelspec": {
   "display_name": "qiskit",
   "language": "python",
   "name": "python3"
  },
  "language_info": {
   "codemirror_mode": {
    "name": "ipython",
    "version": 3
   },
   "file_extension": ".py",
   "mimetype": "text/x-python",
   "name": "python",
   "nbconvert_exporter": "python",
   "pygments_lexer": "ipython3",
   "version": "3.12.4"
  }
 },
 "nbformat": 4,
 "nbformat_minor": 2
}
