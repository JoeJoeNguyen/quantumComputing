{
 "cells": [
  {
   "cell_type": "code",
   "execution_count": 61,
   "metadata": {},
   "outputs": [],
   "source": [
    "from qiskit_nature.units import DistanceUnit\n",
    "from qiskit_nature.second_q.drivers import PySCFDriver\n",
    "import matplotlib.pyplot as plt\n",
    "driver = PySCFDriver(\n",
    "    atom=\"He 0 0 0; H+ 0 0 0.772\",\n",
    "    basis=\"sto-3g\",\n",
    "    charge=1,\n",
    "    spin=0,\n",
    ")\n",
    "\n",
    "problem = driver.run()\n",
    "#print(problem)"
   ]
  },
  {
   "cell_type": "code",
   "execution_count": 62,
   "metadata": {},
   "outputs": [
    {
     "name": "stdout",
     "output_type": "stream",
     "text": [
      "spatial orbitals:  2\n",
      "spin orbitals:  4\n",
      "num particles:  (1, 1)\n"
     ]
    }
   ],
   "source": [
    "fermionic_op = problem.hamiltonian.second_q_op()\n",
    "#print(fermionic_op)\n",
    "print('spatial orbitals: ', problem.num_spatial_orbitals)\n",
    "print('spin orbitals: ', problem.num_spin_orbitals)\n",
    "print('num particles: ', problem.num_particles)\n"
   ]
  },
  {
   "cell_type": "code",
   "execution_count": 63,
   "metadata": {},
   "outputs": [
    {
     "name": "stdout",
     "output_type": "stream",
     "text": [
      "SparsePauliOp(['IIII', 'IIIZ', 'IIZI', 'IIZZ', 'IZII', 'IZIZ', 'YYII', 'YYIZ', 'XXII', 'XXIZ', 'ZIII', 'ZIIZ', 'IIYY', 'IZYY', 'IIXX', 'IZXX', 'YYYY', 'XXYY', 'YYXX', 'XXXX', 'ZIYY', 'ZIXX', 'IZZI', 'YYZI', 'XXZI', 'ZIZI', 'ZZII'],\n",
      "              coeffs=[-2.91290137+0.j,  0.75891361+0.j,  0.19140054+0.j,  0.12887694+0.j,\n",
      "  0.75891361+0.j,  0.23578727+0.j,  0.05246557+0.j,  0.04322997+0.j,\n",
      "  0.05246557+0.j,  0.04322997+0.j,  0.19140054+0.j,  0.16528642+0.j,\n",
      "  0.05246557+0.j,  0.04322997+0.j,  0.05246557+0.j,  0.04322997+0.j,\n",
      "  0.03640948+0.j,  0.03640948+0.j,  0.03640948+0.j,  0.03640948+0.j,\n",
      " -0.00923466+0.j, -0.00923466+0.j,  0.16528642+0.j, -0.00923466+0.j,\n",
      " -0.00923466+0.j,  0.18815906+0.j,  0.12887694+0.j])\n"
     ]
    }
   ],
   "source": [
    "from qiskit_nature.second_q.mappers import JordanWignerMapper, ParityMapper\n",
    "\n",
    "mapper = JordanWignerMapper()\n",
    "qubit_jw_op = mapper.map(fermionic_op)\n",
    "print(qubit_jw_op)\n"
   ]
  },
  {
   "cell_type": "code",
   "execution_count": 64,
   "metadata": {},
   "outputs": [
    {
     "name": "stdout",
     "output_type": "stream",
     "text": [
      "[0, 2]\n",
      "[Pauli('IIIX'), Pauli('IXII')]\n",
      "[Pauli('IIZZ'), Pauli('ZZII')]\n",
      "SparsePauliOp(['II', 'IZ', 'ZI', 'ZZ', 'IX', 'ZX'],\n",
      "              coeffs=[-2.91290137+0.j, -0.56751307+0.j,  0.95031416+0.j, -0.04762822+0.j,\n",
      " -0.10493114+0.j, -0.06799062+0.j])\n"
     ]
    }
   ],
   "source": [
    "from qiskit.quantum_info import Z2Symmetries, SparsePauliOp\n",
    "def reduce_operator(op, reduced=False):\n",
    "    if reduced:\n",
    "        z2_symmetries = Z2Symmetries.find_z2_symmetries(qubit_jw_op)\n",
    "        #print(tqr_qubit_op)\n",
    "        reduced_qubit_op = z2_symmetries.taper(qubit_jw_op)\n",
    "        reduced_qubit_op = reduced_qubit_op[0]\n",
    "        return reduced_qubit_op\n",
    "    else:\n",
    "        return op\n",
    "        \n",
    "print(Z2Symmetries.find_z2_symmetries(qubit_jw_op).sq_list)\n",
    "print(Z2Symmetries.find_z2_symmetries(qubit_jw_op).sq_paulis)\n",
    "print(Z2Symmetries.find_z2_symmetries(qubit_jw_op).symmetries)\n",
    "z2_symmetries = Z2Symmetries.find_z2_symmetries(qubit_jw_op)\n",
    "newOp = Z2Symmetries(z2_symmetries.symmetries, z2_symmetries.sq_paulis, z2_symmetries.sq_list)\n",
    "#print(newOp.taper(qubit_jw_op))\n",
    "\n",
    "tapered_ops = newOp.taper(qubit_jw_op)\n",
    "\n",
    "first_tapered_op = tapered_ops[2]\n",
    "print(first_tapered_op)"
   ]
  },
  {
   "cell_type": "code",
   "execution_count": 65,
   "metadata": {},
   "outputs": [],
   "source": [
    "cost_history_dict = {\n",
    "    \"prev_vector\": None,\n",
    "    \"iters\": 0,\n",
    "    \"cost_history\": [],\n",
    "}\n",
    "\n"
   ]
  },
  {
   "cell_type": "code",
   "execution_count": 66,
   "metadata": {},
   "outputs": [
    {
     "data": {
      "image/png": "[encoded data removed]",
      "text/plain": [
       "<Figure size 370.906x200.667 with 1 Axes>"
      ]
     },
     "execution_count": 66,
     "metadata": {},
     "output_type": "execute_result"
    }
   ],
   "source": [
    "from qiskit_algorithms.optimizers import SLSQP,SPSA,COBYLA, L_BFGS_B\n",
    "from qiskit_algorithms import VQE\n",
    "from qiskit.circuit.library import RealAmplitudes\n",
    "from qiskit.primitives import StatevectorEstimator\n",
    "estimator = StatevectorEstimator()\n",
    "ansatz = RealAmplitudes(first_tapered_op.num_qubits, reps=1)\n",
    "optimizer = SLSQP()\n",
    "ansatz.decompose().draw('mpl')"
   ]
  },
  {
   "cell_type": "code",
   "execution_count": 67,
   "metadata": {},
   "outputs": [],
   "source": [
    "def cost_func_vqe(parameters, ansatz, hamiltonian, estimator):\n",
    "    \"\"\"Return estimate of energy from estimator\n",
    "\n",
    "    Parameters:\n",
    "        params (ndarray): Array of ansatz parameters\n",
    "        ansatz (QuantumCircuit): Parameterized ansatz circuit\n",
    "        hamiltonian (SparsePauliOp): Operator representation of Hamiltonian\n",
    "        estimator (Estimator): Estimator primitive instance\n",
    "\n",
    "    Returns:\n",
    "        float: Energy estimate\n",
    "    \"\"\"\n",
    "\n",
    "    estimator_job = estimator.run([(ansatz, hamiltonian, [parameters])])\n",
    "    estimator_result = estimator_job.result()[0]\n",
    "\n",
    "    cost = estimator_result.data.evs[0]\n",
    "    cost_history_dict[\"iters\"] += 1\n",
    "    cost_history_dict[\"prev_vector\"] = parameters\n",
    "    cost_history_dict[\"cost_history\"].append(cost)\n",
    "    return cost"
   ]
  },
  {
   "cell_type": "code",
   "execution_count": 68,
   "metadata": {},
   "outputs": [],
   "source": [
    "from scipy.optimize import minimize\n",
    "import numpy as np\n",
    "initial_params = np.random.uniform(low= -np.pi, high=np.pi, size=ansatz.num_parameters)"
   ]
  },
  {
   "cell_type": "code",
   "execution_count": 69,
   "metadata": {},
   "outputs": [
    {
     "name": "stdout",
     "output_type": "stream",
     "text": [
      " message: Optimization terminated successfully.\n",
      " success: True\n",
      "  status: 1\n",
      "     fun: -4.384411130651034\n",
      "       x: [ 1.657e+00 -1.571e+00  1.728e+00 -1.571e+00]\n",
      "    nfev: 70\n",
      "   maxcv: 0.0\n"
     ]
    }
   ],
   "source": [
    "result = minimize(cost_func_vqe, initial_params, args=(ansatz, first_tapered_op, estimator), method=\"COBYLA\",options={'maxiter': 12000})\n",
    "print(result)"
   ]
  },
  {
   "cell_type": "code",
   "execution_count": 70,
   "metadata": {},
   "outputs": [
    {
     "data": {
      "image/png": "[encoded data removed]",
      "text/plain": [
       "<Figure size 640x480 with 1 Axes>"
      ]
     },
     "metadata": {},
     "output_type": "display_data"
    }
   ],
   "source": [
    "fig, ax = plt.subplots()\n",
    "ax.plot(range(cost_history_dict[\"iters\"]), cost_history_dict[\"cost_history\"])\n",
    "ax.set_xlabel(\"Iterations\")\n",
    "ax.set_ylabel(\"Cost\")\n",
    "plt.draw()"
   ]
  }
 ],
 "metadata": {
  "kernelspec": {
   "display_name": "qiskit",
   "language": "python",
   "name": "python3"
  },
  "language_info": {
   "codemirror_mode": {
    "name": "ipython",
    "version": 3
   },
   "file_extension": ".py",
   "mimetype": "text/x-python",
   "name": "python",
   "nbconvert_exporter": "python",
   "pygments_lexer": "ipython3",
   "version": "3.12.4"
  }
 },
 "nbformat": 4,
 "nbformat_minor": 2
}
