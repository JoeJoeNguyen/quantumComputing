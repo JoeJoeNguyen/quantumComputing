{
 "cells": [
  {
   "cell_type": "markdown",
   "metadata": {},
   "source": [
    "# Variational Quantum Eigensolver\n",
    "\n",
    "1. Find the molecular Hamiltonian\n",
    "2. Prepare trial ground state -> ansatze \n",
    "3. Minimize the Hamiltonian expectation value "
   ]
  },
  {
   "cell_type": "markdown",
   "metadata": {},
   "source": []
  },
  {
   "cell_type": "code",
   "execution_count": 2,
   "metadata": {},
   "outputs": [],
   "source": [
    "from nablaDFT.dataset import HamiltonianDatabase\n",
    "\n",
    "train = HamiltonianDatabase(\"train_2k.db.1\")\n",
    "# atoms numbers, atoms positions, energy, forces, core hamiltonian, overlap matrix, coefficients matrix,\n",
    "# moses_id, conformation_id\n",
    "Z, R, E, F, H, S, C, moses_id, conformation_id = train[0]"
   ]
  },
  {
   "cell_type": "code",
   "execution_count": 3,
   "metadata": {},
   "outputs": [
    {
     "name": "stdout",
     "output_type": "stream",
     "text": [
      "[[-1.0311516e+01 -3.5775666e+00 -1.6967889e+00 ...  4.3943711e-08\n",
      "   6.2934968e-09  3.0937745e-08]\n",
      " [-3.5775666e+00 -1.8062615e+00 -1.2666078e+00 ... -1.8566280e-06\n",
      "  -2.2836042e-08 -1.5861200e-06]\n",
      " [-1.6967889e+00 -1.2666078e+00 -9.9351031e-01 ...  1.3497448e-07\n",
      "  -1.3766355e-06 -1.6656409e-06]\n",
      " ...\n",
      " [ 4.3943711e-08 -1.8566280e-06  1.3497448e-07 ...  1.3642637e+00\n",
      "   1.4585393e-02  1.2768622e-02]\n",
      " [ 6.2934968e-09 -2.2836042e-08 -1.3766355e-06 ...  1.4585393e-02\n",
      "   1.1804600e+00 -1.6807449e-01]\n",
      " [ 3.0937745e-08 -1.5861200e-06 -1.6656409e-06 ...  1.2768622e-02\n",
      "  -1.6807449e-01  1.2162186e+00]]\n"
     ]
    }
   ],
   "source": [
    "print(H)"
   ]
  },
  {
   "cell_type": "code",
   "execution_count": 4,
   "metadata": {},
   "outputs": [
    {
     "name": "stdout",
     "output_type": "stream",
     "text": [
      "[-1059.0074]\n"
     ]
    }
   ],
   "source": [
    "print(E)"
   ]
  },
  {
   "cell_type": "code",
   "execution_count": null,
   "metadata": {},
   "outputs": [],
   "source": []
  }
 ],
 "metadata": {
  "kernelspec": {
   "display_name": "Qiskit",
   "language": "python",
   "name": "python3"
  },
  "language_info": {
   "codemirror_mode": {
    "name": "ipython",
    "version": 3
   },
   "file_extension": ".py",
   "mimetype": "text/x-python",
   "name": "python",
   "nbconvert_exporter": "python",
   "pygments_lexer": "ipython3",
   "version": "3.12.4"
  }
 },
 "nbformat": 4,
 "nbformat_minor": 2
}
