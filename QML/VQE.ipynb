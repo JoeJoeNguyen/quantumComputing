{
 "cells": [
  {
   "cell_type": "markdown",
   "metadata": {},
   "source": [
    "# Variational Quantum Eigensolver\n",
    "\n",
    "1. Find the molecular Hamiltonian\n",
    "2. Prepare trial ground state -> ansatze \n",
    "3. Minimize the Hamiltonian expectation value "
   ]
  },
  {
   "cell_type": "markdown",
   "metadata": {},
   "source": []
  },
  {
   "cell_type": "code",
   "execution_count": 2,
   "metadata": {},
   "outputs": [],
   "source": [
    "from sympy import Matrix\n",
    "from sympy.printing.latex import latex\n",
    "\n",
    "from nablaDFT.dataset import HamiltonianDatabase\n",
    "\n",
    "train = HamiltonianDatabase(\"train_2k.db.1\")\n",
    "# atoms numbers, atoms positions, energy, forces, core hamiltonian, overlap matrix, coefficients matrix,\n",
    "# moses_id, conformation_id\n",
    "Z, R, E, F, H, S, C, moses_id, conformation_id = train[0]"
   ]
  },
  {
   "cell_type": "code",
   "execution_count": 3,
   "metadata": {},
   "outputs": [
    {
     "name": "stdout",
     "output_type": "stream",
     "text": [
      "[-1059.0074]\n"
     ]
    }
   ],
   "source": [
    "print(E)"
   ]
  },
  {
   "cell_type": "code",
   "execution_count": 4,
   "metadata": {},
   "outputs": [
    {
     "name": "stdout",
     "output_type": "stream",
     "text": [
      "402 x 402\n"
     ]
    }
   ],
   "source": [
    "print(len(H), 'x', len(H[0]))\n"
   ]
  },
  {
   "cell_type": "code",
   "execution_count": 5,
   "metadata": {},
   "outputs": [
    {
     "name": "stdout",
     "output_type": "stream",
     "text": [
      "(-23.17431+0j)\n"
     ]
    }
   ],
   "source": [
    "import scipy\n",
    "\n",
    "# Calculate eigenvalues and eigenvectors of H\n",
    "eigenvalues, eigenvectors = scipy.linalg.eig(H)\n",
    "print(min(eigenvalues))"
   ]
  },
  {
   "cell_type": "code",
   "execution_count": 20,
   "metadata": {},
   "outputs": [
    {
     "name": "stdout",
     "output_type": "stream",
     "text": [
      "[[3.9313097581887684, 4.249181754610189, 2.9923491629554295, 0.6651360225293504, 0.9243290321599311, 3.2516732583509578, 5.926220246839646, 5.287161438168098, 4.784130875198755, 4.660665770395252, 4.228199153568526, 3.770642483386545, 4.4633759204585655, 6.077982832084627, 2.1553094329583264, 5.719173014999693, 3.641120417610566, 4.94337139573833, 1.7113046030913703, 3.6255823236395766, 0.10037722140280267, 5.743625716053674, 1.9695396352145536, 1.3852502650508862, 2.275342788063048, 0.8929583283646447, 4.685495102471758, 4.9282909122381255, 2.3309626354237825, 0.2598875654759464, 5.440938733974955, 3.5484413996707183, 2.1512806693283903, 2.0151978164571553, 1.9203012915852904, 4.872977792996251]]\n"
     ]
    },
    {
     "data": {
      "image/png": "[encoded data removed]",
      "text/plain": [
       "<Figure size 956.385x785.944 with 1 Axes>"
      ]
     },
     "execution_count": 20,
     "metadata": {},
     "output_type": "execute_result"
    }
   ],
   "source": [
    "from qiskit.quantum_info import SparsePauliOp, Operator\n",
    "import numpy as np\n",
    "# Convert the matrix to an Operator\n",
    "H_original = H \n",
    "H_mapped = np.zeros((512, 512))\n",
    "H_mapped[:402, :402] = H_original\n",
    "operator = Operator(H_mapped)\n",
    "#Convert the Operator to a SparsePauliOp\n",
    "sparse_pauli_op = SparsePauliOp.from_operator(operator)\n",
    "\n",
    "#print(sparse_pauli_op)\n",
    "\n",
    "from qiskit import QuantumCircuit\n",
    "from qiskit.quantum_info import SparsePauliOp\n",
    "from qiskit.circuit.library import TwoLocal\n",
    "import numpy as np\n",
    "\n",
    "theta_list = (2 * np.pi * np.random.rand(1, 36)).tolist()\n",
    "#observable=SparsePauliOp.from_list([(\"II\", 0.5), (\"XX\", -0.5), (\"YY\", -0.5), (\"ZZ\", 0.5)])\n",
    "\n",
    "reference_circuit = QuantumCircuit(9)\n",
    "reference_circuit.x(0)\n",
    "\n",
    "variational_form = TwoLocal(\n",
    "    9,\n",
    "    rotation_blocks=[\"rz\", \"ry\"],\n",
    "    entanglement_blocks=\"cx\",\n",
    "    entanglement=\"linear\",\n",
    "    reps=6,\n",
    ")\n",
    "ansatz = reference_circuit.compose(variational_form)\n",
    "print(theta_list)\n",
    "ansatz.draw('mpl')\n"
   ]
  },
  {
   "cell_type": "code",
   "execution_count": 7,
   "metadata": {},
   "outputs": [
    {
     "name": "stdout",
     "output_type": "stream",
     "text": [
      "(-23.17432034817615+0j)\n"
     ]
    }
   ],
   "source": [
    "eigenvalues_mapped, eigenvectors_mapped = scipy.linalg.eig(H_mapped)\n",
    "print(min(eigenvalues_mapped))"
   ]
  },
  {
   "cell_type": "code",
   "execution_count": 8,
   "metadata": {},
   "outputs": [],
   "source": [
    "def cost_func_vqe(parameters, ansatz, hamiltonian, estimator):\n",
    "    \"\"\"Return estimate of energy from estimator\n",
    "\n",
    "    Parameters:\n",
    "        params (ndarray): Array of ansatz parameters\n",
    "        ansatz (QuantumCircuit): Parameterized ansatz circuit\n",
    "        hamiltonian (SparsePauliOp): Operator representation of Hamiltonian\n",
    "        estimator (Estimator): Estimator primitive instance\n",
    "\n",
    "    Returns:\n",
    "        float: Energy estimate\n",
    "    \"\"\"\n",
    "\n",
    "    estimator_job = estimator.run([(ansatz, hamiltonian, [parameters])])\n",
    "    estimator_result = estimator_job.result()[0]\n",
    "\n",
    "    cost = estimator_result.data.evs[0]\n",
    "    return cost"
   ]
  },
  {
   "cell_type": "code",
   "execution_count": 9,
   "metadata": {},
   "outputs": [
    {
     "name": "stdout",
     "output_type": "stream",
     "text": [
      "[5.05495408 2.14007077 5.95573612 2.25528226 1.80783052 6.15683298\n",
      " 5.82010306 4.85377339 1.03800083 0.95191414 3.34553633 4.89733776\n",
      " 1.01442317 4.03763588 5.97265386 2.831167   1.36276306 0.98491082\n",
      " 5.8282525  2.0259676  3.43213273 1.96086091 0.15619216 1.60369149\n",
      " 1.08055419 3.16913065 2.31566282 2.49344347 2.67184913 1.22331499\n",
      " 4.36525789 3.80330807 3.33522983 3.12311865 5.4429054  3.48225704]\n"
     ]
    }
   ],
   "source": [
    "from qiskit.primitives import StatevectorEstimator\n",
    "estimator = StatevectorEstimator()\n",
    "x0 = np.random.uniform(low=0, high=2*np.pi, size=36)\n",
    "print(x0) "
   ]
  },
  {
   "cell_type": "code",
   "execution_count": 10,
   "metadata": {},
   "outputs": [
    {
     "data": {
      "text/plain": [
       " message: Optimization terminated successfully.\n",
       " success: True\n",
       "  status: 1\n",
       "     fun: -21.913340609955515\n",
       "       x: [ 6.011e+00  2.465e+00 ...  6.283e+00  1.623e+00]\n",
       "    nfev: 1787\n",
       "   maxcv: 0.0"
      ]
     },
     "execution_count": 10,
     "metadata": {},
     "output_type": "execute_result"
    }
   ],
   "source": [
    "# SciPy minimizer routine\n",
    "from scipy.optimize import minimize\n",
    "\n",
    "\n",
    "\n",
    "result = minimize(cost_func_vqe, x0, args=(ansatz, sparse_pauli_op, estimator), method=\"COBYLA\",options={'maxiter': 2000})\n",
    "\n",
    "result"
   ]
  },
  {
   "cell_type": "code",
   "execution_count": 21,
   "metadata": {},
   "outputs": [
    {
     "name": "stdout",
     "output_type": "stream",
     "text": [
      "[ 6.01126402e+00  2.46527174e+00  7.28530871e+00  1.51893746e+00\n",
      "  1.95742173e+00  6.64649133e+00  6.20446801e+00  5.32631637e+00\n",
      " -1.10285743e+00 -4.16819668e-06  3.14167459e+00  3.14154017e+00\n",
      "  3.14149103e+00  6.28348108e+00  6.28259798e+00  3.15396854e+00\n",
      " -1.47697776e-04  1.51907562e+00  7.10009537e+00  3.83281045e+00\n",
      "  3.67556628e+00  3.10237867e+00  6.10610747e-01  2.25914447e+00\n",
      " -7.18753322e-02  3.47731665e+00  3.14161158e+00  2.41981750e+00\n",
      "  3.14024756e+00 -2.22094519e-03  6.28517546e+00  3.20284309e+00\n",
      "  3.14208095e+00  3.14158226e+00  6.28333332e+00  1.62250190e+00]\n"
     ]
    }
   ],
   "source": [
    "print(result.x)"
   ]
  },
  {
   "cell_type": "code",
   "execution_count": 22,
   "metadata": {},
   "outputs": [
    {
     "name": "stdout",
     "output_type": "stream",
     "text": [
      "-21.913340609955515\n"
     ]
    }
   ],
   "source": [
    "print(result.fun)"
   ]
  },
  {
   "cell_type": "code",
   "execution_count": null,
   "metadata": {},
   "outputs": [],
   "source": []
  }
 ],
 "metadata": {
  "kernelspec": {
   "display_name": "Qiskit",
   "language": "python",
   "name": "python3"
  },
  "language_info": {
   "codemirror_mode": {
    "name": "ipython",
    "version": 3
   },
   "file_extension": ".py",
   "mimetype": "text/x-python",
   "name": "python",
   "nbconvert_exporter": "python",
   "pygments_lexer": "ipython3",
   "version": "3.12.4"
  }
 },
 "nbformat": 4,
 "nbformat_minor": 2
}
