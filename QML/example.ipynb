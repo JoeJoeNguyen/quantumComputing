{
 "cells": [
  {
   "cell_type": "code",
   "execution_count": 29,
   "metadata": {},
   "outputs": [
    {
     "name": "stdout",
     "output_type": "stream",
     "text": [
      "Measurement in the ZZ basis\n"
     ]
    },
    {
     "data": {
      "image/png": "[encoded data removed]",
      "text/plain": [
       "<Figure size 370.906x284.278 with 1 Axes>"
      ]
     },
     "execution_count": 29,
     "metadata": {},
     "output_type": "execute_result"
    }
   ],
   "source": [
    "import qiskit as qk\n",
    "\n",
    "qc = qk.QuantumCircuit(2,1)\n",
    "qc.barrier()\n",
    "qc.cx(0,1)\n",
    "qc.measure(1,0)\n",
    "print(\"Measurement in the ZZ basis\")\n",
    "qc.draw(output=\"mpl\")"
   ]
  },
  {
   "cell_type": "code",
   "execution_count": 30,
   "metadata": {},
   "outputs": [
    {
     "name": "stdout",
     "output_type": "stream",
     "text": [
      "Measurement in the XX basis\n"
     ]
    },
    {
     "data": {
      "image/png": "[encoded data removed]",
      "text/plain": [
       "<Figure size 454.517x284.278 with 1 Axes>"
      ]
     },
     "execution_count": 30,
     "metadata": {},
     "output_type": "execute_result"
    }
   ],
   "source": [
    "qc = qk.QuantumCircuit(2,1)\n",
    "qc.barrier()\n",
    "qc.h(0)\n",
    "qc.h(1)\n",
    "qc.cx(0,1)\n",
    "qc.measure(1,0)\n",
    "print(\"Measurement in the XX basis\")\n",
    "qc.draw(output=\"mpl\")"
   ]
  },
  {
   "cell_type": "code",
   "execution_count": 31,
   "metadata": {},
   "outputs": [
    {
     "name": "stdout",
     "output_type": "stream",
     "text": [
      "Measurement in the YY basis\n"
     ]
    },
    {
     "data": {
      "image/png": "[encoded data removed]",
      "text/plain": [
       "<Figure size 538.128x284.278 with 1 Axes>"
      ]
     },
     "execution_count": 31,
     "metadata": {},
     "output_type": "execute_result"
    }
   ],
   "source": [
    "qc = qk.QuantumCircuit(2,1)\n",
    "qc.barrier()\n",
    "qc.sdg(0)\n",
    "qc.sdg(1)\n",
    "qc.h(0)\n",
    "qc.h(1)\n",
    "qc.cx(0,1)\n",
    "qc.measure(1,0)\n",
    "print(\"Measurement in the YY basis\")\n",
    "qc.draw(output=\"mpl\")"
   ]
  },
  {
   "cell_type": "code",
   "execution_count": 32,
   "metadata": {},
   "outputs": [],
   "source": [
    "from qiskit_aer import Aer\n",
    "import numpy as np\n",
    "from scipy.optimize import minimize_scalar, minimize\n",
    "from numpy import pi\n",
    "\n",
    "sim_bknd = Aer.get_backend('qasm_simulator')"
   ]
  },
  {
   "cell_type": "code",
   "execution_count": 33,
   "metadata": {},
   "outputs": [],
   "source": [
    "def ansatz(qc, qr, theta):\n",
    "    \"\"\"\n",
    "    Builds the trial state using the ansatz: (RX I) CX (H I)|00>\n",
    "    \n",
    "    Arguments\n",
    "    -----------\n",
    "    qc: is a QuantumCircuit object from Qiskit\n",
    "    qr: is a QuantumRegister object used in the quantum circuit qc\n",
    "    theta (real): is the parameter parametrizing the trial state\n",
    "    \n",
    "    Return\n",
    "    ---------\n",
    "    qc: returns the input quantum circuit added with the gates creating the trial state\n",
    "    \n",
    "    \"\"\"\n",
    "    \n",
    "    qc.h(qr[0])\n",
    "    qc.cx(qr[0],qr[1])\n",
    "    qc.rx(theta, qr[0])\n",
    "    \n",
    "    return qc\n",
    "\n",
    "def measurements(qc, qr, cr, op):\n",
    "    \"\"\"\n",
    "    Implements the quantum measurements in different basis: XX, YY and ZZ.\n",
    "    \n",
    "    Arguments\n",
    "    -----------\n",
    "    qc: is a QuantumCircuit object from Qiskit\n",
    "    qr: is a QuantumRegister object used in the quantum circuit qc\n",
    "    cr: is a ClassicalRegister object used in the quantum circuit qc\n",
    "    op (str): is a string with possible values: XX, YY and ZZ.\n",
    "    \n",
    "    \n",
    "    Return\n",
    "    ---------\n",
    "    qc: returns the input quantum circuit added with the appropriate gates to measure in the selected basis.\n",
    "    \n",
    "    \"\"\"\n",
    "    \n",
    "    if op == \"XX\":\n",
    "        # Change of basis, since X = HZH\n",
    "        qc.h(qr[0])\n",
    "        qc.h(qr[1])\n",
    "        \n",
    "        # CNOT used to measure ZZ operator\n",
    "        qc.cx(qr[0],qr[1])\n",
    "        \n",
    "        # Measurement of qubit 1 on classical register 0\n",
    "        qc.measure(qr[1],cr[0])\n",
    "        \n",
    "    elif op == \"YY\":\n",
    "        # Change of basis, since Y = (HS†)Z(HS†)\n",
    "        qc.sdg(qr[0])\n",
    "        qc.sdg(qr[1])\n",
    "        qc.h(qr[0])\n",
    "        qc.h(qr[1])\n",
    "        \n",
    "        # CNOT used to measure ZZ operator\n",
    "        qc.cx(qr[0],qr[1])\n",
    "        \n",
    "        # Measurement of qubit 1 on classical register 0\n",
    "        qc.measure(qr[1],cr[0])\n",
    "        \n",
    "    elif op == \"ZZ\":\n",
    "        # CNOT used to measure ZZ operator\n",
    "        qc.cx(qr[0],qr[1])\n",
    "        \n",
    "        # Measurement of qubit 1 on classical register 0\n",
    "        qc.measure(qr[1],cr[0])\n",
    "    \n",
    "    else:\n",
    "        print(f\"WARNING: Measurement on the {op} basis not supported\")\n",
    "        return \n",
    "        \n",
    "    return qc\n",
    "\n",
    "def hamiltonian(params):\n",
    "    \"\"\"\n",
    "    Evaulates the Energy of the trial state using the mean values of the operators XX, YY and ZZ.\n",
    "    \n",
    "    Arguments\n",
    "    -----------\n",
    "    params (dict): is an dictionary containing the mean values form the measurements of the operators XX, YY, ZZ;\n",
    "    \n",
    "    Return\n",
    "    ---------\n",
    "    en (real): energy of the system\n",
    "    \n",
    "    \"\"\"\n",
    "    # H = 1/2 * (Id + ZZ - XX - YY)\n",
    "    en = (1 + params['ZZ'] - params['XX'] - params['YY']) / 2\n",
    "    return en\n",
    "\n",
    "def vqe_step(theta, verbose = True):\n",
    "    \"\"\"\n",
    "    Executes the VQE algorithm. \n",
    "    Creates and executes three quantum circuits (one for each of the observables XX, YY and ZZ), then evaluates the energy.\n",
    "    \n",
    "    Arguments\n",
    "    -----------\n",
    "    theta (real): is the parameter parametrizing the trial state\n",
    "    \n",
    "    Return\n",
    "    --------\n",
    "    energy (real): the energy of the system\n",
    "    qc_list (dict): a dictionary containing the three quantum circuits for the observables XX, YY and ZZ\n",
    "    \n",
    "    \"\"\"\n",
    "    # Number of executions for each quantum circuit\n",
    "    shots=8192\n",
    "    \n",
    "    vqe_res = dict()\n",
    "    qc_list = dict()\n",
    "    \n",
    "    for op in [\"XX\", \"YY\", \"ZZ\"]:\n",
    "        qr = qk.QuantumRegister(2, \"qr\")\n",
    "        cr = qk.ClassicalRegister(1, \"cr\")\n",
    "        qc = qk.QuantumCircuit(qr, cr)\n",
    "\n",
    "        # Implementation of the ansatz\n",
    "        qc = ansatz(qc, qr, theta)\n",
    "\n",
    "        # Just for plotting purposes\n",
    "        qc.barrier()\n",
    "\n",
    "        # Measurements in the appropriate basis (XX, YY, ZZ) are implemented\n",
    "        qc = measurements(qc, qr, cr, op)\n",
    "                \n",
    "        # Get the measurements results\n",
    "        counts = sim_bknd.run(qc, shots=shots).result().get_counts()\n",
    "\n",
    "        # Check the results, and evaluate the mean value dividing by the number of shots\n",
    "        if len(counts) == 1: \n",
    "            try:\n",
    "                counts['0']\n",
    "                mean_val = 1\n",
    "            except:\n",
    "                mean_val = -1\n",
    "        else:\n",
    "            # Evaluates the mean value of Z operator, as the difference in the number of \n",
    "            # 0s and 1s in the measurement outcomes\n",
    "            mean_val = (counts['0']-counts['1'])/shots\n",
    "            \n",
    "        vqe_res[op] = mean_val\n",
    "        qc_list[op] = qc\n",
    "        \n",
    "    energy = hamiltonian(vqe_res)\n",
    "    \n",
    "    if verbose: \n",
    "        print(\"Mean values from measurement results:\\n\", vqe_res) \n",
    "        print(f\"\\n{'Theta':<10} {'Energy':<10} {'<XX>':<10} {'<YY>':<10} {'<ZZ>':<10}\")\n",
    "        print(f\"{theta:<10f} {energy:<10f} {vqe_res['XX']:<10f} {vqe_res['YY']:<10f} {vqe_res['ZZ']:<10f}\")\n",
    "    \n",
    "        return energy, qc_list\n",
    "    \n",
    "    else: \n",
    "        return energy"
   ]
  },
  {
   "cell_type": "code",
   "execution_count": 34,
   "metadata": {},
   "outputs": [
    {
     "name": "stdout",
     "output_type": "stream",
     "text": [
      "Mean values from measurement results:\n",
      " {'XX': 1, 'YY': -0.983642578125, 'ZZ': 0.982421875}\n",
      "\n",
      "Theta      Energy     <XX>       <YY>       <ZZ>      \n",
      "0.200000   0.983032   1.000000   -0.983643  0.982422  \n",
      "\n",
      "Quantum circuit for the measurement of YY\n"
     ]
    },
    {
     "data": {
      "image/png": "[encoded data removed]",
      "text/plain": [
       "<Figure size 800.98x284.278 with 1 Axes>"
      ]
     },
     "execution_count": 34,
     "metadata": {},
     "output_type": "execute_result"
    }
   ],
   "source": [
    "# Set the value of theta\n",
    "theta = 0.2\n",
    "\n",
    "# Run the VQE step to evaluate the energy (eigenvalue of the Hamiltonian) of the state with given theta\n",
    "energy, qc_list = vqe_step(theta)\n",
    "\n",
    "# Plot the circuit used for the measurement of YY\n",
    "op = 'YY'\n",
    "print(f\"\\nQuantum circuit for the measurement of {op}\")\n",
    "qc_list[op].draw(output=\"mpl\")"
   ]
  },
  {
   "cell_type": "code",
   "execution_count": null,
   "metadata": {},
   "outputs": [],
   "source": []
  }
 ],
 "metadata": {
  "kernelspec": {
   "display_name": "new_qiskit_env",
   "language": "python",
   "name": "python3"
  },
  "language_info": {
   "codemirror_mode": {
    "name": "ipython",
    "version": 3
   },
   "file_extension": ".py",
   "mimetype": "text/x-python",
   "name": "python",
   "nbconvert_exporter": "python",
   "pygments_lexer": "ipython3",
   "version": "3.12.4"
  }
 },
 "nbformat": 4,
 "nbformat_minor": 2
}
