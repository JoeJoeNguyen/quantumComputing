{
 "cells": [
  {
   "cell_type": "markdown",
   "metadata": {},
   "source": [
    "$\\text{Deutsch-Jozsa Algorithm}$"
   ]
  },
  {
   "cell_type": "code",
   "execution_count": 8,
   "metadata": {},
   "outputs": [],
   "source": [
    "#Importing\n",
    "\n",
    "import qiskit\n",
    "import numpy as np\n",
    "import math\n",
    "from qiskit import QuantumCircuit,QuantumRegister,transpile, ClassicalRegister\n",
    "from qiskit.quantum_info import DensityMatrix, Operator\n",
    "from qiskit_aer import AerSimulator, Aer\n",
    "from qiskit.visualization import plot_histogram, plot_bloch_vector, plot_bloch_multivector, plot_state_city, plot_state_qsphere, array_to_latex\n",
    "from qiskit.quantum_info import Statevector, random_statevector\n",
    "from  math import pi, sqrt\n",
    "from qiskit.circuit.library import Initialize\n",
    "from qiskit.circuit.library import IGate\n",
    "\n",
    "mpl = 'mpl'"
   ]
  },
  {
   "cell_type": "code",
   "execution_count": 9,
   "metadata": {},
   "outputs": [
    {
     "data": {
      "image/png": "[encoded data removed]",
      "text/plain": [
       "<Figure size 162.08x284.278 with 1 Axes>"
      ]
     },
     "execution_count": 9,
     "metadata": {},
     "output_type": "execute_result"
    }
   ],
   "source": [
    "#Constant Oracle\n",
    "n = 2\n",
    "const_oracle = QuantumCircuit(n+1)\n",
    "output = np.random.randint(2)\n",
    "if output == 1:\n",
    "    const_oracle.x(n)\n",
    "const_oracle.draw(mpl)"
   ]
  },
  {
   "cell_type": "code",
   "execution_count": 10,
   "metadata": {},
   "outputs": [],
   "source": [
    "#DJ circuit\n",
    "\n",
    "dj_ciruit = QuantumCircuit(n+1, n)\n",
    "\n",
    "\n"
   ]
  }
 ],
 "metadata": {
  "kernelspec": {
   "display_name": "Qiskit",
   "language": "python",
   "name": "python3"
  },
  "language_info": {
   "codemirror_mode": {
    "name": "ipython",
    "version": 3
   },
   "file_extension": ".py",
   "mimetype": "text/x-python",
   "name": "python",
   "nbconvert_exporter": "python",
   "pygments_lexer": "ipython3",
   "version": "3.12.4"
  }
 },
 "nbformat": 4,
 "nbformat_minor": 2
}
