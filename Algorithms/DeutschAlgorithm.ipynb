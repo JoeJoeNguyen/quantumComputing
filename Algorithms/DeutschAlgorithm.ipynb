{
 "cells": [
  {
   "cell_type": "markdown",
   "metadata": {},
   "source": [
    "$\\text{Deutsch Algorithm}$"
   ]
  },
  {
   "cell_type": "code",
   "execution_count": 7,
   "metadata": {},
   "outputs": [],
   "source": [
    "#Importing\n",
    "\n",
    "import qiskit\n",
    "import numpy as np\n",
    "import math\n",
    "from qiskit import QuantumCircuit,QuantumRegister,transpile, ClassicalRegister\n",
    "from qiskit.quantum_info import DensityMatrix, Operator\n",
    "from qiskit_aer import AerSimulator, Aer\n",
    "from qiskit.visualization import plot_histogram, plot_bloch_vector, plot_bloch_multivector, plot_state_city, plot_state_qsphere, array_to_latex\n",
    "from qiskit.quantum_info import Statevector, random_statevector\n",
    "from  math import pi, sqrt\n",
    "from qiskit.circuit.library import Initialize\n",
    "from qiskit.circuit.library import IGate\n",
    "\n",
    "mpl = 'mpl'"
   ]
  },
  {
   "cell_type": "code",
   "execution_count": 8,
   "metadata": {},
   "outputs": [
    {
     "data": {
      "image/png": "[encoded data removed]",
      "text/plain": [
       "<Figure size 872.572x284.278 with 1 Axes>"
      ]
     },
     "execution_count": 8,
     "metadata": {},
     "output_type": "execute_result"
    }
   ],
   "source": [
    "qc = QuantumCircuit(2,1,name= 'qc')\n",
    "\n",
    "#apply x gate on the second qubit\n",
    "qc.x(1)\n",
    "qc.barrier()\n",
    "\n",
    "#hadamard gate on both qubits \n",
    "qc.h(0)\n",
    "qc.h(1)\n",
    "qc.barrier()\n",
    "\n",
    "#the oracle\n",
    "qc.id(0)\n",
    "qc.id(1)\n",
    "qc.barrier()\n",
    "\n",
    "qc.h(0)\n",
    "qc.barrier()\n",
    "\n",
    "qc.measure(0,0)\n",
    "\n",
    "qc.draw(mpl)\n"
   ]
  },
  {
   "cell_type": "code",
   "execution_count": null,
   "metadata": {},
   "outputs": [],
   "source": []
  }
 ],
 "metadata": {
  "kernelspec": {
   "display_name": "Qiskit",
   "language": "python",
   "name": "python3"
  },
  "language_info": {
   "codemirror_mode": {
    "name": "ipython",
    "version": 3
   },
   "file_extension": ".py",
   "mimetype": "text/x-python",
   "name": "python",
   "nbconvert_exporter": "python",
   "pygments_lexer": "ipython3",
   "version": "3.12.4"
  }
 },
 "nbformat": 4,
 "nbformat_minor": 2
}
