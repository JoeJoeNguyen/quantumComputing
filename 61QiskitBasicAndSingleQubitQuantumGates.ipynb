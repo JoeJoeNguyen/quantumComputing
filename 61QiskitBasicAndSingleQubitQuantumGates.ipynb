{
 "cells": [
  {
   "cell_type": "code",
   "execution_count": null,
   "metadata": {},
   "outputs": [],
   "source": [
    "import qiskit "
   ]
  },
  {
   "cell_type": "code",
   "execution_count": 1,
   "metadata": {},
   "outputs": [
    {
     "ename": "NameError",
     "evalue": "name 'qiskit' is not defined",
     "output_type": "error",
     "traceback": [
      "\u001b[0;31m---------------------------------------------------------------------------\u001b[0m",
      "\u001b[0;31mNameError\u001b[0m                                 Traceback (most recent call last)",
      "Cell \u001b[0;32mIn[1], line 1\u001b[0m\n\u001b[0;32m----> 1\u001b[0m \u001b[43mqiskit\u001b[49m\u001b[38;5;241m.\u001b[39m__version__\n",
      "\u001b[0;31mNameError\u001b[0m: name 'qiskit' is not defined"
     ]
    }
   ],
   "source": [
    "qiskit.__version__"
   ]
  },
  {
   "cell_type": "code",
   "execution_count": 2,
   "metadata": {},
   "outputs": [],
   "source": [
    "import qiskit "
   ]
  },
  {
   "cell_type": "code",
   "execution_count": 3,
   "metadata": {},
   "outputs": [
    {
     "data": {
      "text/plain": [
       "'1.1.1'"
      ]
     },
     "execution_count": 3,
     "metadata": {},
     "output_type": "execute_result"
    }
   ],
   "source": [
    "qiskit.__version__"
   ]
  },
  {
   "cell_type": "code",
   "execution_count": 4,
   "metadata": {},
   "outputs": [
    {
     "ename": "AttributeError",
     "evalue": "module 'qiskit' has no attribute '__qiskit_version__'",
     "output_type": "error",
     "traceback": [
      "\u001b[0;31m---------------------------------------------------------------------------\u001b[0m",
      "\u001b[0;31mAttributeError\u001b[0m                            Traceback (most recent call last)",
      "Cell \u001b[0;32mIn[4], line 1\u001b[0m\n\u001b[0;32m----> 1\u001b[0m \u001b[43mqiskit\u001b[49m\u001b[38;5;241;43m.\u001b[39;49m\u001b[43m__qiskit_version__\u001b[49m\n",
      "\u001b[0;31mAttributeError\u001b[0m: module 'qiskit' has no attribute '__qiskit_version__'"
     ]
    }
   ],
   "source": [
    "qiskit.__qiskit_version__"
   ]
  },
  {
   "cell_type": "code",
   "execution_count": 5,
   "metadata": {},
   "outputs": [
    {
     "ename": "NameError",
     "evalue": "name 'Aer' is not defined",
     "output_type": "error",
     "traceback": [
      "\u001b[0;31m---------------------------------------------------------------------------\u001b[0m",
      "\u001b[0;31mNameError\u001b[0m                                 Traceback (most recent call last)",
      "Cell \u001b[0;32mIn[5], line 1\u001b[0m\n\u001b[0;32m----> 1\u001b[0m \u001b[43mAer\u001b[49m\u001b[38;5;241m.\u001b[39mbackends()\n",
      "\u001b[0;31mNameError\u001b[0m: name 'Aer' is not defined"
     ]
    }
   ],
   "source": [
    "Aer.backends()"
   ]
  },
  {
   "cell_type": "code",
   "execution_count": 6,
   "metadata": {},
   "outputs": [
    {
     "ename": "ImportError",
     "evalue": "cannot import name 'Aer' from 'qiskit' (/opt/miniconda3/envs/Qiskit/lib/python3.12/site-packages/qiskit/__init__.py)",
     "output_type": "error",
     "traceback": [
      "\u001b[0;31m---------------------------------------------------------------------------\u001b[0m",
      "\u001b[0;31mImportError\u001b[0m                               Traceback (most recent call last)",
      "Cell \u001b[0;32mIn[6], line 1\u001b[0m\n\u001b[0;32m----> 1\u001b[0m \u001b[38;5;28;01mfrom\u001b[39;00m \u001b[38;5;21;01mqiskit\u001b[39;00m \u001b[38;5;28;01mimport\u001b[39;00m Aer\n",
      "\u001b[0;31mImportError\u001b[0m: cannot import name 'Aer' from 'qiskit' (/opt/miniconda3/envs/Qiskit/lib/python3.12/site-packages/qiskit/__init__.py)"
     ]
    }
   ],
   "source": [
    "from qiskit import Aer"
   ]
  },
  {
   "cell_type": "code",
   "execution_count": 7,
   "metadata": {},
   "outputs": [
    {
     "name": "stdout",
     "output_type": "stream",
     "text": [
      "Requirement already satisfied: qiskit-Aer in /opt/miniconda3/envs/Qiskit/lib/python3.12/site-packages (0.14.2)\n",
      "Requirement already satisfied: qiskit>=0.45.2 in /opt/miniconda3/envs/Qiskit/lib/python3.12/site-packages (from qiskit-Aer) (1.1.1)\n",
      "Requirement already satisfied: numpy>=1.16.3 in /opt/miniconda3/envs/Qiskit/lib/python3.12/site-packages (from qiskit-Aer) (2.0.0)\n",
      "Requirement already satisfied: scipy>=1.0 in /opt/miniconda3/envs/Qiskit/lib/python3.12/site-packages (from qiskit-Aer) (1.14.0)\n",
      "Requirement already satisfied: psutil>=5 in /opt/miniconda3/envs/Qiskit/lib/python3.12/site-packages (from qiskit-Aer) (5.9.0)\n",
      "Requirement already satisfied: rustworkx>=0.14.0 in /opt/miniconda3/envs/Qiskit/lib/python3.12/site-packages (from qiskit>=0.45.2->qiskit-Aer) (0.15.1)\n",
      "Requirement already satisfied: sympy>=1.3 in /opt/miniconda3/envs/Qiskit/lib/python3.12/site-packages (from qiskit>=0.45.2->qiskit-Aer) (1.12.1)\n",
      "Requirement already satisfied: dill>=0.3 in /opt/miniconda3/envs/Qiskit/lib/python3.12/site-packages (from qiskit>=0.45.2->qiskit-Aer) (0.3.8)\n",
      "Requirement already satisfied: python-dateutil>=2.8.0 in /opt/miniconda3/envs/Qiskit/lib/python3.12/site-packages (from qiskit>=0.45.2->qiskit-Aer) (2.9.0)\n",
      "Requirement already satisfied: stevedore>=3.0.0 in /opt/miniconda3/envs/Qiskit/lib/python3.12/site-packages (from qiskit>=0.45.2->qiskit-Aer) (5.2.0)\n",
      "Requirement already satisfied: typing-extensions in /opt/miniconda3/envs/Qiskit/lib/python3.12/site-packages (from qiskit>=0.45.2->qiskit-Aer) (4.12.2)\n",
      "Requirement already satisfied: symengine>=0.11 in /opt/miniconda3/envs/Qiskit/lib/python3.12/site-packages (from qiskit>=0.45.2->qiskit-Aer) (0.11.0)\n",
      "Requirement already satisfied: six>=1.5 in /opt/miniconda3/envs/Qiskit/lib/python3.12/site-packages (from python-dateutil>=2.8.0->qiskit>=0.45.2->qiskit-Aer) (1.16.0)\n",
      "Requirement already satisfied: pbr!=2.1.0,>=2.0.0 in /opt/miniconda3/envs/Qiskit/lib/python3.12/site-packages (from stevedore>=3.0.0->qiskit>=0.45.2->qiskit-Aer) (6.0.0)\n",
      "Requirement already satisfied: mpmath<1.4.0,>=1.1.0 in /opt/miniconda3/envs/Qiskit/lib/python3.12/site-packages (from sympy>=1.3->qiskit>=0.45.2->qiskit-Aer) (1.3.0)\n",
      "Note: you may need to restart the kernel to use updated packages.\n"
     ]
    }
   ],
   "source": [
    "pip install qiskit-Aer"
   ]
  },
  {
   "cell_type": "code",
   "execution_count": 8,
   "metadata": {},
   "outputs": [
    {
     "ename": "NameError",
     "evalue": "name 'BasicAer' is not defined",
     "output_type": "error",
     "traceback": [
      "\u001b[0;31m---------------------------------------------------------------------------\u001b[0m",
      "\u001b[0;31mNameError\u001b[0m                                 Traceback (most recent call last)",
      "Cell \u001b[0;32mIn[8], line 1\u001b[0m\n\u001b[0;32m----> 1\u001b[0m \u001b[43mBasicAer\u001b[49m\u001b[38;5;241m.\u001b[39mbackends()\n",
      "\u001b[0;31mNameError\u001b[0m: name 'BasicAer' is not defined"
     ]
    }
   ],
   "source": [
    "BasicAer.backends()"
   ]
  },
  {
   "cell_type": "code",
   "execution_count": 10,
   "metadata": {},
   "outputs": [],
   "source": [
    "from qiskit import ClassicalRegister, QuantumRegister, QuantumCircuit"
   ]
  },
  {
   "cell_type": "code",
   "execution_count": 12,
   "metadata": {},
   "outputs": [
    {
     "name": "stderr",
     "output_type": "stream",
     "text": [
      "Matplotlib is building the font cache; this may take a moment.\n"
     ]
    },
    {
     "data": {
      "image/png": "[encoded data removed]",
      "text/plain": [
       "<Figure size 155.666x200.667 with 1 Axes>"
      ]
     },
     "execution_count": 12,
     "metadata": {},
     "output_type": "execute_result"
    }
   ],
   "source": [
    "cr = ClassicalRegister(1, \"cr\")\n",
    "qr = QuantumRegister(1, \"qr\")\n",
    "qc = QuantumCircuit(qr, cr)\n",
    "qc.draw('mpl')\n"
   ]
  },
  {
   "cell_type": "code",
   "execution_count": null,
   "metadata": {},
   "outputs": [],
   "source": []
  }
 ],
 "metadata": {
  "kernelspec": {
   "display_name": "Qiskit",
   "language": "python",
   "name": "python3"
  },
  "language_info": {
   "codemirror_mode": {
    "name": "ipython",
    "version": 3
   },
   "file_extension": ".py",
   "mimetype": "text/x-python",
   "name": "python",
   "nbconvert_exporter": "python",
   "pygments_lexer": "ipython3",
   "version": "3.12.4"
  }
 },
 "nbformat": 4,
 "nbformat_minor": 2
}
