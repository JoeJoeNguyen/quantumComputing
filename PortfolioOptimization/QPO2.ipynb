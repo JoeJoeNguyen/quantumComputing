{
 "cells": [
  {
   "cell_type": "code",
   "execution_count": 1,
   "id": "9687247f",
   "metadata": {},
   "outputs": [
    {
     "name": "stdout",
     "output_type": "stream",
     "text": [
      "YF.download() has changed argument auto_adjust default to True\n"
     ]
    },
    {
     "name": "stderr",
     "output_type": "stream",
     "text": [
      "[*********************100%***********************]  4 of 4 completed"
     ]
    },
    {
     "name": "stdout",
     "output_type": "stream",
     "text": [
      "Average daily return for AAPL: 0.0015\n",
      "Average daily return for IBM: 0.0011\n",
      "Average daily return for NFLX: 0.0024\n",
      "Average daily return for TSLA: 0.0033\n",
      "\n",
      "Covariance Matrix:\n",
      "Ticker      AAPL       IBM      NFLX      TSLA\n",
      "Ticker                                        \n",
      "AAPL    0.000181  0.000025  0.000103  0.000186\n",
      "IBM     0.000025  0.000158  0.000040  0.000007\n",
      "NFLX    0.000103  0.000040  0.000454  0.000191\n",
      "TSLA    0.000186  0.000007  0.000191  0.001349\n"
     ]
    },
    {
     "name": "stderr",
     "output_type": "stream",
     "text": [
      "\n"
     ]
    }
   ],
   "source": [
    "from qiskit.circuit.library import TwoLocal\n",
    "from qiskit_algorithms import NumPyMinimumEigensolver\n",
    "from qiskit_optimization.algorithms import MinimumEigenOptimizer\n",
    "from qiskit.result import QuasiDistribution\n",
    "import yfinance as yf\n",
    "import numpy as np\n",
    "import matplotlib.pyplot as plt\n",
    "\n",
    "budget = 2000\n",
    "risk_tolerance = 0.5 # q \n",
    "penalty = 40 #lambda \n",
    "\n",
    "tickers = ['AAPL', 'IBM', 'NFLX', 'TSLA']\n",
    "data = yf.download(tickers, start=\"2023-01-01\", end=\"2025-01-01\")\n",
    "\n",
    "close_prices = data['Close']\n",
    "\n",
    "returns = close_prices.pct_change().dropna()\n",
    "mean_returns = returns.mean()\n",
    "for ticker in tickers:\n",
    "    print(f\"Average daily return for {ticker}: {mean_returns[ticker]:.4f}\")\n",
    "cov_matrix = returns.cov()\n",
    "print(\"\\nCovariance Matrix:\")   \n",
    "print(cov_matrix)"
   ]
  },
  {
   "cell_type": "code",
   "execution_count": 2,
   "id": "2849bb0e",
   "metadata": {},
   "outputs": [
    {
     "data": {
      "image/png": "[encoded data removed]",
      "text/plain": [
       "<Figure size 640x480 with 1 Axes>"
      ]
     },
     "metadata": {},
     "output_type": "display_data"
    }
   ],
   "source": [
    "plt.imshow(cov_matrix, interpolation=\"nearest\")\n",
    "plt.show()"
   ]
  },
  {
   "cell_type": "code",
   "execution_count": 3,
   "id": "ab52b5ce",
   "metadata": {},
   "outputs": [],
   "source": [
    "from qiskit_finance.applications.optimization import PortfolioOptimization"
   ]
  },
  {
   "cell_type": "code",
   "execution_count": 4,
   "id": "5a7b6f7f",
   "metadata": {},
   "outputs": [
    {
     "data": {
      "text/plain": [
       "<QuadraticProgram: minimize 9.047799377773024e-05*x_0^2 + 2.468211138268685e-0..., 4 variables, 1 constraints, 'Portfolio optimization'>"
      ]
     },
     "execution_count": 4,
     "metadata": {},
     "output_type": "execute_result"
    }
   ],
   "source": [
    "mu = mean_returns.values\n",
    "sigma = cov_matrix.values\n",
    "portfolio = PortfolioOptimization(\n",
    "    expected_returns=mu, covariances=sigma, risk_factor=risk_tolerance, budget=budget\n",
    ")\n",
    "qp = portfolio.to_quadratic_program()\n",
    "qp"
   ]
  },
  {
   "cell_type": "code",
   "execution_count": 5,
   "id": "9a62b775",
   "metadata": {},
   "outputs": [],
   "source": [
    "def print_result(result):\n",
    "    selection = result.x\n",
    "    value = result.fval\n",
    "    print(\"Optimal: selection {}, value {:.4f}\".format(selection, value))\n",
    "\n",
    "    eigenstate = result.min_eigen_solver_result.eigenstate\n",
    "    probabilities = (\n",
    "        eigenstate.binary_probabilities()\n",
    "        if isinstance(eigenstate, QuasiDistribution)\n",
    "        else {k: np.abs(v) ** 2 for k, v in eigenstate.to_dict().items()}\n",
    "    )\n",
    "    print(\"\\n----------------- Full result ---------------------\")\n",
    "    print(\"selection\\tvalue\\t\\tprobability\")\n",
    "    print(\"---------------------------------------------------\")\n",
    "    probabilities = sorted(probabilities.items(), key=lambda x: x[1], reverse=True)\n",
    "\n",
    "    for k, v in probabilities:\n",
    "        x = np.array([int(i) for i in list(reversed(k))])\n",
    "        value = portfolio.to_quadratic_program().objective.evaluate(x)\n",
    "        print(\"%10s\\t%.4f\\t\\t%.4f\" % (x, value, v))"
   ]
  },
  {
   "cell_type": "code",
   "execution_count": 6,
   "id": "c5eda0f2",
   "metadata": {},
   "outputs": [
    {
     "name": "stdout",
     "output_type": "stream",
     "text": [
      "Optimal: selection [1. 1. 1. 1.], value -0.0067\n",
      "\n",
      "----------------- Full result ---------------------\n",
      "selection\tvalue\t\tprobability\n",
      "---------------------------------------------------\n",
      " [1 1 1 1]\t-0.0067\t\t1.0000\n"
     ]
    }
   ],
   "source": [
    "exact_mes = NumPyMinimumEigensolver()\n",
    "exact_eigensolver = MinimumEigenOptimizer(exact_mes)\n",
    "\n",
    "result = exact_eigensolver.solve(qp)\n",
    "\n",
    "print_result(result)"
   ]
  }
 ],
 "metadata": {
  "kernelspec": {
   "display_name": "Python 3",
   "language": "python",
   "name": "python3"
  },
  "language_info": {
   "codemirror_mode": {
    "name": "ipython",
    "version": 3
   },
   "file_extension": ".py",
   "mimetype": "text/x-python",
   "name": "python",
   "nbconvert_exporter": "python",
   "pygments_lexer": "ipython3",
   "version": "3.12.4"
  }
 },
 "nbformat": 4,
 "nbformat_minor": 5
}
