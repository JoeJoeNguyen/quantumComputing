{
 "cells": [
  {
   "cell_type": "code",
   "execution_count": 1,
   "id": "8829d91c",
   "metadata": {},
   "outputs": [],
   "source": [
    "import yfinance as yf"
   ]
  },
  {
   "cell_type": "code",
   "execution_count": 2,
   "id": "8d3b370a",
   "metadata": {},
   "outputs": [],
   "source": [
    "#constraints\n",
    "\n",
    "budget = 2000\n",
    "risk_tolerance = 0.5 # q \n",
    "penalty = 10**11 #lambda "
   ]
  },
  {
   "cell_type": "code",
   "execution_count": 3,
   "id": "adaec496",
   "metadata": {},
   "outputs": [],
   "source": [
    "#calculating the return\n",
    "def daily_returns(yesterday, today):\n",
    "    if yesterday == 0:\n",
    "        return 0\n",
    "    return (today - yesterday) / yesterday\n",
    "\n",
    "def expected_return(days, list_of_returns):\n",
    "    return sum(list_of_returns) / days\n",
    "\n",
    "def variance_of_asset(list_of_returns, days):\n",
    "    mean_return = expected_return(days, list_of_returns)\n",
    "    return sum((r - mean_return) ** 2 for r in list_of_returns) / days\n",
    "\n",
    "def covariance(asset1_returns, asset2_returns, days):\n",
    "    mean_asset1 = expected_return(days, asset1_returns)\n",
    "    mean_asset2 = expected_return(days, asset2_returns)\n",
    "    return sum((asset1_returns[i] - mean_asset1) * (asset2_returns[i] - mean_asset2) for i in range(days)) / days"
   ]
  },
  {
   "cell_type": "code",
   "execution_count": 4,
   "id": "d58510a1",
   "metadata": {},
   "outputs": [
    {
     "name": "stderr",
     "output_type": "stream",
     "text": [
      "[**********************75%***********            ]  3 of 4 completed"
     ]
    },
    {
     "name": "stdout",
     "output_type": "stream",
     "text": [
      "YF.download() has changed argument auto_adjust default to True\n"
     ]
    },
    {
     "name": "stderr",
     "output_type": "stream",
     "text": [
      "[*********************100%***********************]  4 of 4 completed"
     ]
    },
    {
     "name": "stdout",
     "output_type": "stream",
     "text": [
      "Average daily return for AAPL: 0.0015\n",
      "Variance of daily returns for AAPL: 0.0002\n",
      "Average daily return for IBM: 0.0011\n",
      "Variance of daily returns for IBM: 0.0002\n",
      "Average daily return for NFLX: 0.0024\n",
      "Variance of daily returns for NFLX: 0.0005\n",
      "Average daily return for TSLA: 0.0033\n",
      "Variance of daily returns for TSLA: 0.0013\n"
     ]
    },
    {
     "name": "stderr",
     "output_type": "stream",
     "text": [
      "\n"
     ]
    }
   ],
   "source": [
    "import pandas as pd\n",
    "\n",
    "tickers = ['AAPL', 'IBM', 'NFLX', 'TSLA']\n",
    "data = yf.download(tickers, start=\"2023-01-01\", end=\"2025-01-01\")\n",
    "\n",
    "close_prices = data['Close']\n",
    "\n",
    "#close_prices = close_prices.pct_change().dropna()\n",
    "\n",
    "def compute_return_and_variance(ticker, close_prices):\n",
    "    list_of_returns = []\n",
    "    for i in range(1, len(close_prices[ticker])):\n",
    "        daily_return = daily_returns(close_prices[ticker].iloc[i-1], close_prices[ticker].iloc[i])\n",
    "        list_of_returns.append(daily_return)\n",
    "    average_return = expected_return(len(list_of_returns), list_of_returns)\n",
    "    variance = variance_of_asset(list_of_returns, len(list_of_returns))\n",
    "    print(f\"Average daily return for {ticker}: {average_return:.4f}\")\n",
    "    print(f\"Variance of daily returns for {ticker}: {variance:.4f}\")\n",
    "    return average_return, variance\n",
    "\n",
    "for ticker in tickers:\n",
    "    compute_return_and_variance(ticker, close_prices)\n",
    "\n",
    "\n"
   ]
  },
  {
   "cell_type": "markdown",
   "id": "7c20c0ce",
   "metadata": {},
   "source": [
    "another way of calculating returns"
   ]
  },
  {
   "cell_type": "code",
   "execution_count": 5,
   "id": "e7253dc9",
   "metadata": {},
   "outputs": [
    {
     "name": "stdout",
     "output_type": "stream",
     "text": [
      "Average daily return for AAPL: 0.0015\n",
      "Average daily return for IBM: 0.0011\n",
      "Average daily return for NFLX: 0.0024\n",
      "Average daily return for TSLA: 0.0033\n",
      "\n",
      "Covariance Matrix:\n",
      "Ticker      AAPL       IBM      NFLX      TSLA\n",
      "Ticker                                        \n",
      "AAPL    0.000181  0.000025  0.000103  0.000186\n",
      "IBM     0.000025  0.000158  0.000040  0.000007\n",
      "NFLX    0.000103  0.000040  0.000454  0.000191\n",
      "TSLA    0.000186  0.000007  0.000191  0.001349\n"
     ]
    }
   ],
   "source": [
    "returns = close_prices.pct_change().dropna()\n",
    "mean_returns = returns.mean()\n",
    "for ticker in tickers:\n",
    "    print(f\"Average daily return for {ticker}: {mean_returns[ticker]:.4f}\")\n",
    "cov_matrix = returns.cov()\n",
    "print(\"\\nCovariance Matrix:\")   \n",
    "print(cov_matrix)"
   ]
  },
  {
   "cell_type": "code",
   "execution_count": 6,
   "id": "9f0d3ce0",
   "metadata": {},
   "outputs": [],
   "source": [
    "Sigma = cov_matrix.to_numpy()"
   ]
  },
  {
   "cell_type": "markdown",
   "id": "42e3cb42",
   "metadata": {},
   "source": [
    "QUBO (quadratic unconstrained binary optimization)"
   ]
  },
  {
   "cell_type": "code",
   "execution_count": 7,
   "id": "7b6f148f",
   "metadata": {},
   "outputs": [
    {
     "name": "stdout",
     "output_type": "stream",
     "text": [
      "\n",
      "Asset Prices on Last Day:\n",
      "AAPL: $249.82\n",
      "IBM: $216.93\n",
      "NFLX: $891.32\n",
      "TSLA: $403.84\n",
      "Maximum number of shares for AAPL with budget $2000: 8.0\n",
      "Maximum number of shares for IBM with budget $2000: 9.0\n",
      "Maximum number of shares for NFLX with budget $2000: 2.0\n",
      "Maximum number of shares for TSLA with budget $2000: 4.0\n"
     ]
    }
   ],
   "source": [
    "import numpy as np\n",
    "last_day = close_prices.iloc[-1]\n",
    "asset_prices = [(ticker, last_day[ticker]) for ticker in tickers]\n",
    "print(\"\\nAsset Prices on Last Day:\")\n",
    "for ticker, price in asset_prices:\n",
    "    print(f\"{ticker}: ${price:.2f}\")\n",
    "\n",
    "#calculate n_i max for each asset:\n",
    "n_i_max_list = []\n",
    "for ticker, price in asset_prices:\n",
    "    n_i_max = np.floor(budget / price)\n",
    "    n_i_max_list.append((ticker, n_i_max))\n",
    "    print(f\"Maximum number of shares for {ticker} with budget ${budget}: {n_i_max}\")\n"
   ]
  },
  {
   "cell_type": "code",
   "execution_count": 8,
   "id": "cf7113ee",
   "metadata": {},
   "outputs": [
    {
     "name": "stdout",
     "output_type": "stream",
     "text": [
      "Value of d_i for AAPL: 3\n",
      "Value of d_i for IBM: 3\n",
      "Value of d_i for NFLX: 1\n",
      "Value of d_i for TSLA: 2\n"
     ]
    }
   ],
   "source": [
    "d_i_list = []\n",
    "for ticker, n_i_max in n_i_max_list:\n",
    "    if n_i_max > 0:\n",
    "        d_i = int(np.floor(np.log2(n_i_max)))\n",
    "    else:\n",
    "        d_i = 0\n",
    "    d_i_list.append((ticker, d_i))\n",
    "    print(f\"Value of d_i for {ticker}: {d_i}\")\n"
   ]
  },
  {
   "cell_type": "code",
   "execution_count": 9,
   "id": "762099c9",
   "metadata": {},
   "outputs": [
    {
     "name": "stdout",
     "output_type": "stream",
     "text": [
      "\n",
      "Total number of bits required for all assets: 13\n"
     ]
    }
   ],
   "source": [
    "d_values = [d_i for _, d_i in d_i_list]\n",
    "num_assets = len(d_values)\n",
    "total_bits = sum(d+ 1 for d in d_values)\n",
    "print(f\"\\nTotal number of bits required for all assets: {total_bits}\")"
   ]
  },
  {
   "cell_type": "markdown",
   "id": "36f2ef9b",
   "metadata": {},
   "source": [
    "constructing the encoding matrix $C$"
   ]
  },
  {
   "cell_type": "code",
   "execution_count": 10,
   "id": "7ab972d8",
   "metadata": {},
   "outputs": [],
   "source": [
    "C = np.zeros((num_assets, total_bits))\n",
    "\n",
    "col = 0 \n",
    "\n",
    "for i, d in enumerate(d_values):\n",
    "    for j in range(d+1):\n",
    "        C[i, col] = 2 ** j\n",
    "        col += 1\n"
   ]
  },
  {
   "cell_type": "markdown",
   "id": "de8c94a3",
   "metadata": {},
   "source": [
    "Calculating \n",
    "$$\n",
    "P'= P/B \\\\\n",
    "\\mu' = P' \\circ \\mu \\\\\n",
    "\\Sigma' = (P' \\circ \\Sigma)^T \\circ P'\\\\\n",
    "\\mu^{\\prime\\prime} = C^T \\mu' \\\\\n",
    "\\Sigma'' = C^T \\Sigma'C \\\\\n",
    "P'' = C^T P'\n",
    "$$"
   ]
  },
  {
   "cell_type": "code",
   "execution_count": 11,
   "id": "c0710719",
   "metadata": {},
   "outputs": [
    {
     "name": "stdout",
     "output_type": "stream",
     "text": [
      "\n",
      "Scaled expected return vector µ′:\n",
      "AAPL    0.000187\n",
      "IBM     0.000122\n",
      "NFLX    0.001084\n",
      "TSLA    0.000666\n",
      "dtype: float64\n"
     ]
    }
   ],
   "source": [
    "# List P of current prices of assets \n",
    "P = np.array([price for _, price in asset_prices])\n",
    "P_prime = P / budget\n",
    "P_double_prime = C.T @ P_prime\n",
    "\n",
    "\n",
    "mu = np.array([mean_returns[ticker] for ticker in tickers])\n",
    "mu_prime = P_prime * mu \n",
    "\n",
    "mu_prime_series = pd.Series(mu_prime, index=tickers)\n",
    "\n",
    "\n",
    "print(\"\\nScaled expected return vector µ′:\")\n",
    "print(mu_prime_series)\n",
    "\n"
   ]
  },
  {
   "cell_type": "code",
   "execution_count": 12,
   "id": "ee77da1a",
   "metadata": {},
   "outputs": [],
   "source": [
    "P_prime_sigma = P_prime * Sigma\n",
    "Sigma_prime = P_prime_sigma.T * P_prime \n",
    "\n",
    "mu_double_prime = C.T @ mu_prime\n",
    "\n",
    "Sigma_double_prime = C.T @ Sigma_prime @ C\n"
   ]
  },
  {
   "cell_type": "markdown",
   "id": "32cdb4ce",
   "metadata": {},
   "source": [
    "Constructing the Hamiltonian"
   ]
  },
  {
   "cell_type": "code",
   "execution_count": null,
   "id": "498540e8",
   "metadata": {},
   "outputs": [],
   "source": [
    "from qiskit.quantum_info import SparsePauliOp, Pauli\n",
    "\n",
    "n = len(P_double_prime) #total number of binary variables\n",
    "from qiskit.circuit.library import RealAmplitudes, PauliTwoDesign\n",
    "from qiskit_algorithms import VQE\n",
    "from qiskit_algorithms.optimizers import COBYLA\n",
    "from qiskit.primitives import StatevectorEstimator, Sampler\n",
    "from qiskit.quantum_info import Operator\n",
    "estimator = StatevectorEstimator()\n",
    "\n",
    "optimizer = COBYLA()"
   ]
  },
  {
   "cell_type": "markdown",
   "id": "6f81d922",
   "metadata": {},
   "source": [
    "The mathematical proof can be found in QUBOtoIsing.pdf that I have in this folder"
   ]
  },
  {
   "cell_type": "code",
   "execution_count": null,
   "id": "ef4086f5",
   "metadata": {},
   "outputs": [
    {
     "name": "stdout",
     "output_type": "stream",
     "text": [
      "\n",
      "Pauli terms for the second Hamiltonian:\n",
      "IIIIIIIIIIIIZ: 26939626935.35283\n",
      "IIIIIIIIIIIZI: 54659362834.84898\n",
      "IIIIIIIIIIZII: 112439161526.27124\n",
      "IIIIIIIIIZIII: 237360066478.83566\n",
      "IIIIIIIIZIIII: 23348725523.313587\n",
      "IIIIIIIZIIIII: 47285692424.41898\n",
      "IIIIIIZIIIIII: 96924350360.0052\n",
      "IIIIIZIIIIIII: 203260562764.67932\n",
      "IIIIZIIIIIIII: 99691181488.18864\n",
      "IIIZIIIIIIIII: 209313004919.5828\n",
      "IIZIIIIIIIIII: 43937762331.54342\n",
      "IZIIIIIIIIIII: 89914108946.11415\n",
      "ZIIIIIIIIIIII: 187982555024.3376\n",
      "IIIIIIIIIIIZZ: 780108964.1433225\n",
      "IIIIIIIIIIZIZ: 1560217928.286645\n",
      "IIIIIIIIIZIIZ: 3120435856.57329\n",
      "IIIIIIIIZIIIZ: 338707975.95251924\n",
      "IIIIIIIZIIIIZ: 677415951.9050385\n",
      "IIIIIIZIIIIIZ: 1354831903.810077\n",
      "IIIIIZIIIIIIZ: 2709663807.620154\n",
      "IIIIZIIIIIIIZ: 1391670111.7355654\n",
      "IIIZIIIIIIIIZ: 2783340223.471131\n",
      "IIZIIIIIIIIIZ: 630539029.9876995\n",
      "IZIIIIIIIIIIZ: 1261078059.975399\n",
      "ZIIIIIIIIIIIZ: 2522156119.950798\n",
      "IIIIIIIIIIZZI: 3120435856.57329\n",
      "IIIIIIIIIZIZI: 6240871713.14658\n",
      "IIIIIIIIZIIZI: 677415951.9050385\n",
      "IIIIIIIZIIIZI: 1354831903.810077\n",
      "IIIIIIZIIIIZI: 2709663807.620154\n",
      "IIIIIZIIIIIZI: 5419327615.240308\n",
      "IIIIZIIIIIIZI: 2783340223.471131\n",
      "IIIZIIIIIIIZI: 5566680446.942262\n",
      "IIZIIIIIIIIZI: 1261078059.975399\n",
      "IZIIIIIIIIIZI: 2522156119.950798\n",
      "ZIIIIIIIIIIZI: 5044312239.901596\n",
      "IIIIIIIIIZZII: 12481743426.29316\n",
      "IIIIIIIIZIZII: 1354831903.810077\n",
      "IIIIIIIZIIZII: 2709663807.620154\n",
      "IIIIIIZIIIZII: 5419327615.240308\n",
      "IIIIIZIIIIZII: 10838655230.480616\n",
      "IIIIZIIIIIZII: 5566680446.942262\n",
      "IIIZIIIIIIZII: 11133360893.884523\n",
      "IIZIIIIIIIZII: 2522156119.950798\n",
      "IZIIIIIIIIZII: 5044312239.901596\n",
      "ZIIIIIIIIIZII: 10088624479.803192\n",
      "IIIIIIIIZZIII: 2709663807.620154\n",
      "IIIIIIIZIZIII: 5419327615.240308\n",
      "IIIIIIZIIZIII: 10838655230.480616\n",
      "IIIIIZIIIZIII: 21677310460.96123\n",
      "IIIIZIIIIZIII: 11133360893.884523\n",
      "IIIZIIIIIZIII: 22266721787.769047\n",
      "IIZIIIIIIZIII: 5044312239.901596\n",
      "IZIIIIIIIZIII: 10088624479.803192\n",
      "ZIIIIIIIIZIII: 20177248959.606384\n",
      "IIIIIIIZZIIII: 588241377.7918079\n",
      "IIIIIIZIZIIII: 1176482755.5836158\n",
      "IIIIIZIIZIIII: 2352965511.1672316\n",
      "IIIIZIIIZIIII: 1208471606.9304612\n",
      "IIIZIIIIZIIII: 2416943213.8609223\n",
      "IIZIIIIIZIIII: 547535301.9195958\n",
      "IZIIIIIIZIIII: 1095070603.8391917\n",
      "ZIIIIIIIZIIII: 2190141207.6783834\n",
      "IIIIIIZZIIIII: 2352965511.1672316\n",
      "IIIIIZIZIIIII: 4705931022.334463\n",
      "IIIIZIIZIIIII: 2416943213.8609223\n",
      "IIIZIIIZIIIII: 4833886427.721845\n",
      "IIZIIIIZIIIII: 1095070603.8391917\n",
      "IZIIIIIZIIIII: 2190141207.6783834\n",
      "ZIIIIIIZIIIII: 4380282415.356767\n",
      "IIIIIZZIIIIII: 9411862044.668926\n",
      "IIIIZIZIIIIII: 4833886427.721845\n",
      "IIIZIIZIIIIII: 9667772855.44369\n",
      "IIZIIIZIIIIII: 2190141207.6783834\n",
      "IZIIIIZIIIIII: 4380282415.356767\n",
      "ZIIIIIZIIIIII: 8760564830.713533\n",
      "IIIIZZIIIIIII: 9667772855.44369\n",
      "IIIZIZIIIIIII: 19335545710.88738\n",
      "IIZIIZIIIIIII: 4380282415.356767\n",
      "IZIIIZIIIIIII: 8760564830.713533\n",
      "ZIIIIZIIIIIII: 17521129661.427067\n",
      "IIIZZIIIIIIII: 9930641943.205523\n",
      "IIZIZIIIIIIII: 2249691678.085628\n",
      "IZIIZIIIIIIII: 4499383356.171256\n",
      "ZIIIZIIIIIIII: 8998766712.342512\n",
      "IIZZIIIIIIIII: 4499383356.171256\n",
      "IZIZIIIIIIIII: 8998766712.342512\n",
      "ZIIZIIIIIIIII: 17997533424.685024\n",
      "IZZIIIIIIIIII: 2038584283.0273166\n",
      "ZIZIIIIIIIIII: 4077168566.054633\n",
      "ZZIIIIIIIIIII: 8154337132.109266\n",
      "IIIIIIIIIIIII: 451782911010.44714\n"
     ]
    }
   ],
   "source": [
    "#second hamiltonian\n",
    "pi1 = 0.5 * P_double_prime\n",
    "beta1 = -0.5 * np.sum(P_double_prime) + 1\n",
    "h_vec = 0.5 * mu_double_prime - 0.5 * risk_tolerance * np.sum(Sigma_double_prime, axis=1)\n",
    "J_mat = -0.25 * Sigma_double_prime\n",
    "const_term1 = 0.5 * np.sum(mu_double_prime) - 0.25 * risk_tolerance * np.sum(Sigma_double_prime)\n",
    "pauli_dict2 = {}\n",
    "\n",
    "for i in range(n):\n",
    "    label = ['I'] * n\n",
    "    label[n - i - 1] = 'Z'\n",
    "    pauli_str = ''.join(label)\n",
    "    pauli_dict2[pauli_str] = pauli_dict2.get(pauli_str, 0) + h_vec[i]\n",
    "\n",
    "for i in range(n):\n",
    "    for j in range(i , n):\n",
    "        Jij = float(J_mat[i, j])\n",
    "        if Jij != 0:\n",
    "            label = ['I'] * n\n",
    "            label[n - i - 1] = 'Z'\n",
    "            label[n - j - 1] = 'Z'\n",
    "            pauli_str = ''.join(label)\n",
    "            pauli_dict2[pauli_str] = pauli_dict2.get(pauli_str, 0) + Jij\n",
    "\n",
    "\n",
    "for i in range(n):\n",
    "    label = ['I'] * n\n",
    "    label[n - i - 1] = 'Z'\n",
    "    pauli_str = ''.join(label)\n",
    "    coeff = -2 * penalty * beta1 * pi1[i]\n",
    "    pauli_dict2[pauli_str] = pauli_dict2.get(pauli_str, 0) + coeff\n",
    "\n",
    "for i in range(n):\n",
    "    for j in range(i, n):\n",
    "        factor = +penalty * pi1[i] * pi1[j]\n",
    "        label = ['I'] * n\n",
    "        label[n - i - 1] = 'Z'\n",
    "        label[n - j - 1] = 'Z'\n",
    "        pauli_str = ''.join(label)\n",
    "        pauli_dict2[pauli_str] = pauli_dict2.get(pauli_str, 0) + factor\n",
    "\n",
    "pauli_dict2['I' * n] = pauli_dict2.get('I' * n, 0) + penalty * beta1**2 + const_term1\n",
    "\n",
    "pauli_terms2 = list(pauli_dict2.items())\n",
    "\n",
    "print(\"\\nPauli terms for the Hamiltonian:\")\n",
    "for term, coeff in pauli_terms2:\n",
    "    print(f\"{term}: {coeff}\")\n"
   ]
  },
  {
   "cell_type": "code",
   "execution_count": 15,
   "id": "c7585f7f",
   "metadata": {},
   "outputs": [
    {
     "data": {
      "text/latex": [
       "$$\n",
       "\n",
       "\\begin{bmatrix}\n",
       "2321089068479.42 & 0 & 0 & 0 & \\cdots & 0 & 0 & 0  \\\\\n",
       " 0 & 2228949482741.89 & 0 & 0 & \\cdots & 0 & 0 & 0  \\\\\n",
       " 0 & 0 & 2136809897004.36 & 0 & \\cdots & 0 & 0 & 0  \\\\\n",
       " 0 & 0 & 0 & 2047790747123.41 & \\cdots & 0 & 0 & 0  \\\\\n",
       " \\vdots & \\vdots & \\vdots & \\vdots & \\ddots & \\vdots & \\vdots & \\vdots \\\\\n",
       " 0 & 0 & 0 & 0 & \\cdots & -510664974771.229 & 0 & 0  \\\\\n",
       " 0 & 0 & 0 & 0 & \\cdots & 0 & -529404332631.684 & 0  \\\\\n",
       " 0 & 0 & 0 & 0 & \\cdots & 0 & 0 & -545023254635.567  \\\\\n",
       " \\end{bmatrix}\n",
       "$$"
      ],
      "text/plain": [
       "<IPython.core.display.Latex object>"
      ]
     },
     "execution_count": 15,
     "metadata": {},
     "output_type": "execute_result"
    }
   ],
   "source": [
    "hamiltonian1 = SparsePauliOp.from_list(pauli_terms2)\n",
    "Operator(hamiltonian1).draw('latex')"
   ]
  },
  {
   "cell_type": "code",
   "execution_count": 16,
   "id": "dbf3ccf2",
   "metadata": {},
   "outputs": [
    {
     "data": {
      "image/png": "[encoded data removed]",
      "text/plain": [
       "<Figure size 556.56x1120.39 with 1 Axes>"
      ]
     },
     "execution_count": 16,
     "metadata": {},
     "output_type": "execute_result"
    }
   ],
   "source": [
    "ansatz = RealAmplitudes(hamiltonian1.num_qubits, reps=1, entanglement='linear')\n",
    "ansatz2 = PauliTwoDesign(hamiltonian1.num_qubits, reps=1)\n",
    "ansatz2.decompose().draw('mpl')"
   ]
  },
  {
   "cell_type": "code",
   "execution_count": 17,
   "id": "4df1463d",
   "metadata": {},
   "outputs": [],
   "source": [
    "cost_history_dict = {\n",
    "    \"prev_vector\": None,\n",
    "    \"iters\": 0,\n",
    "    \"cost_history\": [],\n",
    "    \"parameters\": [],\n",
    "}\n",
    "\n",
    "def cost_func_vqe(parameters, ansatz, hamiltonian, estimator):\n",
    "    \"\"\"Return estimate of energy from estimator\n",
    "\n",
    "    Parameters:\n",
    "        params (ndarray): Array of ansatz parameters\n",
    "        ansatz (QuantumCircuit): Parameterized ansatz circuit\n",
    "        hamiltonian (SparsePauliOp): Operator representation of Hamiltonian\n",
    "        estimator (Estimator): Estimator primitive instance\n",
    "\n",
    "    Returns:\n",
    "        float: Energy estimate\n",
    "    \"\"\"\n",
    "\n",
    "    estimator_job = estimator.run([(ansatz, hamiltonian, [parameters])])\n",
    "    estimator_result = estimator_job.result()[0]\n",
    "\n",
    "    cost = estimator_result.data.evs[0]\n",
    "    cost_history_dict[\"iters\"] += 1\n",
    "    cost_history_dict[\"prev_vector\"] = parameters\n",
    "    cost_history_dict[\"cost_history\"].append(cost)\n",
    "    cost_history_dict[\"parameters\"].append(parameters)\n",
    "    return cost"
   ]
  },
  {
   "cell_type": "code",
   "execution_count": 18,
   "id": "2893d227",
   "metadata": {},
   "outputs": [
    {
     "name": "stdout",
     "output_type": "stream",
     "text": [
      " message: Optimization terminated successfully.\n",
      " success: True\n",
      "  status: 1\n",
      "     fun: -431415335508.8929\n",
      "       x: [ 2.356e+00  9.346e-05 ... -3.142e+00 -2.356e+00]\n",
      "    nfev: 4167\n",
      "   maxcv: 0.0\n",
      "\n",
      "   Normal return from subroutine COBYLA\n",
      "\n",
      "   NFVALS = 4167   F =-4.314153E+11    MAXCV = 0.000000E+00\n",
      "   X = 2.356178E+00   9.345624E-05  -6.101848E-01   2.356211E+00   6.281621E+00\n",
      "       1.198900E+00  -7.457263E-05   2.356120E+00  -7.853565E-01   3.141606E+00\n",
      "       5.497744E+00  -7.853991E-01   3.141595E+00   3.815161E+00  -2.486326E+00\n",
      "      -9.902014E-02   1.516825E-07   3.139953E+00   4.381462E+00   3.773288E+00\n",
      "       1.453150E-05  -3.141577E+00   7.854274E-01  -3.141595E+00  -3.141632E+00\n",
      "      -2.356184E+00\n"
     ]
    }
   ],
   "source": [
    "from scipy.optimize import minimize\n",
    "import numpy as np\n",
    "from qiskit_aer import Aer\n",
    "initial_params = np.random.uniform(low= -np.pi, high=np.pi, size=ansatz2.num_parameters)\n",
    "result = minimize(cost_func_vqe, initial_params, args=(ansatz2, hamiltonian1, estimator), method=\"COBYLA\",options={'maxiter': 50000, 'disp': True})\n",
    "print(result)\n",
    "\n"
   ]
  },
  {
   "cell_type": "markdown",
   "id": "d0e45517",
   "metadata": {},
   "source": [
    "$$\n",
    "n = Cb\n",
    "$$\n",
    "Where $C$ is the conversion matrix, $b$ is the binary sequence generated from the opimized circuit and $n$ is the shares vector "
   ]
  },
  {
   "cell_type": "code",
   "execution_count": 19,
   "id": "e2137d38",
   "metadata": {},
   "outputs": [
    {
     "name": "stdout",
     "output_type": "stream",
     "text": [
      "Most likely bitstring: 1111111011011\n",
      "\n",
      "Optimal number of shares to buy for each asset:\n",
      "AAPL: 15 shares\n",
      "IBM: 7 shares\n",
      "NFLX: 3 shares\n",
      "TSLA: 6 shares\n"
     ]
    }
   ],
   "source": [
    "from qiskit.quantum_info import Statevector\n",
    "from qiskit import transpile\n",
    "# Assign optimal parameters to ansatz\n",
    "final_circuit = ansatz2.assign_parameters(result.x)\n",
    "\n",
    "final_circuit.measure_all()\n",
    "simluator = Aer.get_backend('qasm_simulator')\n",
    "transpiled_circuit = transpile(final_circuit, simluator)\n",
    "job_state = simluator.run(transpiled_circuit, shots=1000)\n",
    "\n",
    "result = job_state.result()\n",
    "\n",
    "counts = result.get_counts(final_circuit)\n",
    "\n",
    "bitstring = max(counts, key=counts.get)\n",
    "#bitstring = bitstring[::-1]  # reverse Qiskit \n",
    "\n",
    "print(\"Most likely bitstring:\", bitstring)\n",
    "\n",
    "# Convert to vector\n",
    "b = np.array([int(bit) for bit in bitstring])\n",
    "n = C @ b\n",
    "print(\"\\nOptimal number of shares to buy for each asset:\")\n",
    "for i, ticker in enumerate(tickers):\n",
    "    print(f\"{ticker}: {int(n[i])} shares\")"
   ]
  },
  {
   "cell_type": "code",
   "execution_count": 20,
   "id": "f30837b6",
   "metadata": {},
   "outputs": [
    {
     "data": {
      "image/png": "[encoded data removed]",
      "text/plain": [
       "<Figure size 640x480 with 1 Axes>"
      ]
     },
     "execution_count": 20,
     "metadata": {},
     "output_type": "execute_result"
    }
   ],
   "source": [
    "from qiskit.visualization import plot_histogram\n",
    "plot_histogram(counts)"
   ]
  },
  {
   "cell_type": "code",
   "execution_count": 21,
   "id": "f9c5b28c",
   "metadata": {},
   "outputs": [
    {
     "name": "stdout",
     "output_type": "stream",
     "text": [
      "\n",
      "Total cost of the portfolio (scaled, normalized): 5.1814\n",
      "Objective function value with penalty: -1748402889870.0024\n"
     ]
    }
   ],
   "source": [
    "\n",
    "total_cost_scaled = P_double_prime.T @ b\n",
    "print(f\"\\nTotal cost of the portfolio (scaled, normalized): {total_cost_scaled:.4f}\") \n",
    "objective_function_penalty = -penalty*(P_double_prime.T @ b - 1)**2\n",
    "print(f\"Objective function value with penalty: {objective_function_penalty:.4f}\")"
   ]
  },
  {
   "cell_type": "code",
   "execution_count": null,
   "id": "a6cbfc1a",
   "metadata": {},
   "outputs": [],
   "source": []
  }
 ],
 "metadata": {
  "kernelspec": {
   "display_name": "Python 3",
   "language": "python",
   "name": "python3"
  },
  "language_info": {
   "codemirror_mode": {
    "name": "ipython",
    "version": 3
   },
   "file_extension": ".py",
   "mimetype": "text/x-python",
   "name": "python",
   "nbconvert_exporter": "python",
   "pygments_lexer": "ipython3",
   "version": "3.12.4"
  }
 },
 "nbformat": 4,
 "nbformat_minor": 5
}
