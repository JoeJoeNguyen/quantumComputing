{
 "cells": [
  {
   "cell_type": "code",
   "execution_count": null,
   "id": "8829d91c",
   "metadata": {},
   "outputs": [],
   "source": [
    "import yfinance as yf\n",
    "from qiskit_finance.data_providers import RandomDataProvider\n",
    "import datetime\n",
    "import numpy as np"
   ]
  },
  {
   "cell_type": "code",
   "execution_count": null,
   "id": "8d3b370a",
   "metadata": {},
   "outputs": [],
   "source": [
    "#constraints\n",
    "\n",
    "budget = 2000\n",
    "risk_tolerance = 0.5 # q \n",
    "penalty = 10**4 #lambda "
   ]
  },
  {
   "cell_type": "code",
   "execution_count": null,
   "id": "adaec496",
   "metadata": {},
   "outputs": [],
   "source": [
    "#calculating the return\n",
    "def daily_returns(yesterday, today):\n",
    "    if yesterday == 0:\n",
    "        return 0\n",
    "    return (today - yesterday) / yesterday\n",
    "\n",
    "def expected_return(days, list_of_returns):\n",
    "    return sum(list_of_returns) / days\n",
    "\n",
    "def variance_of_asset(list_of_returns, days):\n",
    "    mean_return = expected_return(days, list_of_returns)\n",
    "    return sum((r - mean_return) ** 2 for r in list_of_returns) / days\n",
    "\n",
    "def covariance(asset1_returns, asset2_returns, days):\n",
    "    mean_asset1 = expected_return(days, asset1_returns)\n",
    "    mean_asset2 = expected_return(days, asset2_returns)\n",
    "    return sum((asset1_returns[i] - mean_asset1) * (asset2_returns[i] - mean_asset2) for i in range(days)) / days"
   ]
  },
  {
   "cell_type": "code",
   "execution_count": null,
   "id": "d58510a1",
   "metadata": {},
   "outputs": [],
   "source": [
    "import pandas as pd\n",
    "\n",
    "tickers = ['AAPL', 'IBM', 'NFLX', 'TSLA']\n",
    "data = yf.download(tickers, start=\"2023-01-01\", end=\"2024-01-01\")\n",
    "\n",
    "close_prices = data['Close']\n",
    "\n",
    "#close_prices = close_prices.pct_change().dropna()\n",
    "\n",
    "def compute_return_and_variance(ticker, close_prices):\n",
    "    list_of_returns = []\n",
    "    for i in range(1, len(close_prices[ticker])):\n",
    "        daily_return = daily_returns(close_prices[ticker].iloc[i-1], close_prices[ticker].iloc[i])\n",
    "        list_of_returns.append(daily_return)\n",
    "    average_return = expected_return(len(list_of_returns), list_of_returns)\n",
    "    variance = variance_of_asset(list_of_returns, len(list_of_returns))\n",
    "    print(f\"Average daily return for {ticker}: {average_return:.4f}\")\n",
    "    print(f\"Variance of daily returns for {ticker}: {variance:.4f}\")\n",
    "    return average_return, variance\n",
    "\n",
    "for ticker in tickers:\n",
    "    compute_return_and_variance(ticker, close_prices)\n",
    "\n",
    "\n"
   ]
  },
  {
   "cell_type": "markdown",
   "id": "7c20c0ce",
   "metadata": {},
   "source": [
    "another way of calculating returns"
   ]
  },
  {
   "cell_type": "code",
   "execution_count": null,
   "id": "e7253dc9",
   "metadata": {},
   "outputs": [],
   "source": [
    "returns = close_prices.pct_change().dropna()\n",
    "mean_returns = returns.mean()\n",
    "for ticker in tickers:\n",
    "    print(f\"Average daily return for {ticker}: {mean_returns[ticker]:.4f}\")\n",
    "cov_matrix = returns.cov()\n",
    "print(\"\\nCovariance Matrix:\")   \n",
    "print(cov_matrix)"
   ]
  },
  {
   "cell_type": "code",
   "execution_count": null,
   "id": "9f0d3ce0",
   "metadata": {},
   "outputs": [],
   "source": [
    "Sigma = cov_matrix.to_numpy()"
   ]
  },
  {
   "cell_type": "markdown",
   "id": "42e3cb42",
   "metadata": {},
   "source": [
    "QUBO (quadratic unconstrained binary optimization)"
   ]
  },
  {
   "cell_type": "code",
   "execution_count": null,
   "id": "7b6f148f",
   "metadata": {},
   "outputs": [],
   "source": [
    "import numpy as np\n",
    "last_day = close_prices.iloc[-1]\n",
    "asset_prices = [(ticker, last_day[ticker]) for ticker in tickers]\n",
    "print(\"\\nAsset Prices on Last Day:\")\n",
    "for ticker, price in asset_prices:\n",
    "    print(f\"{ticker}: ${price:.2f}\")\n",
    "\n",
    "#calculate n_i max for each asset:\n",
    "n_i_max_list = []\n",
    "for ticker, price in asset_prices:\n",
    "    n_i_max = np.floor(budget / price)\n",
    "    n_i_max_list.append((ticker, n_i_max))\n",
    "    print(f\"Maximum number of shares for {ticker} with budget ${budget}: {n_i_max}\")\n"
   ]
  },
  {
   "cell_type": "code",
   "execution_count": null,
   "id": "cf7113ee",
   "metadata": {},
   "outputs": [],
   "source": [
    "d_i_list = []\n",
    "for ticker, n_i_max in n_i_max_list:\n",
    "    if n_i_max > 0:\n",
    "        d_i = int(np.floor(np.log2(n_i_max)))\n",
    "    else:\n",
    "        d_i = 0\n",
    "    d_i_list.append((ticker, d_i))\n",
    "    print(f\"Value of d_i for {ticker}: {d_i}\")\n"
   ]
  },
  {
   "cell_type": "code",
   "execution_count": null,
   "id": "762099c9",
   "metadata": {},
   "outputs": [],
   "source": [
    "d_values = [d_i for _, d_i in d_i_list]\n",
    "num_assets = len(d_values)\n",
    "total_bits = sum(d+ 1 for d in d_values)\n",
    "print(f\"\\nTotal number of bits required for all assets: {total_bits}\")"
   ]
  },
  {
   "cell_type": "markdown",
   "id": "36f2ef9b",
   "metadata": {},
   "source": [
    "constructing the encoding matrix $C$"
   ]
  },
  {
   "cell_type": "code",
   "execution_count": null,
   "id": "7ab972d8",
   "metadata": {},
   "outputs": [],
   "source": [
    "C = np.zeros((num_assets, total_bits))\n",
    "\n",
    "col = 0 \n",
    "\n",
    "for i, d in enumerate(d_values):\n",
    "    for j in range(d+1):\n",
    "        C[i, col] = 2 ** j\n",
    "        col += 1\n"
   ]
  },
  {
   "cell_type": "markdown",
   "id": "de8c94a3",
   "metadata": {},
   "source": [
    "Calculating \n",
    "$$\n",
    "P'= P/B \\\\\n",
    "\\mu' = P' \\circ \\mu \\\\\n",
    "\\Sigma' = (P' \\circ \\Sigma)^T \\circ P'\\\\\n",
    "\\mu^{\\prime\\prime} = C^T \\mu' \\\\\n",
    "\\Sigma'' = C^T \\Sigma'C \\\\\n",
    "P'' = C^T P'\n",
    "$$"
   ]
  },
  {
   "cell_type": "code",
   "execution_count": null,
   "id": "c0710719",
   "metadata": {},
   "outputs": [],
   "source": [
    "# List P of current prices of assets \n",
    "P = np.array([price for _, price in asset_prices])\n",
    "P_prime = P / budget\n",
    "P_double_prime = C.T @ P_prime\n",
    "\n",
    "\n",
    "mu = np.array([mean_returns[ticker] for ticker in tickers])\n",
    "mu_prime = P_prime * mu \n",
    "\n",
    "mu_prime_series = pd.Series(mu_prime, index=tickers)\n",
    "\n",
    "\n",
    "print(\"\\nScaled expected return vector µ′:\")\n",
    "print(mu_prime_series)\n",
    "\n"
   ]
  },
  {
   "cell_type": "code",
   "execution_count": null,
   "id": "ee77da1a",
   "metadata": {},
   "outputs": [],
   "source": [
    "P_prime_sigma = P_prime * Sigma\n",
    "Sigma_prime = P_prime_sigma.T * P_prime \n",
    "\n",
    "mu_double_prime = C.T @ mu_prime\n",
    "\n",
    "Sigma_double_prime = C.T @ Sigma_prime @ C\n"
   ]
  },
  {
   "cell_type": "markdown",
   "id": "32cdb4ce",
   "metadata": {},
   "source": [
    "Constructing the Hamiltonian"
   ]
  },
  {
   "cell_type": "code",
   "execution_count": null,
   "id": "498540e8",
   "metadata": {},
   "outputs": [],
   "source": [
    "from qiskit.quantum_info import SparsePauliOp, Pauli\n",
    "\n",
    "n = len(P_double_prime) #total number of binary variables\n",
    "from qiskit.circuit.library import RealAmplitudes, PauliTwoDesign\n",
    "from qiskit_algorithms import VQE\n",
    "from qiskit_algorithms.optimizers import COBYLA\n",
    "from qiskit.primitives import StatevectorEstimator, Sampler\n",
    "from qiskit.quantum_info import Operator\n",
    "estimator = StatevectorEstimator()\n",
    "\n",
    "optimizer = COBYLA()"
   ]
  },
  {
   "cell_type": "markdown",
   "id": "6f81d922",
   "metadata": {},
   "source": [
    "The mathematical proof can be found in QUBOtoIsing.pdf that I have in this folder"
   ]
  },
  {
   "cell_type": "code",
   "execution_count": null,
   "id": "ef4086f5",
   "metadata": {},
   "outputs": [],
   "source": [
    "#first hamiltonian\n",
    "pi1 = 0.5 * P_double_prime\n",
    "beta1 = -0.5 * np.sum(P_double_prime) + 1\n",
    "h_vec = 0.5 * mu_double_prime - 0.5 * risk_tolerance * np.sum(Sigma_double_prime, axis=1)\n",
    "J_mat = -0.25 * Sigma_double_prime\n",
    "const_term1 = 0.5 * np.sum(mu_double_prime) - 0.25 * risk_tolerance * np.sum(Sigma_double_prime)\n",
    "pauli_dict2 = {}\n",
    "\n",
    "for i in range(n):\n",
    "    label = ['I'] * n\n",
    "    label[n-i-1] = 'Z'\n",
    "    pauli_str = ''.join(label)\n",
    "    pauli_dict2[pauli_str] = pauli_dict2.get(pauli_str, 0) + h_vec[i]\n",
    "\n",
    "for i in range(n):\n",
    "    for j in range(i , n):\n",
    "        Jij = float(J_mat[i, j])\n",
    "        if Jij != 0:\n",
    "            if i == j:\n",
    "                identity_str = 'I' * n\n",
    "                pauli_dict2[identity_str] = pauli_dict2.get(identity_str, 0) + Jij\n",
    "            else:\n",
    "                label = ['I'] * n\n",
    "                label[n-i-1] = 'Z'\n",
    "                label[n-j-1] = 'Z'\n",
    "                pauli_str = ''.join(label)\n",
    "                pauli_dict2[pauli_str] = pauli_dict2.get(pauli_str, 0) + 2 * Jij\n",
    "\n",
    "\n",
    "for i in range(n):\n",
    "    label = ['I'] * n\n",
    "    label[n-i-1] = 'Z'\n",
    "    pauli_str = ''.join(label)\n",
    "    coeff = -2 * penalty * beta1 * pi1[i]\n",
    "    pauli_dict2[pauli_str] = pauli_dict2.get(pauli_str, 0) + coeff\n",
    "\n",
    "for i in range(n):\n",
    "    for j in range(i, n):\n",
    "        factor = +penalty * pi1[i] * pi1[j]\n",
    "        if i == j:\n",
    "            identity_str = 'I' * n\n",
    "            pauli_dict2[identity_str] = pauli_dict2.get(identity_str, 0) + factor\n",
    "        else:\n",
    "            label = ['I'] * n\n",
    "            label[n-i-1] = 'Z'\n",
    "            label[n-j-1] = 'Z'\n",
    "            pauli_str = ''.join(label)\n",
    "            pauli_dict2[pauli_str] = pauli_dict2.get(pauli_str, 0) + 2*factor\n",
    "\n",
    "pauli_dict2['I' * n] = pauli_dict2.get('I' * n, 0) + penalty * beta1**2 + const_term1\n",
    "\n",
    "pauli_terms2 = list(pauli_dict2.items())\n",
    "\n",
    "print(\"\\nPauli terms for the Hamiltonian:\")\n",
    "for term, coeff in pauli_terms2:\n",
    "    print(f\"{term}: {coeff}\")\n"
   ]
  },
  {
   "cell_type": "code",
   "execution_count": null,
   "id": "c7585f7f",
   "metadata": {},
   "outputs": [],
   "source": [
    "hamiltonian1 = SparsePauliOp.from_list(pauli_terms2)\n",
    "Operator(hamiltonian1).draw('latex')"
   ]
  },
  {
   "cell_type": "code",
   "execution_count": null,
   "id": "dbf3ccf2",
   "metadata": {},
   "outputs": [],
   "source": [
    "ansatz = RealAmplitudes(hamiltonian1.num_qubits, reps=1, entanglement='linear')\n",
    "ansatz2 = PauliTwoDesign(hamiltonian1.num_qubits, reps=1)\n",
    "ansatz2.decompose().draw('mpl')"
   ]
  },
  {
   "cell_type": "code",
   "execution_count": null,
   "id": "4df1463d",
   "metadata": {},
   "outputs": [],
   "source": [
    "cost_history_dict = {\n",
    "    \"prev_vector\": None,\n",
    "    \"iters\": 0,\n",
    "    \"cost_history\": [],\n",
    "    \"parameters\": [],\n",
    "}\n",
    "\n",
    "def cost_func_vqe(parameters, ansatz, hamiltonian, estimator):\n",
    "    \"\"\"Return estimate of energy from estimator\n",
    "\n",
    "    Parameters:\n",
    "        params (ndarray): Array of ansatz parameters\n",
    "        ansatz (QuantumCircuit): Parameterized ansatz circuit\n",
    "        hamiltonian (SparsePauliOp): Operator representation of Hamiltonian\n",
    "        estimator (Estimator): Estimator primitive instance\n",
    "\n",
    "    Returns:\n",
    "        float: Energy estimate\n",
    "    \"\"\"\n",
    "\n",
    "    estimator_job = estimator.run([(ansatz, hamiltonian, [parameters])])\n",
    "    estimator_result = estimator_job.result()[0]\n",
    "\n",
    "    cost = estimator_result.data.evs[0]\n",
    "    cost_history_dict[\"iters\"] += 1\n",
    "    cost_history_dict[\"prev_vector\"] = parameters\n",
    "    cost_history_dict[\"cost_history\"].append(cost)\n",
    "    cost_history_dict[\"parameters\"].append(parameters)\n",
    "    return cost"
   ]
  },
  {
   "cell_type": "code",
   "execution_count": null,
   "id": "2893d227",
   "metadata": {},
   "outputs": [],
   "source": [
    "from scipy.optimize import minimize\n",
    "import numpy as np\n",
    "from qiskit_aer import Aer\n",
    "initial_params = np.random.uniform(low= -np.pi, high=np.pi, size=ansatz2.num_parameters)\n",
    "result = minimize(cost_func_vqe, initial_params, args=(ansatz2, hamiltonian1, estimator), method=\"COBYLA\",options={'maxiter': 50000, 'disp': True})\n",
    "print(result)\n",
    "\n"
   ]
  },
  {
   "cell_type": "markdown",
   "id": "d0e45517",
   "metadata": {},
   "source": [
    "$$\n",
    "n = Cb\n",
    "$$\n",
    "Where $C$ is the conversion matrix, $b$ is the binary sequence generated from the opimized circuit and $n$ is the shares vector "
   ]
  },
  {
   "cell_type": "code",
   "execution_count": null,
   "id": "e2137d38",
   "metadata": {},
   "outputs": [],
   "source": [
    "from qiskit.quantum_info import Statevector\n",
    "from qiskit import transpile\n",
    "# Assign optimal parameters to ansatz\n",
    "final_circuit = ansatz2.assign_parameters(result.x)\n",
    "\n",
    "final_circuit.measure_all()\n",
    "simluator = Aer.get_backend('qasm_simulator')\n",
    "transpiled_circuit = transpile(final_circuit, simluator)\n",
    "job_state = simluator.run(transpiled_circuit, shots=1000)\n",
    "\n",
    "result = job_state.result()\n",
    "\n",
    "counts = result.get_counts(final_circuit)\n",
    "\n",
    "bitstring = max(counts, key=counts.get)\n",
    "#bitstring = bitstring[::-1]  # reverse Qiskit \n",
    "\n",
    "print(\"Most likely bitstring:\", bitstring)\n",
    "\n",
    "# Convert to vector\n",
    "b = np.array([int(bit) for bit in bitstring])\n",
    "n = C @ b\n",
    "print(\"\\nOptimal number of shares to buy for each asset:\")\n",
    "for i, ticker in enumerate(tickers):\n",
    "    print(f\"{ticker}: {int(n[i])} shares\")"
   ]
  },
  {
   "cell_type": "code",
   "execution_count": null,
   "id": "f30837b6",
   "metadata": {},
   "outputs": [],
   "source": [
    "from qiskit.visualization import plot_histogram\n",
    "plot_histogram(counts)"
   ]
  },
  {
   "cell_type": "code",
   "execution_count": null,
   "id": "f9c5b28c",
   "metadata": {},
   "outputs": [],
   "source": [
    "\n",
    "total_cost_scaled = P_double_prime.T @ b\n",
    "print(f\"\\nTotal cost of the portfolio (scaled, normalized): {total_cost_scaled:.4f}\") \n",
    "objective_function_penalty = -penalty*(P_double_prime.T @ b - 1)**2\n",
    "print(f\"Objective function value with penalty: {objective_function_penalty:.4f}\")\n",
    "if total_cost_scaled > 1:\n",
    "    print(\"Total cost exceeds budget after scaling.\")\n",
    "else:\n",
    "    print(\"Total cost is within budget after scaling.\")\n"
   ]
  }
 ],
 "metadata": {
  "kernelspec": {
   "display_name": "new_qiskit_env",
   "language": "python",
   "name": "python3"
  },
  "language_info": {
   "codemirror_mode": {
    "name": "ipython",
    "version": 3
   },
   "file_extension": ".py",
   "mimetype": "text/x-python",
   "name": "python",
   "nbconvert_exporter": "python",
   "pygments_lexer": "ipython3",
   "version": "3.12.4"
  }
 },
 "nbformat": 4,
 "nbformat_minor": 5
}
