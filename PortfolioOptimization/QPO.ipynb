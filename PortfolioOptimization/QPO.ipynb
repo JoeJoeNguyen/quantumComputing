{
 "cells": [
  {
   "cell_type": "code",
   "execution_count": 3,
   "id": "8829d91c",
   "metadata": {},
   "outputs": [
    {
     "name": "stdout",
     "output_type": "stream",
     "text": [
      "                                 Open        High         Low       Close  \\\n",
      "Date                                                                        \n",
      "2024-05-22 00:00:00-04:00  191.375001  191.922444  189.384311  190.011368   \n",
      "2024-05-23 00:00:00-04:00  190.090992  190.110903  185.761250  186.010086   \n",
      "2024-05-24 00:00:00-04:00  187.941069  189.692870  187.164685  189.095657   \n",
      "2024-05-28 00:00:00-04:00  190.618520  192.101589  188.219750  189.105606   \n",
      "2024-05-29 00:00:00-04:00  188.727393  191.355104  188.627853  189.404221   \n",
      "...                               ...         ...         ...         ...   \n",
      "2025-05-16 00:00:00-04:00  212.360001  212.570007  209.770004  211.259995   \n",
      "2025-05-19 00:00:00-04:00  207.910004  209.479996  204.259995  208.779999   \n",
      "2025-05-20 00:00:00-04:00  207.669998  208.470001  205.029999  206.860001   \n",
      "2025-05-21 00:00:00-04:00  205.169998  207.039993  200.710007  202.089996   \n",
      "2025-05-22 00:00:00-04:00  200.714996  202.409897  199.699997  201.884995   \n",
      "\n",
      "                             Volume  Dividends  Stock Splits  \n",
      "Date                                                          \n",
      "2024-05-22 00:00:00-04:00  34648500        0.0           0.0  \n",
      "2024-05-23 00:00:00-04:00  51005900        0.0           0.0  \n",
      "2024-05-24 00:00:00-04:00  36294600        0.0           0.0  \n",
      "2024-05-28 00:00:00-04:00  52280100        0.0           0.0  \n",
      "2024-05-29 00:00:00-04:00  53068000        0.0           0.0  \n",
      "...                             ...        ...           ...  \n",
      "2025-05-16 00:00:00-04:00  54737900        0.0           0.0  \n",
      "2025-05-19 00:00:00-04:00  46140500        0.0           0.0  \n",
      "2025-05-20 00:00:00-04:00  42496600        0.0           0.0  \n",
      "2025-05-21 00:00:00-04:00  59134800        0.0           0.0  \n",
      "2025-05-22 00:00:00-04:00  27961667        0.0           0.0  \n",
      "\n",
      "[251 rows x 7 columns]\n"
     ]
    }
   ],
   "source": [
    "import yfinance as yf\n",
    "\n",
    "# Create a Ticker object for Apple Inc.\n",
    "ticker = yf.Ticker(\"AAPL\")\n",
    "\n",
    "# Fetch historical market data for the last year\n",
    "historical_data = ticker.history(period=\"1y\")\n",
    "print(historical_data)\n",
    "\n",
    "# Fetch basic financials\n",
    "financials = ticker.financials\n",
    "#print(financials)"
   ]
  },
  {
   "cell_type": "code",
   "execution_count": 4,
   "id": "d58510a1",
   "metadata": {},
   "outputs": [
    {
     "name": "stderr",
     "output_type": "stream",
     "text": [
      "[*********************100%***********************]  10 of 10 completed"
     ]
    },
    {
     "name": "stdout",
     "output_type": "stream",
     "text": [
      "Ticker      AAPL       AMD      AMZN     GOOGL       IBM      META      MSFT  \\\n",
      "Ticker                                                                         \n",
      "AAPL    0.000181  0.000136  0.000101  0.000109  0.000025  0.000123  0.000097   \n",
      "AMD     0.000136  0.000895  0.000245  0.000213  0.000081  0.000295  0.000199   \n",
      "AMZN    0.000101  0.000245  0.000372  0.000204  0.000042  0.000269  0.000171   \n",
      "GOOGL   0.000109  0.000213  0.000204  0.000339  0.000021  0.000225  0.000141   \n",
      "IBM     0.000025  0.000081  0.000042  0.000021  0.000158  0.000053  0.000033   \n",
      "META    0.000123  0.000295  0.000269  0.000225  0.000053  0.000579  0.000189   \n",
      "MSFT    0.000097  0.000199  0.000171  0.000141  0.000033  0.000189  0.000204   \n",
      "NFLX    0.000103  0.000231  0.000157  0.000123  0.000040  0.000166  0.000122   \n",
      "NVDA    0.000147  0.000590  0.000249  0.000211  0.000059  0.000303  0.000225   \n",
      "TSLA    0.000186  0.000329  0.000241  0.000196  0.000007  0.000227  0.000159   \n",
      "\n",
      "Ticker      NFLX      NVDA      TSLA  \n",
      "Ticker                                \n",
      "AAPL    0.000103  0.000147  0.000186  \n",
      "AMD     0.000231  0.000590  0.000329  \n",
      "AMZN    0.000157  0.000249  0.000241  \n",
      "GOOGL   0.000123  0.000211  0.000196  \n",
      "IBM     0.000040  0.000059  0.000007  \n",
      "META    0.000166  0.000303  0.000227  \n",
      "MSFT    0.000122  0.000225  0.000159  \n",
      "NFLX    0.000454  0.000246  0.000191  \n",
      "NVDA    0.000246  0.001012  0.000349  \n",
      "TSLA    0.000191  0.000349  0.001349  \n"
     ]
    },
    {
     "name": "stderr",
     "output_type": "stream",
     "text": [
      "\n"
     ]
    }
   ],
   "source": [
    "import pandas as pd\n",
    "\n",
    "tickers = ['AAPL', 'MSFT', 'GOOGL', 'AMZN', 'TSLA', 'META', 'NVDA', 'NFLX', 'AMD', 'IBM']\n",
    "data = yf.download(tickers, start=\"2023-01-01\", end=\"2025-01-01\")\n",
    "\n",
    "close_prices = data['Close']\n",
    "\n",
    "close_prices = close_prices.pct_change().dropna()\n",
    "\n",
    "covariance_matrix = close_prices.cov()\n",
    "print(covariance_matrix)"
   ]
  },
  {
   "cell_type": "code",
   "execution_count": null,
   "id": "e7253dc9",
   "metadata": {},
   "outputs": [],
   "source": []
  }
 ],
 "metadata": {
  "kernelspec": {
   "display_name": "new_qiskit_env",
   "language": "python",
   "name": "python3"
  },
  "language_info": {
   "codemirror_mode": {
    "name": "ipython",
    "version": 3
   },
   "file_extension": ".py",
   "mimetype": "text/x-python",
   "name": "python",
   "nbconvert_exporter": "python",
   "pygments_lexer": "ipython3",
   "version": "3.12.4"
  }
 },
 "nbformat": 4,
 "nbformat_minor": 5
}
