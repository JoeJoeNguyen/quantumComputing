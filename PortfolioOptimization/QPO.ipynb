{
 "cells": [
  {
   "cell_type": "code",
   "execution_count": 1,
   "id": "8829d91c",
   "metadata": {},
   "outputs": [
    {
     "name": "stdout",
     "output_type": "stream",
     "text": [
      "                                 Open        High         Low       Close  \\\n",
      "Date                                                                        \n",
      "2024-05-28 00:00:00-04:00  190.618535  192.101605  188.219765  189.105621   \n",
      "2024-05-29 00:00:00-04:00  188.727393  191.355104  188.627853  189.404221   \n",
      "2024-05-30 00:00:00-04:00  189.872035  191.285423  189.742650  190.399567   \n",
      "2024-05-31 00:00:00-04:00  190.548875  191.673620  189.025999  191.355103   \n",
      "2024-06-03 00:00:00-04:00  192.002071  194.082354  191.623850  193.126816   \n",
      "...                               ...         ...         ...         ...   \n",
      "2025-05-20 00:00:00-04:00  207.669998  208.470001  205.029999  206.860001   \n",
      "2025-05-21 00:00:00-04:00  205.169998  207.039993  200.710007  202.089996   \n",
      "2025-05-22 00:00:00-04:00  200.710007  202.750000  199.699997  201.360001   \n",
      "2025-05-23 00:00:00-04:00  193.669998  197.699997  193.460007  195.270004   \n",
      "2025-05-27 00:00:00-04:00  198.300003  200.740005  197.429993  200.210007   \n",
      "\n",
      "                             Volume  Dividends  Stock Splits  \n",
      "Date                                                          \n",
      "2024-05-28 00:00:00-04:00  52280100        0.0           0.0  \n",
      "2024-05-29 00:00:00-04:00  53068000        0.0           0.0  \n",
      "2024-05-30 00:00:00-04:00  49947900        0.0           0.0  \n",
      "2024-05-31 00:00:00-04:00  75158300        0.0           0.0  \n",
      "2024-06-03 00:00:00-04:00  50080500        0.0           0.0  \n",
      "...                             ...        ...           ...  \n",
      "2025-05-20 00:00:00-04:00  42496600        0.0           0.0  \n",
      "2025-05-21 00:00:00-04:00  59211800        0.0           0.0  \n",
      "2025-05-22 00:00:00-04:00  46742400        0.0           0.0  \n",
      "2025-05-23 00:00:00-04:00  78314800        0.0           0.0  \n",
      "2025-05-27 00:00:00-04:00  55702646        0.0           0.0  \n",
      "\n",
      "[250 rows x 7 columns]\n"
     ]
    }
   ],
   "source": [
    "import yfinance as yf\n",
    "\n",
    "# Create a Ticker object for Apple Inc.\n",
    "ticker = yf.Ticker(\"AAPL\")\n",
    "\n",
    "# Fetch historical market data for the last year\n",
    "historical_data = ticker.history(period=\"1y\")\n",
    "print(historical_data)\n",
    "\n",
    "# Fetch basic financials\n",
    "financials = ticker.financials\n",
    "#print(financials)"
   ]
  },
  {
   "cell_type": "code",
   "execution_count": 2,
   "id": "8d3b370a",
   "metadata": {},
   "outputs": [],
   "source": [
    "#constraints\n",
    "\n",
    "budget = 20000\n",
    "risk_tolerance = 0.5"
   ]
  },
  {
   "cell_type": "code",
   "execution_count": 3,
   "id": "adaec496",
   "metadata": {},
   "outputs": [],
   "source": [
    "#calculating the return\n",
    "def daily_returns(yesterday, today):\n",
    "    if yesterday == 0:\n",
    "        return 0\n",
    "    return (today - yesterday) / yesterday\n",
    "\n",
    "def expected_return(days, list_of_returns):\n",
    "    return sum(list_of_returns) / days\n",
    "\n",
    "def variance_of_asset(list_of_returns, days):\n",
    "    mean_return = expected_return(days, list_of_returns)\n",
    "    return sum((r - mean_return) ** 2 for r in list_of_returns) / days\n",
    "\n",
    "def covariance(asset1_returns, asset2_returns, days):\n",
    "    mean_asset1 = expected_return(days, asset1_returns)\n",
    "    mean_asset2 = expected_return(days, asset2_returns)\n",
    "    return sum((asset1_returns[i] - mean_asset1) * (asset2_returns[i] - mean_asset2) for i in range(days)) / days"
   ]
  },
  {
   "cell_type": "code",
   "execution_count": 4,
   "id": "d58510a1",
   "metadata": {},
   "outputs": [
    {
     "name": "stderr",
     "output_type": "stream",
     "text": [
      "[**********************80%*************          ]  8 of 10 completed"
     ]
    },
    {
     "name": "stdout",
     "output_type": "stream",
     "text": [
      "YF.download() has changed argument auto_adjust default to True\n"
     ]
    },
    {
     "name": "stderr",
     "output_type": "stream",
     "text": [
      "[*********************100%***********************]  10 of 10 completed"
     ]
    },
    {
     "name": "stdout",
     "output_type": "stream",
     "text": [
      "Average daily return for AAPL: 0.0015\n",
      "Variance of daily returns for AAPL: 0.0002\n",
      "Average daily return for NVDA: 0.0050\n",
      "Variance of daily returns for NVDA: 0.0010\n",
      "Average daily return for MSFT: 0.0013\n",
      "Variance of daily returns for MSFT: 0.0002\n",
      "Average daily return for AMZN: 0.0021\n",
      "Variance of daily returns for AMZN: 0.0004\n",
      "Average daily return for GOOGL: 0.0017\n",
      "Variance of daily returns for GOOGL: 0.0003\n",
      "Average daily return for TSLA: 0.0033\n",
      "Variance of daily returns for TSLA: 0.0013\n",
      "Average daily return for META: 0.0034\n",
      "Variance of daily returns for META: 0.0006\n",
      "Average daily return for NFLX: 0.0024\n",
      "Variance of daily returns for NFLX: 0.0005\n",
      "Average daily return for IBM: 0.0011\n",
      "Variance of daily returns for IBM: 0.0002\n",
      "Average daily return for AMD: 0.0017\n",
      "Variance of daily returns for AMD: 0.0009\n"
     ]
    },
    {
     "name": "stderr",
     "output_type": "stream",
     "text": [
      "\n"
     ]
    }
   ],
   "source": [
    "import pandas as pd\n",
    "\n",
    "tickers = ['AAPL', 'MSFT', 'GOOGL', 'AMZN', 'TSLA', 'META', 'NVDA', 'NFLX', 'AMD', 'IBM']\n",
    "data = yf.download(tickers, start=\"2023-01-01\", end=\"2025-01-01\")\n",
    "\n",
    "close_prices = data['Close']\n",
    "\n",
    "#close_prices = close_prices.pct_change().dropna()\n",
    "\n",
    "list_of_returns_aaple = []\n",
    "for i in range(1, len(close_prices['AAPL'])):\n",
    "    daily_return = daily_returns(close_prices['AAPL'].iloc[i-1], close_prices['AAPL'].iloc[i])\n",
    "    list_of_returns_aaple.append(daily_return)\n",
    "average_return_aaple = expected_return(len(list_of_returns_aaple), list_of_returns_aaple)\n",
    "print(f\"Average daily return for AAPL: {average_return_aaple:.4f}\")\n",
    "variance_of_aaple = variance_of_asset(list_of_returns_aaple, len(list_of_returns_aaple))\n",
    "print(f\"Variance of daily returns for AAPL: {variance_of_aaple:.4f}\")\n",
    "\n",
    "\n",
    "list_of_returns_nvda = []\n",
    "for i in range(1, len(close_prices['NVDA'])):\n",
    "    daily_return = daily_returns(close_prices['NVDA'].iloc[i-1], close_prices['NVDA'].iloc[i])\n",
    "    list_of_returns_nvda.append(daily_return)\n",
    "average_return_nvda = expected_return(len(list_of_returns_nvda), list_of_returns_nvda)\n",
    "print(f\"Average daily return for NVDA: {average_return_nvda:.4f}\")\n",
    "variance_of_nvda = variance_of_asset(list_of_returns_nvda, len(list_of_returns_nvda))\n",
    "print(f\"Variance of daily returns for NVDA: {variance_of_nvda:.4f}\")\n",
    "\n",
    "list_of_returns_msft = []\n",
    "for i in range(1, len(close_prices['MSFT'])):\n",
    "    daily_return = daily_returns(close_prices['MSFT'].iloc[i-1], close_prices['MSFT'].iloc[i])\n",
    "    list_of_returns_msft.append(daily_return)\n",
    "average_return_msft = expected_return(len(list_of_returns_msft), list_of_returns_msft)\n",
    "print(f\"Average daily return for MSFT: {average_return_msft:.4f}\")\n",
    "variance_of_msft = variance_of_asset(list_of_returns_msft, len(list_of_returns_msft))\n",
    "print(f\"Variance of daily returns for MSFT: {variance_of_msft:.4f}\")\n",
    "\n",
    "list_of_returns_amzn = []\n",
    "for i in range(1, len(close_prices['AMZN'])):\n",
    "    daily_return = daily_returns(close_prices['AMZN'].iloc[i-1], close_prices['AMZN'].iloc[i])\n",
    "    list_of_returns_amzn.append(daily_return)\n",
    "average_return_amzn = expected_return(len(list_of_returns_amzn), list_of_returns_amzn)\n",
    "print(f\"Average daily return for AMZN: {average_return_amzn:.4f}\")\n",
    "variance_of_amzn = variance_of_asset(list_of_returns_amzn, len(list_of_returns_amzn))\n",
    "print(f\"Variance of daily returns for AMZN: {variance_of_amzn:.4f}\")\n",
    "\n",
    "list_of_returns_googl = []\n",
    "for i in range(1, len(close_prices['GOOGL'])):\n",
    "    daily_return = daily_returns(close_prices['GOOGL'].iloc[i-1], close_prices['GOOGL'].iloc[i])\n",
    "    list_of_returns_googl.append(daily_return)\n",
    "average_return_googl = expected_return(len(list_of_returns_googl), list_of_returns_googl)\n",
    "print(f\"Average daily return for GOOGL: {average_return_googl:.4f}\")\n",
    "variance_of_googl = variance_of_asset(list_of_returns_googl, len(list_of_returns_googl))\n",
    "print(f\"Variance of daily returns for GOOGL: {variance_of_googl:.4f}\")\n",
    "\n",
    "list_of_returns_tsla = []\n",
    "for i in range(1, len(close_prices['TSLA'])):\n",
    "    daily_return = daily_returns(close_prices['TSLA'].iloc[i-1], close_prices['TSLA'].iloc[i])\n",
    "    list_of_returns_tsla.append(daily_return)\n",
    "average_return_tsla = expected_return(len(list_of_returns_tsla), list_of_returns_tsla)\n",
    "print(f\"Average daily return for TSLA: {average_return_tsla:.4f}\")\n",
    "variance_of_tsla = variance_of_asset(list_of_returns_tsla, len(list_of_returns_tsla))\n",
    "print(f\"Variance of daily returns for TSLA: {variance_of_tsla:.4f}\")\n",
    "\n",
    "list_of_returns_meta = []\n",
    "for i in range(1, len(close_prices['META'])):\n",
    "    daily_return = daily_returns(close_prices['META'].iloc[i-1], close_prices['META'].iloc[i])\n",
    "    list_of_returns_meta.append(daily_return)\n",
    "average_return_meta = expected_return(len(list_of_returns_meta), list_of_returns_meta)\n",
    "print(f\"Average daily return for META: {average_return_meta:.4f}\")\n",
    "variance_of_meta = variance_of_asset(list_of_returns_meta, len(list_of_returns_meta))\n",
    "print(f\"Variance of daily returns for META: {variance_of_meta:.4f}\")\n",
    "\n",
    "list_of_returns_nflx = []\n",
    "for i in range(1, len(close_prices['NFLX'])):\n",
    "    daily_return = daily_returns(close_prices['NFLX'].iloc[i-1], close_prices['NFLX'].iloc[i])\n",
    "    list_of_returns_nflx.append(daily_return)\n",
    "average_return_nflx = expected_return(len(list_of_returns_nflx), list_of_returns_nflx)\n",
    "print(f\"Average daily return for NFLX: {average_return_nflx:.4f}\")\n",
    "variance_of_nflx = variance_of_asset(list_of_returns_nflx, len(list_of_returns_nflx))\n",
    "print(f\"Variance of daily returns for NFLX: {variance_of_nflx:.4f}\")\n",
    "\n",
    "list_of_returns_ibm = []\n",
    "for i in range(1, len(close_prices['IBM'])):\n",
    "    daily_return = daily_returns(close_prices['IBM'].iloc[i-1], close_prices['IBM'].iloc[i])\n",
    "    list_of_returns_ibm.append(daily_return)\n",
    "average_return_ibm = expected_return(len(list_of_returns_ibm), list_of_returns_ibm)\n",
    "print(f\"Average daily return for IBM: {average_return_ibm:.4f}\")\n",
    "variance_of_ibm = variance_of_asset(list_of_returns_ibm, len(list_of_returns_ibm))\n",
    "print(f\"Variance of daily returns for IBM: {variance_of_ibm:.4f}\")\n",
    "\n",
    "list_of_returns_amd = []\n",
    "for i in range(1, len(close_prices['AMD'])):\n",
    "    daily_return = daily_returns(close_prices['AMD'].iloc[i-1], close_prices['AMD'].iloc[i])\n",
    "    list_of_returns_amd.append(daily_return)\n",
    "average_return_amd = expected_return(len(list_of_returns_amd), list_of_returns_amd)\n",
    "print(f\"Average daily return for AMD: {average_return_amd:.4f}\")\n",
    "variance_of_amd = variance_of_asset(list_of_returns_amd, len(list_of_returns_amd))\n",
    "print(f\"Variance of daily returns for AMD: {variance_of_amd:.4f}\")\n",
    "\n",
    "\n"
   ]
  },
  {
   "cell_type": "code",
   "execution_count": 5,
   "id": "e7253dc9",
   "metadata": {},
   "outputs": [],
   "source": [
    "from qiskit import QuantumCircuit"
   ]
  },
  {
   "cell_type": "code",
   "execution_count": null,
   "id": "7b6f148f",
   "metadata": {},
   "outputs": [],
   "source": []
  }
 ],
 "metadata": {
  "kernelspec": {
   "display_name": "Python 3",
   "language": "python",
   "name": "python3"
  },
  "language_info": {
   "codemirror_mode": {
    "name": "ipython",
    "version": 3
   },
   "file_extension": ".py",
   "mimetype": "text/x-python",
   "name": "python",
   "nbconvert_exporter": "python",
   "pygments_lexer": "ipython3",
   "version": "3.12.4"
  }
 },
 "nbformat": 4,
 "nbformat_minor": 5
}
