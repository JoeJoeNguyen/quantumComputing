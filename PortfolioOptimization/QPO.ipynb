{
 "cells": [
  {
   "cell_type": "code",
   "execution_count": 1,
   "id": "8829d91c",
   "metadata": {},
   "outputs": [],
   "source": [
    "import yfinance as yf"
   ]
  },
  {
   "cell_type": "code",
   "execution_count": 2,
   "id": "8d3b370a",
   "metadata": {},
   "outputs": [],
   "source": [
    "#constraints\n",
    "\n",
    "budget = 20000\n",
    "risk_tolerance = 0.5"
   ]
  },
  {
   "cell_type": "code",
   "execution_count": 3,
   "id": "adaec496",
   "metadata": {},
   "outputs": [],
   "source": [
    "#calculating the return\n",
    "def daily_returns(yesterday, today):\n",
    "    if yesterday == 0:\n",
    "        return 0\n",
    "    return (today - yesterday) / yesterday\n",
    "\n",
    "def expected_return(days, list_of_returns):\n",
    "    return sum(list_of_returns) / days\n",
    "\n",
    "def variance_of_asset(list_of_returns, days):\n",
    "    mean_return = expected_return(days, list_of_returns)\n",
    "    return sum((r - mean_return) ** 2 for r in list_of_returns) / days\n",
    "\n",
    "def covariance(asset1_returns, asset2_returns, days):\n",
    "    mean_asset1 = expected_return(days, asset1_returns)\n",
    "    mean_asset2 = expected_return(days, asset2_returns)\n",
    "    return sum((asset1_returns[i] - mean_asset1) * (asset2_returns[i] - mean_asset2) for i in range(days)) / days"
   ]
  },
  {
   "cell_type": "code",
   "execution_count": 4,
   "id": "d58510a1",
   "metadata": {},
   "outputs": [
    {
     "name": "stdout",
     "output_type": "stream",
     "text": [
      "YF.download() has changed argument auto_adjust default to True\n"
     ]
    },
    {
     "name": "stderr",
     "output_type": "stream",
     "text": [
      "[*********************100%***********************]  10 of 10 completed"
     ]
    },
    {
     "name": "stdout",
     "output_type": "stream",
     "text": [
      "Average daily return for AAPL: 0.0015\n",
      "Variance of daily returns for AAPL: 0.0002\n",
      "Average daily return for NVDA: 0.0050\n",
      "Variance of daily returns for NVDA: 0.0010\n",
      "Average daily return for MSFT: 0.0013\n",
      "Variance of daily returns for MSFT: 0.0002\n",
      "Average daily return for AMZN: 0.0021\n",
      "Variance of daily returns for AMZN: 0.0004\n",
      "Average daily return for GOOGL: 0.0017\n",
      "Variance of daily returns for GOOGL: 0.0003\n",
      "Average daily return for TSLA: 0.0033\n",
      "Variance of daily returns for TSLA: 0.0013\n",
      "Average daily return for META: 0.0034\n",
      "Variance of daily returns for META: 0.0006\n",
      "Average daily return for NFLX: 0.0024\n",
      "Variance of daily returns for NFLX: 0.0005\n",
      "Average daily return for IBM: 0.0011\n",
      "Variance of daily returns for IBM: 0.0002\n",
      "Average daily return for AMD: 0.0017\n",
      "Variance of daily returns for AMD: 0.0009\n"
     ]
    },
    {
     "name": "stderr",
     "output_type": "stream",
     "text": [
      "\n"
     ]
    }
   ],
   "source": [
    "import pandas as pd\n",
    "\n",
    "tickers = ['AAPL', 'MSFT', 'GOOGL', 'AMZN', 'TSLA', 'META', 'NVDA', 'NFLX', 'AMD', 'IBM']\n",
    "data = yf.download(tickers, start=\"2023-01-01\", end=\"2025-01-01\")\n",
    "\n",
    "close_prices = data['Close']\n",
    "\n",
    "#close_prices = close_prices.pct_change().dropna()\n",
    "\n",
    "list_of_returns_aaple = []\n",
    "for i in range(1, len(close_prices['AAPL'])):\n",
    "    daily_return = daily_returns(close_prices['AAPL'].iloc[i-1], close_prices['AAPL'].iloc[i])\n",
    "    list_of_returns_aaple.append(daily_return)\n",
    "average_return_aaple = expected_return(len(list_of_returns_aaple), list_of_returns_aaple)\n",
    "print(f\"Average daily return for AAPL: {average_return_aaple:.4f}\")\n",
    "variance_of_aaple = variance_of_asset(list_of_returns_aaple, len(list_of_returns_aaple))\n",
    "print(f\"Variance of daily returns for AAPL: {variance_of_aaple:.4f}\")\n",
    "\n",
    "\n",
    "list_of_returns_nvda = []\n",
    "for i in range(1, len(close_prices['NVDA'])):\n",
    "    daily_return = daily_returns(close_prices['NVDA'].iloc[i-1], close_prices['NVDA'].iloc[i])\n",
    "    list_of_returns_nvda.append(daily_return)\n",
    "average_return_nvda = expected_return(len(list_of_returns_nvda), list_of_returns_nvda)\n",
    "print(f\"Average daily return for NVDA: {average_return_nvda:.4f}\")\n",
    "variance_of_nvda = variance_of_asset(list_of_returns_nvda, len(list_of_returns_nvda))\n",
    "print(f\"Variance of daily returns for NVDA: {variance_of_nvda:.4f}\")\n",
    "\n",
    "list_of_returns_msft = []\n",
    "for i in range(1, len(close_prices['MSFT'])):\n",
    "    daily_return = daily_returns(close_prices['MSFT'].iloc[i-1], close_prices['MSFT'].iloc[i])\n",
    "    list_of_returns_msft.append(daily_return)\n",
    "average_return_msft = expected_return(len(list_of_returns_msft), list_of_returns_msft)\n",
    "print(f\"Average daily return for MSFT: {average_return_msft:.4f}\")\n",
    "variance_of_msft = variance_of_asset(list_of_returns_msft, len(list_of_returns_msft))\n",
    "print(f\"Variance of daily returns for MSFT: {variance_of_msft:.4f}\")\n",
    "\n",
    "list_of_returns_amzn = []\n",
    "for i in range(1, len(close_prices['AMZN'])):\n",
    "    daily_return = daily_returns(close_prices['AMZN'].iloc[i-1], close_prices['AMZN'].iloc[i])\n",
    "    list_of_returns_amzn.append(daily_return)\n",
    "average_return_amzn = expected_return(len(list_of_returns_amzn), list_of_returns_amzn)\n",
    "print(f\"Average daily return for AMZN: {average_return_amzn:.4f}\")\n",
    "variance_of_amzn = variance_of_asset(list_of_returns_amzn, len(list_of_returns_amzn))\n",
    "print(f\"Variance of daily returns for AMZN: {variance_of_amzn:.4f}\")\n",
    "\n",
    "list_of_returns_googl = []\n",
    "for i in range(1, len(close_prices['GOOGL'])):\n",
    "    daily_return = daily_returns(close_prices['GOOGL'].iloc[i-1], close_prices['GOOGL'].iloc[i])\n",
    "    list_of_returns_googl.append(daily_return)\n",
    "average_return_googl = expected_return(len(list_of_returns_googl), list_of_returns_googl)\n",
    "print(f\"Average daily return for GOOGL: {average_return_googl:.4f}\")\n",
    "variance_of_googl = variance_of_asset(list_of_returns_googl, len(list_of_returns_googl))\n",
    "print(f\"Variance of daily returns for GOOGL: {variance_of_googl:.4f}\")\n",
    "\n",
    "list_of_returns_tsla = []\n",
    "for i in range(1, len(close_prices['TSLA'])):\n",
    "    daily_return = daily_returns(close_prices['TSLA'].iloc[i-1], close_prices['TSLA'].iloc[i])\n",
    "    list_of_returns_tsla.append(daily_return)\n",
    "average_return_tsla = expected_return(len(list_of_returns_tsla), list_of_returns_tsla)\n",
    "print(f\"Average daily return for TSLA: {average_return_tsla:.4f}\")\n",
    "variance_of_tsla = variance_of_asset(list_of_returns_tsla, len(list_of_returns_tsla))\n",
    "print(f\"Variance of daily returns for TSLA: {variance_of_tsla:.4f}\")\n",
    "\n",
    "list_of_returns_meta = []\n",
    "for i in range(1, len(close_prices['META'])):\n",
    "    daily_return = daily_returns(close_prices['META'].iloc[i-1], close_prices['META'].iloc[i])\n",
    "    list_of_returns_meta.append(daily_return)\n",
    "average_return_meta = expected_return(len(list_of_returns_meta), list_of_returns_meta)\n",
    "print(f\"Average daily return for META: {average_return_meta:.4f}\")\n",
    "variance_of_meta = variance_of_asset(list_of_returns_meta, len(list_of_returns_meta))\n",
    "print(f\"Variance of daily returns for META: {variance_of_meta:.4f}\")\n",
    "\n",
    "list_of_returns_nflx = []\n",
    "for i in range(1, len(close_prices['NFLX'])):\n",
    "    daily_return = daily_returns(close_prices['NFLX'].iloc[i-1], close_prices['NFLX'].iloc[i])\n",
    "    list_of_returns_nflx.append(daily_return)\n",
    "average_return_nflx = expected_return(len(list_of_returns_nflx), list_of_returns_nflx)\n",
    "print(f\"Average daily return for NFLX: {average_return_nflx:.4f}\")\n",
    "variance_of_nflx = variance_of_asset(list_of_returns_nflx, len(list_of_returns_nflx))\n",
    "print(f\"Variance of daily returns for NFLX: {variance_of_nflx:.4f}\")\n",
    "\n",
    "list_of_returns_ibm = []\n",
    "for i in range(1, len(close_prices['IBM'])):\n",
    "    daily_return = daily_returns(close_prices['IBM'].iloc[i-1], close_prices['IBM'].iloc[i])\n",
    "    list_of_returns_ibm.append(daily_return)\n",
    "average_return_ibm = expected_return(len(list_of_returns_ibm), list_of_returns_ibm)\n",
    "print(f\"Average daily return for IBM: {average_return_ibm:.4f}\")\n",
    "variance_of_ibm = variance_of_asset(list_of_returns_ibm, len(list_of_returns_ibm))\n",
    "print(f\"Variance of daily returns for IBM: {variance_of_ibm:.4f}\")\n",
    "\n",
    "list_of_returns_amd = []\n",
    "for i in range(1, len(close_prices['AMD'])):\n",
    "    daily_return = daily_returns(close_prices['AMD'].iloc[i-1], close_prices['AMD'].iloc[i])\n",
    "    list_of_returns_amd.append(daily_return)\n",
    "average_return_amd = expected_return(len(list_of_returns_amd), list_of_returns_amd)\n",
    "print(f\"Average daily return for AMD: {average_return_amd:.4f}\")\n",
    "variance_of_amd = variance_of_asset(list_of_returns_amd, len(list_of_returns_amd))\n",
    "print(f\"Variance of daily returns for AMD: {variance_of_amd:.4f}\")\n",
    "\n",
    "\n"
   ]
  },
  {
   "cell_type": "markdown",
   "id": "7c20c0ce",
   "metadata": {},
   "source": [
    "another way of calculating returns"
   ]
  },
  {
   "cell_type": "code",
   "execution_count": 5,
   "id": "e7253dc9",
   "metadata": {},
   "outputs": [
    {
     "name": "stdout",
     "output_type": "stream",
     "text": [
      "Average daily return for AAPL: 0.0015\n",
      "Average daily return for MSFT: 0.0013\n",
      "Average daily return for GOOGL: 0.0017\n",
      "Average daily return for AMZN: 0.0021\n",
      "Average daily return for TSLA: 0.0033\n",
      "Average daily return for META: 0.0034\n",
      "Average daily return for NVDA: 0.0050\n",
      "Average daily return for NFLX: 0.0024\n",
      "Average daily return for AMD: 0.0017\n",
      "Average daily return for IBM: 0.0011\n",
      "\n",
      "Covariance Matrix:\n",
      "Ticker      AAPL       AMD      AMZN     GOOGL       IBM      META      MSFT  \\\n",
      "Ticker                                                                         \n",
      "AAPL    0.000181  0.000136  0.000101  0.000109  0.000025  0.000123  0.000097   \n",
      "AMD     0.000136  0.000895  0.000245  0.000213  0.000081  0.000295  0.000199   \n",
      "AMZN    0.000101  0.000245  0.000372  0.000204  0.000042  0.000269  0.000171   \n",
      "GOOGL   0.000109  0.000213  0.000204  0.000339  0.000021  0.000225  0.000141   \n",
      "IBM     0.000025  0.000081  0.000042  0.000021  0.000158  0.000053  0.000033   \n",
      "META    0.000123  0.000295  0.000269  0.000225  0.000053  0.000579  0.000189   \n",
      "MSFT    0.000097  0.000199  0.000171  0.000141  0.000033  0.000189  0.000204   \n",
      "NFLX    0.000103  0.000231  0.000157  0.000123  0.000040  0.000166  0.000122   \n",
      "NVDA    0.000147  0.000590  0.000249  0.000211  0.000059  0.000303  0.000225   \n",
      "TSLA    0.000186  0.000329  0.000241  0.000196  0.000007  0.000227  0.000159   \n",
      "\n",
      "Ticker      NFLX      NVDA      TSLA  \n",
      "Ticker                                \n",
      "AAPL    0.000103  0.000147  0.000186  \n",
      "AMD     0.000231  0.000590  0.000329  \n",
      "AMZN    0.000157  0.000249  0.000241  \n",
      "GOOGL   0.000123  0.000211  0.000196  \n",
      "IBM     0.000040  0.000059  0.000007  \n",
      "META    0.000166  0.000303  0.000227  \n",
      "MSFT    0.000122  0.000225  0.000159  \n",
      "NFLX    0.000454  0.000246  0.000191  \n",
      "NVDA    0.000246  0.001012  0.000349  \n",
      "TSLA    0.000191  0.000349  0.001349  \n"
     ]
    }
   ],
   "source": [
    "returns = close_prices.pct_change().dropna()\n",
    "mean_returns = returns.mean()\n",
    "for ticker in tickers:\n",
    "    print(f\"Average daily return for {ticker}: {mean_returns[ticker]:.4f}\")\n",
    "cov_matrix = returns.cov()\n",
    "print(\"\\nCovariance Matrix:\")   \n",
    "print(cov_matrix)"
   ]
  },
  {
   "cell_type": "code",
   "execution_count": 6,
   "id": "9f0d3ce0",
   "metadata": {},
   "outputs": [],
   "source": [
    "Sigma = cov_matrix.to_numpy()"
   ]
  },
  {
   "cell_type": "markdown",
   "id": "42e3cb42",
   "metadata": {},
   "source": [
    "QUBO (quadratic unconstrained binary optimization)"
   ]
  },
  {
   "cell_type": "code",
   "execution_count": 7,
   "id": "7b6f148f",
   "metadata": {},
   "outputs": [
    {
     "name": "stdout",
     "output_type": "stream",
     "text": [
      "\n",
      "Asset Prices on Last Day:\n",
      "AAPL: $249.82\n",
      "MSFT: $419.89\n",
      "GOOGL: $189.08\n",
      "AMZN: $219.39\n",
      "TSLA: $403.84\n",
      "META: $584.99\n",
      "NVDA: $134.28\n",
      "NFLX: $891.32\n",
      "AMD: $120.79\n",
      "IBM: $216.93\n",
      "Maximum number of shares for AAPL with budget $20000: 80.0\n",
      "Maximum number of shares for MSFT with budget $20000: 47.0\n",
      "Maximum number of shares for GOOGL with budget $20000: 105.0\n",
      "Maximum number of shares for AMZN with budget $20000: 91.0\n",
      "Maximum number of shares for TSLA with budget $20000: 49.0\n",
      "Maximum number of shares for META with budget $20000: 34.0\n",
      "Maximum number of shares for NVDA with budget $20000: 148.0\n",
      "Maximum number of shares for NFLX with budget $20000: 22.0\n",
      "Maximum number of shares for AMD with budget $20000: 165.0\n",
      "Maximum number of shares for IBM with budget $20000: 92.0\n"
     ]
    }
   ],
   "source": [
    "import numpy as np\n",
    "last_day = close_prices.iloc[-1]\n",
    "asset_prices = [(ticker, last_day[ticker]) for ticker in tickers]\n",
    "print(\"\\nAsset Prices on Last Day:\")\n",
    "for ticker, price in asset_prices:\n",
    "    print(f\"{ticker}: ${price:.2f}\")\n",
    "\n",
    "#calculate n_i max for each asset:\n",
    "n_i_max_list = []\n",
    "for ticker, price in asset_prices:\n",
    "    n_i_max = budget // price\n",
    "    n_i_max_list.append((ticker, n_i_max))\n",
    "    print(f\"Maximum number of shares for {ticker} with budget ${budget}: {n_i_max}\")\n"
   ]
  },
  {
   "cell_type": "code",
   "execution_count": 8,
   "id": "cf7113ee",
   "metadata": {},
   "outputs": [
    {
     "name": "stdout",
     "output_type": "stream",
     "text": [
      "Value of d_i for AAPL: 6\n",
      "Value of d_i for MSFT: 5\n",
      "Value of d_i for GOOGL: 6\n",
      "Value of d_i for AMZN: 6\n",
      "Value of d_i for TSLA: 5\n",
      "Value of d_i for META: 5\n",
      "Value of d_i for NVDA: 7\n",
      "Value of d_i for NFLX: 4\n",
      "Value of d_i for AMD: 7\n",
      "Value of d_i for IBM: 6\n"
     ]
    }
   ],
   "source": [
    "d_i_list = []\n",
    "for ticker, n_i_max in n_i_max_list:\n",
    "    if n_i_max > 0:\n",
    "        d_i = int(np.floor(np.log2(n_i_max)))\n",
    "    else:\n",
    "        d_i = 0\n",
    "    d_i_list.append((ticker, d_i))\n",
    "    print(f\"Value of d_i for {ticker}: {d_i}\")\n"
   ]
  },
  {
   "cell_type": "code",
   "execution_count": 9,
   "id": "762099c9",
   "metadata": {},
   "outputs": [
    {
     "name": "stdout",
     "output_type": "stream",
     "text": [
      "\n",
      "Total number of bits required for all assets: 67\n"
     ]
    }
   ],
   "source": [
    "d_values = [d_i for _, d_i in d_i_list]\n",
    "num_assets = len(d_values)\n",
    "total_bits = sum(d+ 1 for d in d_values)\n",
    "print(f\"\\nTotal number of bits required for all assets: {total_bits}\")"
   ]
  },
  {
   "cell_type": "markdown",
   "id": "36f2ef9b",
   "metadata": {},
   "source": [
    "constructing the encoding matrix $C$"
   ]
  },
  {
   "cell_type": "code",
   "execution_count": 10,
   "id": "7ab972d8",
   "metadata": {},
   "outputs": [],
   "source": [
    "C = np.zeros((num_assets, total_bits))\n",
    "\n",
    "col = 0 \n",
    "\n",
    "for i, d in enumerate(d_values):\n",
    "    for j in range(d+1):\n",
    "        C[i, col] = 2 ** j\n",
    "        col += 1\n"
   ]
  },
  {
   "cell_type": "markdown",
   "id": "de8c94a3",
   "metadata": {},
   "source": [
    "Calculating \n",
    "$$\n",
    "P'= P/B \\\\\n",
    "\\mu' = P' \\circ \\mu \\\\\n",
    "\\Sigma' = (P' \\circ \\Sigma)^T \\circ P'\\\\\n",
    "\\mu^{\\prime\\prime} = C^T \\mu' \\\\\n",
    "\\Sigma'' = C^T \\Sigma'C \\\\\n",
    "P'' = C^T P'\n",
    "$$"
   ]
  },
  {
   "cell_type": "code",
   "execution_count": 11,
   "id": "c0710719",
   "metadata": {},
   "outputs": [
    {
     "name": "stdout",
     "output_type": "stream",
     "text": [
      "\n",
      "Scaled expected return vector µ′:\n",
      "AAPL     0.000019\n",
      "MSFT     0.000027\n",
      "GOOGL    0.000016\n",
      "AMZN     0.000023\n",
      "TSLA     0.000067\n",
      "META     0.000099\n",
      "NVDA     0.000033\n",
      "NFLX     0.000108\n",
      "AMD      0.000010\n",
      "IBM      0.000012\n",
      "dtype: float64\n"
     ]
    }
   ],
   "source": [
    "# List P of current prices of assets \n",
    "P = np.array([price for _, price in asset_prices])\n",
    "P_prime = P / budget\n",
    "P_double_prime = C.T @ P_prime\n",
    "\n",
    "\n",
    "mu = np.array([mean_returns[ticker] for ticker in tickers])\n",
    "mu_prime = P_prime * mu \n",
    "\n",
    "mu_prime_series = pd.Series(mu_prime, index=tickers)\n",
    "\n",
    "\n",
    "print(\"\\nScaled expected return vector µ′:\")\n",
    "print(mu_prime_series)\n",
    "\n"
   ]
  },
  {
   "cell_type": "code",
   "execution_count": 13,
   "id": "ee77da1a",
   "metadata": {},
   "outputs": [],
   "source": [
    "P_prime_sigma = P_prime * Sigma\n",
    "Sigma_prime = P_prime_sigma.T * P_prime \n",
    "\n",
    "mu_double_prime = C.T @ mu_prime\n",
    "\n",
    "Sigma_double_prime = C.T @ Sigma_prime @ C\n"
   ]
  },
  {
   "cell_type": "code",
   "execution_count": null,
   "id": "498540e8",
   "metadata": {},
   "outputs": [],
   "source": []
  }
 ],
 "metadata": {
  "kernelspec": {
   "display_name": "new_qiskit_env",
   "language": "python",
   "name": "python3"
  },
  "language_info": {
   "codemirror_mode": {
    "name": "ipython",
    "version": 3
   },
   "file_extension": ".py",
   "mimetype": "text/x-python",
   "name": "python",
   "nbconvert_exporter": "python",
   "pygments_lexer": "ipython3",
   "version": "3.12.4"
  }
 },
 "nbformat": 4,
 "nbformat_minor": 5
}
