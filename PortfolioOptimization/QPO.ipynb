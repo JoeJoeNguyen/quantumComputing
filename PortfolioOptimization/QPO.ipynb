{
 "cells": [
  {
   "cell_type": "code",
   "execution_count": 22,
   "id": "8829d91c",
   "metadata": {},
   "outputs": [],
   "source": [
    "import yfinance as yf"
   ]
  },
  {
   "cell_type": "code",
   "execution_count": 23,
   "id": "8d3b370a",
   "metadata": {},
   "outputs": [],
   "source": [
    "#constraints\n",
    "\n",
    "budget = 2000\n",
    "risk_tolerance = 0.5 # q \n",
    "penalty = 1 #lambda "
   ]
  },
  {
   "cell_type": "code",
   "execution_count": 24,
   "id": "adaec496",
   "metadata": {},
   "outputs": [],
   "source": [
    "#calculating the return\n",
    "def daily_returns(yesterday, today):\n",
    "    if yesterday == 0:\n",
    "        return 0\n",
    "    return (today - yesterday) / yesterday\n",
    "\n",
    "def expected_return(days, list_of_returns):\n",
    "    return sum(list_of_returns) / days\n",
    "\n",
    "def variance_of_asset(list_of_returns, days):\n",
    "    mean_return = expected_return(days, list_of_returns)\n",
    "    return sum((r - mean_return) ** 2 for r in list_of_returns) / days\n",
    "\n",
    "def covariance(asset1_returns, asset2_returns, days):\n",
    "    mean_asset1 = expected_return(days, asset1_returns)\n",
    "    mean_asset2 = expected_return(days, asset2_returns)\n",
    "    return sum((asset1_returns[i] - mean_asset1) * (asset2_returns[i] - mean_asset2) for i in range(days)) / days"
   ]
  },
  {
   "cell_type": "code",
   "execution_count": 25,
   "id": "d58510a1",
   "metadata": {},
   "outputs": [
    {
     "name": "stderr",
     "output_type": "stream",
     "text": [
      "[*********************100%***********************]  4 of 4 completed"
     ]
    },
    {
     "name": "stdout",
     "output_type": "stream",
     "text": [
      "Average daily return for AAPL: 0.0015\n",
      "Variance of daily returns for AAPL: 0.0002\n",
      "Average daily return for IBM: 0.0011\n",
      "Variance of daily returns for IBM: 0.0002\n",
      "Average daily return for NFLX: 0.0024\n",
      "Variance of daily returns for NFLX: 0.0005\n",
      "Average daily return for TSLA: 0.0033\n",
      "Variance of daily returns for TSLA: 0.0013\n"
     ]
    },
    {
     "name": "stderr",
     "output_type": "stream",
     "text": [
      "\n"
     ]
    }
   ],
   "source": [
    "import pandas as pd\n",
    "\n",
    "tickers = ['AAPL', 'IBM', 'NFLX', 'TSLA']\n",
    "data = yf.download(tickers, start=\"2023-01-01\", end=\"2025-01-01\")\n",
    "\n",
    "close_prices = data['Close']\n",
    "\n",
    "#close_prices = close_prices.pct_change().dropna()\n",
    "\n",
    "def compute_return_and_variance(ticker, close_prices):\n",
    "    list_of_returns = []\n",
    "    for i in range(1, len(close_prices[ticker])):\n",
    "        daily_return = daily_returns(close_prices[ticker].iloc[i-1], close_prices[ticker].iloc[i])\n",
    "        list_of_returns.append(daily_return)\n",
    "    average_return = expected_return(len(list_of_returns), list_of_returns)\n",
    "    variance = variance_of_asset(list_of_returns, len(list_of_returns))\n",
    "    print(f\"Average daily return for {ticker}: {average_return:.4f}\")\n",
    "    print(f\"Variance of daily returns for {ticker}: {variance:.4f}\")\n",
    "    return average_return, variance\n",
    "\n",
    "for ticker in tickers:\n",
    "    compute_return_and_variance(ticker, close_prices)\n",
    "\n",
    "\n"
   ]
  },
  {
   "cell_type": "markdown",
   "id": "7c20c0ce",
   "metadata": {},
   "source": [
    "another way of calculating returns"
   ]
  },
  {
   "cell_type": "code",
   "execution_count": 26,
   "id": "e7253dc9",
   "metadata": {},
   "outputs": [
    {
     "name": "stdout",
     "output_type": "stream",
     "text": [
      "Average daily return for AAPL: 0.0015\n",
      "Average daily return for IBM: 0.0011\n",
      "Average daily return for NFLX: 0.0024\n",
      "Average daily return for TSLA: 0.0033\n",
      "\n",
      "Covariance Matrix:\n",
      "Ticker      AAPL       IBM      NFLX      TSLA\n",
      "Ticker                                        \n",
      "AAPL    0.000181  0.000025  0.000103  0.000186\n",
      "IBM     0.000025  0.000158  0.000040  0.000007\n",
      "NFLX    0.000103  0.000040  0.000454  0.000191\n",
      "TSLA    0.000186  0.000007  0.000191  0.001349\n"
     ]
    }
   ],
   "source": [
    "returns = close_prices.pct_change().dropna()\n",
    "mean_returns = returns.mean()\n",
    "for ticker in tickers:\n",
    "    print(f\"Average daily return for {ticker}: {mean_returns[ticker]:.4f}\")\n",
    "cov_matrix = returns.cov()\n",
    "print(\"\\nCovariance Matrix:\")   \n",
    "print(cov_matrix)"
   ]
  },
  {
   "cell_type": "code",
   "execution_count": 27,
   "id": "9f0d3ce0",
   "metadata": {},
   "outputs": [],
   "source": [
    "Sigma = cov_matrix.to_numpy()"
   ]
  },
  {
   "cell_type": "markdown",
   "id": "42e3cb42",
   "metadata": {},
   "source": [
    "QUBO (quadratic unconstrained binary optimization)"
   ]
  },
  {
   "cell_type": "code",
   "execution_count": 28,
   "id": "7b6f148f",
   "metadata": {},
   "outputs": [
    {
     "name": "stdout",
     "output_type": "stream",
     "text": [
      "\n",
      "Asset Prices on Last Day:\n",
      "AAPL: $249.82\n",
      "IBM: $216.93\n",
      "NFLX: $891.32\n",
      "TSLA: $403.84\n",
      "Maximum number of shares for AAPL with budget $2000: 8.0\n",
      "Maximum number of shares for IBM with budget $2000: 9.0\n",
      "Maximum number of shares for NFLX with budget $2000: 2.0\n",
      "Maximum number of shares for TSLA with budget $2000: 4.0\n"
     ]
    }
   ],
   "source": [
    "import numpy as np\n",
    "last_day = close_prices.iloc[-1]\n",
    "asset_prices = [(ticker, last_day[ticker]) for ticker in tickers]\n",
    "print(\"\\nAsset Prices on Last Day:\")\n",
    "for ticker, price in asset_prices:\n",
    "    print(f\"{ticker}: ${price:.2f}\")\n",
    "\n",
    "#calculate n_i max for each asset:\n",
    "n_i_max_list = []\n",
    "for ticker, price in asset_prices:\n",
    "    n_i_max = np.floor(budget / price)\n",
    "    n_i_max_list.append((ticker, n_i_max))\n",
    "    print(f\"Maximum number of shares for {ticker} with budget ${budget}: {n_i_max}\")\n"
   ]
  },
  {
   "cell_type": "code",
   "execution_count": 29,
   "id": "cf7113ee",
   "metadata": {},
   "outputs": [
    {
     "name": "stdout",
     "output_type": "stream",
     "text": [
      "Value of d_i for AAPL: 3\n",
      "Value of d_i for IBM: 3\n",
      "Value of d_i for NFLX: 1\n",
      "Value of d_i for TSLA: 2\n"
     ]
    }
   ],
   "source": [
    "d_i_list = []\n",
    "for ticker, n_i_max in n_i_max_list:\n",
    "    if n_i_max > 0:\n",
    "        d_i = int(np.floor(np.log2(n_i_max)))\n",
    "    else:\n",
    "        d_i = 0\n",
    "    d_i_list.append((ticker, d_i))\n",
    "    print(f\"Value of d_i for {ticker}: {d_i}\")\n"
   ]
  },
  {
   "cell_type": "code",
   "execution_count": 30,
   "id": "762099c9",
   "metadata": {},
   "outputs": [
    {
     "name": "stdout",
     "output_type": "stream",
     "text": [
      "\n",
      "Total number of bits required for all assets: 13\n"
     ]
    }
   ],
   "source": [
    "d_values = [d_i for _, d_i in d_i_list]\n",
    "num_assets = len(d_values)\n",
    "total_bits = sum(d+ 1 for d in d_values)\n",
    "print(f\"\\nTotal number of bits required for all assets: {total_bits}\")"
   ]
  },
  {
   "cell_type": "markdown",
   "id": "36f2ef9b",
   "metadata": {},
   "source": [
    "constructing the encoding matrix $C$"
   ]
  },
  {
   "cell_type": "code",
   "execution_count": 31,
   "id": "7ab972d8",
   "metadata": {},
   "outputs": [],
   "source": [
    "C = np.zeros((num_assets, total_bits))\n",
    "\n",
    "col = 0 \n",
    "\n",
    "for i, d in enumerate(d_values):\n",
    "    for j in range(d+1):\n",
    "        C[i, col] = 2 ** j\n",
    "        col += 1\n"
   ]
  },
  {
   "cell_type": "markdown",
   "id": "de8c94a3",
   "metadata": {},
   "source": [
    "Calculating \n",
    "$$\n",
    "P'= P/B \\\\\n",
    "\\mu' = P' \\circ \\mu \\\\\n",
    "\\Sigma' = (P' \\circ \\Sigma)^T \\circ P'\\\\\n",
    "\\mu^{\\prime\\prime} = C^T \\mu' \\\\\n",
    "\\Sigma'' = C^T \\Sigma'C \\\\\n",
    "P'' = C^T P'\n",
    "$$"
   ]
  },
  {
   "cell_type": "code",
   "execution_count": 32,
   "id": "c0710719",
   "metadata": {},
   "outputs": [
    {
     "name": "stdout",
     "output_type": "stream",
     "text": [
      "\n",
      "Scaled expected return vector µ′:\n",
      "AAPL    0.000187\n",
      "IBM     0.000122\n",
      "NFLX    0.001084\n",
      "TSLA    0.000666\n",
      "dtype: float64\n"
     ]
    }
   ],
   "source": [
    "# List P of current prices of assets \n",
    "P = np.array([price for _, price in asset_prices])\n",
    "P_prime = P / budget\n",
    "P_double_prime = C.T @ P_prime\n",
    "\n",
    "\n",
    "mu = np.array([mean_returns[ticker] for ticker in tickers])\n",
    "mu_prime = P_prime * mu \n",
    "\n",
    "mu_prime_series = pd.Series(mu_prime, index=tickers)\n",
    "\n",
    "\n",
    "print(\"\\nScaled expected return vector µ′:\")\n",
    "print(mu_prime_series)\n",
    "\n"
   ]
  },
  {
   "cell_type": "code",
   "execution_count": 33,
   "id": "ee77da1a",
   "metadata": {},
   "outputs": [],
   "source": [
    "P_prime_sigma = P_prime * Sigma\n",
    "Sigma_prime = P_prime_sigma.T * P_prime \n",
    "\n",
    "mu_double_prime = C.T @ mu_prime\n",
    "\n",
    "Sigma_double_prime = C.T @ Sigma_prime @ C\n"
   ]
  },
  {
   "cell_type": "markdown",
   "id": "32cdb4ce",
   "metadata": {},
   "source": [
    "Constructing the Hamiltonian"
   ]
  },
  {
   "cell_type": "code",
   "execution_count": 34,
   "id": "498540e8",
   "metadata": {},
   "outputs": [
    {
     "data": {
      "image/png": "[encoded data removed]",
      "text/plain": [
       "<Figure size 1309.06x1120.39 with 1 Axes>"
      ]
     },
     "execution_count": 34,
     "metadata": {},
     "output_type": "execute_result"
    }
   ],
   "source": [
    "from qiskit.quantum_info import SparsePauliOp, Pauli\n",
    "#Constraints\n",
    "pi = 0.5 * P_double_prime\n",
    "beta1= 1 \n",
    "n = len(P_double_prime) #total number of binary variables\n",
    "\n",
    "#QUBO terms\n",
    "h_q = mu_double_prime - 2 * penalty * P_double_prime #linear term\n",
    "Q_q = -risk_tolerance * Sigma_double_prime + penalty * np.outer(P_double_prime, P_double_prime) #quadratic term\n",
    "\n",
    "\n",
    "h_ising = np.zeros(n)\n",
    "J_ising = np.zeros((n, n))\n",
    "for i in range(n):\n",
    "    h_ising[i] = 0.5 * h_q[i] + 0.5 * np.sum(Q_q[i])\n",
    "    for j in range(i + 1, n):\n",
    "        J_ising[i, j] = 0.25 * Q_q[i, j]\n",
    "\n",
    "for i in range(n):\n",
    "    h_ising[i] += -2 * penalty * beta1 * pi[i]\n",
    "    for j in range(i + 1, n):\n",
    "        J_ising[i, j] += 2 * penalty * pi[i] * pi[j]\n",
    "\n",
    "\n",
    "# Build dictionary of Pauli terms\n",
    "pauli_dict = {}\n",
    "\n",
    "# Z_i terms\n",
    "for i in range(n):\n",
    "    label = ['I'] * n\n",
    "    label[n - i - 1] = 'Z'  # note Qiskit uses reversed qubit order\n",
    "    pauli_str = ''.join(label)\n",
    "    pauli_dict[pauli_str] = pauli_dict.get(pauli_str, 0) + h_ising[i]\n",
    "\n",
    "# Z_i Z_j terms\n",
    "for i in range(n):\n",
    "    for j in range(i + 1, n):\n",
    "        if J_ising[i, j] != 0:\n",
    "            label = ['I'] * n\n",
    "            label[n - i - 1] = 'Z'\n",
    "            label[n - j - 1] = 'Z'\n",
    "            pauli_str = ''.join(label)\n",
    "            pauli_dict[pauli_str] = pauli_dict.get(pauli_str, 0) + J_ising[i, j]\n",
    "\n",
    "# Create SparsePauliOp\n",
    "pauli_terms = list(pauli_dict.items())\n",
    "hamiltonian = SparsePauliOp.from_list(pauli_terms)\n",
    "\n",
    "from qiskit.circuit.library import RealAmplitudes\n",
    "from qiskit_algorithms import VQE\n",
    "from qiskit_algorithms.optimizers import COBYLA\n",
    "from qiskit.primitives import StatevectorEstimator, Sampler\n",
    "from qiskit.quantum_info import Operator\n",
    "estimator = StatevectorEstimator()\n",
    "ansatz = RealAmplitudes(hamiltonian.num_qubits, reps=1)\n",
    "optimizer = COBYLA()\n",
    "ansatz.decompose().draw('mpl')\n",
    "\n",
    "\n",
    "\n"
   ]
  },
  {
   "cell_type": "code",
   "execution_count": 35,
   "id": "22976827",
   "metadata": {},
   "outputs": [
    {
     "data": {
      "text/latex": [
       "$$\n",
       "\n",
       "\\begin{bmatrix}\n",
       "20.1273270039 & 0 & 0 & 0 & \\cdots & 0 & 0 & 0  \\\\\n",
       " 0 & 18.6982281467 & 0 & 0 & \\cdots & 0 & 0 & 0  \\\\\n",
       " 0 & 0 & 17.3159344156 & 0 & \\cdots & 0 & 0 & 0  \\\\\n",
       " 0 & 0 & 0 & 15.9804458107 & \\cdots & 0 & 0 & 0  \\\\\n",
       " \\vdots & \\vdots & \\vdots & \\vdots & \\ddots & \\vdots & \\vdots & \\vdots \\\\\n",
       " 0 & 0 & 0 & 0 & \\cdots & 4.3608882309 & 0 & 0  \\\\\n",
       " 0 & 0 & 0 & 0 & \\cdots & 0 & 5.1805569362 & 0  \\\\\n",
       " 0 & 0 & 0 & 0 & \\cdots & 0 & 0 & 6.0470307678  \\\\\n",
       " \\end{bmatrix}\n",
       "$$"
      ],
      "text/plain": [
       "<IPython.core.display.Latex object>"
      ]
     },
     "execution_count": 35,
     "metadata": {},
     "output_type": "execute_result"
    }
   ],
   "source": [
    "Operator(hamiltonian).draw('latex')"
   ]
  },
  {
   "cell_type": "code",
   "execution_count": 36,
   "id": "adfb6331",
   "metadata": {},
   "outputs": [],
   "source": [
    "\n",
    "#second hamiltonian\n",
    "h = -0.5 * mu_double_prime + penalty * P_double_prime * (1 - P_double_prime)\n",
    "J = 0.25 * risk_tolerance * Sigma_double_prime + 0.25 * penalty * np.outer(P_double_prime, P_double_prime)\n",
    "beta2 = 1\n",
    "const_term = -penalty * beta2**2\n",
    "pi = 0.5 * P_double_prime\n",
    "\n",
    "\n",
    "pauli_dict = {}\n",
    "# Add Z_i terms from constraint penalty: -2λβ ∑ γ_i Z_i\n",
    "for i in range(n):\n",
    "    label = ['I'] * n\n",
    "    label[n - i - 1] = 'Z'\n",
    "    pauli_str = ''.join(label)\n",
    "    pauli_dict[pauli_str] = pauli_dict.get(pauli_str, 0) - 2 * penalty * beta2 * pi[i]\n",
    "\n",
    "# Add Z_i Z_j terms from constraint penalty: λ ∑ γ_i γ_j Z_i Z_j\n",
    "for i in range(n):\n",
    "    for j in range(i, n):\n",
    "        factor = penalty * pi[i] * pi[j]\n",
    "        label = ['I'] * n\n",
    "        label[n - i - 1] = 'Z'\n",
    "        label[n - j - 1] = 'Z'\n",
    "        pauli_str = ''.join(label)\n",
    "        pauli_dict[pauli_str] = pauli_dict.get(pauli_str, 0) + factor\n",
    "\n",
    "# Add constant term: λβ²\n",
    "pauli_dict['I' * n] = pauli_dict.get('I' * n, 0) + const_term\n",
    "\n",
    "\n",
    "pauli_terms = list(pauli_dict.items())\n",
    "hamiltonian2 = SparsePauliOp.from_list(pauli_terms)"
   ]
  },
  {
   "cell_type": "code",
   "execution_count": 37,
   "id": "88959431",
   "metadata": {},
   "outputs": [
    {
     "data": {
      "text/latex": [
       "$$\n",
       "\n",
       "\\begin{bmatrix}\n",
       "-1.844670849 & 0 & 0 & 0 & \\cdots & 0 & 0 & 0  \\\\\n",
       " 0 & -1.9852578898 & 0 & 0 & \\cdots & 0 & 0 & 0  \\\\\n",
       " 0 & 0 & -2.1258449305 & 0 & \\cdots & 0 & 0 & 0  \\\\\n",
       " 0 & 0 & 0 & -2.2352276127 & \\cdots & 0 & 0 & 0  \\\\\n",
       " \\vdots & \\vdots & \\vdots & \\vdots & \\ddots & \\vdots & \\vdots & \\vdots \\\\\n",
       " 0 & 0 & 0 & 0 & \\cdots & 7.3516359326 & 0 & 0  \\\\\n",
       " 0 & 0 & 0 & 0 & \\cdots & 0 & 7.9450511707 & 0  \\\\\n",
       " 0 & 0 & 0 & 0 & \\cdots & 0 & 0 & 8.5696707672  \\\\\n",
       " \\end{bmatrix}\n",
       "$$"
      ],
      "text/plain": [
       "<IPython.core.display.Latex object>"
      ]
     },
     "execution_count": 37,
     "metadata": {},
     "output_type": "execute_result"
    }
   ],
   "source": [
    "Operator(hamiltonian2).draw('latex')"
   ]
  },
  {
   "cell_type": "code",
   "execution_count": 38,
   "id": "4df1463d",
   "metadata": {},
   "outputs": [],
   "source": [
    "cost_history_dict = {\n",
    "    \"prev_vector\": None,\n",
    "    \"iters\": 0,\n",
    "    \"cost_history\": [],\n",
    "    \"parameters\": [],\n",
    "}\n",
    "\n",
    "def cost_func_vqe(parameters, ansatz, hamiltonian, estimator):\n",
    "    \"\"\"Return estimate of energy from estimator\n",
    "\n",
    "    Parameters:\n",
    "        params (ndarray): Array of ansatz parameters\n",
    "        ansatz (QuantumCircuit): Parameterized ansatz circuit\n",
    "        hamiltonian (SparsePauliOp): Operator representation of Hamiltonian\n",
    "        estimator (Estimator): Estimator primitive instance\n",
    "\n",
    "    Returns:\n",
    "        float: Energy estimate\n",
    "    \"\"\"\n",
    "\n",
    "    estimator_job = estimator.run([(ansatz, hamiltonian, [parameters])])\n",
    "    estimator_result = estimator_job.result()[0]\n",
    "\n",
    "    cost = estimator_result.data.evs[0]\n",
    "    cost_history_dict[\"iters\"] += 1\n",
    "    cost_history_dict[\"prev_vector\"] = parameters\n",
    "    cost_history_dict[\"cost_history\"].append(cost)\n",
    "    cost_history_dict[\"parameters\"].append(parameters)\n",
    "    return cost"
   ]
  },
  {
   "cell_type": "code",
   "execution_count": 39,
   "id": "2893d227",
   "metadata": {},
   "outputs": [
    {
     "name": "stdout",
     "output_type": "stream",
     "text": [
      " message: Optimization terminated successfully.\n",
      " success: True\n",
      "  status: 1\n",
      "     fun: -3.0510882881937245\n",
      "       x: [ 7.225e-06  5.610e-05 ... -3.142e+00  3.718e+00]\n",
      "    nfev: 1029\n",
      "   maxcv: 0.0\n",
      "   Normal return from subroutine COBYLA\n",
      "\n",
      "   NFVALS = 1029   F =-3.051088E+00    MAXCV = 0.000000E+00\n",
      "   X = 7.225331E-06   5.609716E-05  -8.364934E-06   3.141563E+00   3.153175E-05\n",
      "       3.141582E+00   3.141555E+00   3.141623E+00   4.768915E-05  -7.639077E-06\n",
      "       3.332943E-06   3.141568E+00   5.768051E-01  -1.205192E-05  -2.879219E-06\n",
      "       1.033219E-05  -3.141625E+00  -3.141279E+00   3.141707E+00  -5.942692E-06\n",
      "       3.141538E+00   3.141571E+00  -3.141606E+00   4.690272E-05  -3.141591E+00\n",
      "       3.718437E+00\n",
      "\n"
     ]
    }
   ],
   "source": [
    "from scipy.optimize import minimize\n",
    "import numpy as np\n",
    "from qiskit_aer import Aer\n",
    "initial_params = np.random.uniform(low= -np.pi, high=np.pi, size=ansatz.num_parameters)\n",
    "result = minimize(cost_func_vqe, initial_params, args=(ansatz, hamiltonian2, estimator), method=\"COBYLA\",options={'maxiter': 50000, 'disp': True})\n",
    "print(result)\n",
    "\n"
   ]
  },
  {
   "cell_type": "markdown",
   "id": "d0e45517",
   "metadata": {},
   "source": [
    "$$\n",
    "n = Cb\n",
    "$$\n",
    "Where $C$ is the conversion matrix, $b$ is the binary sequence generated from the opimized circuit and $n$ is the shares vector "
   ]
  },
  {
   "cell_type": "code",
   "execution_count": 40,
   "id": "e2137d38",
   "metadata": {},
   "outputs": [
    {
     "name": "stdout",
     "output_type": "stream",
     "text": [
      "Most likely bitstring: 0001010000000\n",
      "\n",
      "Optimal number of shares to buy for each asset:\n",
      "AAPL: 8 shares\n",
      "IBM: 2 shares\n",
      "NFLX: 0 shares\n",
      "TSLA: 0 shares\n"
     ]
    }
   ],
   "source": [
    "from qiskit.quantum_info import Statevector\n",
    "from qiskit import transpile\n",
    "# Assign optimal parameters to ansatz\n",
    "final_circuit = ansatz.assign_parameters(result.x)\n",
    "\n",
    "final_circuit.measure_all()\n",
    "simluator = Aer.get_backend('qasm_simulator')\n",
    "transpiled_circuit = transpile(final_circuit, simluator)\n",
    "job_state = simluator.run(transpiled_circuit, shots=1000)\n",
    "\n",
    "result = job_state.result()\n",
    "\n",
    "counts = result.get_counts(final_circuit)\n",
    "\n",
    "bitstring = max(counts, key=counts.get)\n",
    "#bitstring = bitstring[::-1]  # reverse Qiskit \n",
    "\n",
    "print(\"Most likely bitstring:\", bitstring)\n",
    "\n",
    "# Convert to vector\n",
    "b = np.array([int(bit) for bit in bitstring])\n",
    "n = C @ b\n",
    "print(\"\\nOptimal number of shares to buy for each asset:\")\n",
    "for i, ticker in enumerate(tickers):\n",
    "    print(f\"{ticker}: {int(n[i])} shares\")"
   ]
  },
  {
   "cell_type": "code",
   "execution_count": 41,
   "id": "f30837b6",
   "metadata": {},
   "outputs": [
    {
     "data": {
      "image/png": "[encoded data removed]",
      "text/plain": [
       "<Figure size 640x480 with 1 Axes>"
      ]
     },
     "execution_count": 41,
     "metadata": {},
     "output_type": "execute_result"
    }
   ],
   "source": [
    "from qiskit.visualization import plot_histogram\n",
    "plot_histogram(counts)"
   ]
  },
  {
   "cell_type": "code",
   "execution_count": 43,
   "id": "f9c5b28c",
   "metadata": {},
   "outputs": [
    {
     "name": "stdout",
     "output_type": "stream",
     "text": [
      "\n",
      "Total cost of the portfolio (scaled, normalized): 1.2162\n",
      "Objective function value with penalty: -0.0467\n"
     ]
    }
   ],
   "source": [
    "\n",
    "total_cost_scaled = P_double_prime.T @ b\n",
    "print(f\"\\nTotal cost of the portfolio (scaled, normalized): {total_cost_scaled:.4f}\") \n",
    "objective_function_penalty = -penalty*(P_double_prime.T @ b - 1)**2\n",
    "print(f\"Objective function value with penalty: {objective_function_penalty:.4f}\")"
   ]
  },
  {
   "cell_type": "code",
   "execution_count": null,
   "id": "e3d9668c",
   "metadata": {},
   "outputs": [],
   "source": []
  }
 ],
 "metadata": {
  "kernelspec": {
   "display_name": "new_qiskit_env",
   "language": "python",
   "name": "python3"
  },
  "language_info": {
   "codemirror_mode": {
    "name": "ipython",
    "version": 3
   },
   "file_extension": ".py",
   "mimetype": "text/x-python",
   "name": "python",
   "nbconvert_exporter": "python",
   "pygments_lexer": "ipython3",
   "version": "3.12.4"
  }
 },
 "nbformat": 4,
 "nbformat_minor": 5
}
